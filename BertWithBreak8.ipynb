{
  "nbformat": 4,
  "nbformat_minor": 0,
  "metadata": {
    "colab": {
      "provenance": [],
      "mount_file_id": "1nS1Vxxy7yra-z2H436oHl7KMAxT_QAU6",
      "authorship_tag": "ABX9TyMu0zX4JeRiY9jR4jLqIGRX",
      "include_colab_link": true
    },
    "kernelspec": {
      "name": "python3",
      "display_name": "Python 3"
    },
    "language_info": {
      "name": "python"
    },
    "widgets": {
      "application/vnd.jupyter.widget-state+json": {
        "36d6f671579a4905b73c18008459cb72": {
          "model_module": "@jupyter-widgets/controls",
          "model_name": "HBoxModel",
          "model_module_version": "1.5.0",
          "state": {
            "_dom_classes": [],
            "_model_module": "@jupyter-widgets/controls",
            "_model_module_version": "1.5.0",
            "_model_name": "HBoxModel",
            "_view_count": null,
            "_view_module": "@jupyter-widgets/controls",
            "_view_module_version": "1.5.0",
            "_view_name": "HBoxView",
            "box_style": "",
            "children": [
              "IPY_MODEL_6a949ea3575444d8945f74ab1153c4fa",
              "IPY_MODEL_fdd22a337d9c4bb4a7e3de81b1baab2e",
              "IPY_MODEL_0f8f967ec7fc4cb6ae5114d40cb9dba3"
            ],
            "layout": "IPY_MODEL_9a4fd9a9141446b1901c3862ba1cedc6"
          }
        },
        "6a949ea3575444d8945f74ab1153c4fa": {
          "model_module": "@jupyter-widgets/controls",
          "model_name": "HTMLModel",
          "model_module_version": "1.5.0",
          "state": {
            "_dom_classes": [],
            "_model_module": "@jupyter-widgets/controls",
            "_model_module_version": "1.5.0",
            "_model_name": "HTMLModel",
            "_view_count": null,
            "_view_module": "@jupyter-widgets/controls",
            "_view_module_version": "1.5.0",
            "_view_name": "HTMLView",
            "description": "",
            "description_tooltip": null,
            "layout": "IPY_MODEL_e8d316a12f124ec5b5a117e4e5be3c09",
            "placeholder": "​",
            "style": "IPY_MODEL_b2409450f66541c0abdb4ae2d38d277d",
            "value": "Downloading (…)okenizer_config.json: 100%"
          }
        },
        "fdd22a337d9c4bb4a7e3de81b1baab2e": {
          "model_module": "@jupyter-widgets/controls",
          "model_name": "FloatProgressModel",
          "model_module_version": "1.5.0",
          "state": {
            "_dom_classes": [],
            "_model_module": "@jupyter-widgets/controls",
            "_model_module_version": "1.5.0",
            "_model_name": "FloatProgressModel",
            "_view_count": null,
            "_view_module": "@jupyter-widgets/controls",
            "_view_module_version": "1.5.0",
            "_view_name": "ProgressView",
            "bar_style": "success",
            "description": "",
            "description_tooltip": null,
            "layout": "IPY_MODEL_f5324a030fd849588d3a87364e0968e5",
            "max": 28,
            "min": 0,
            "orientation": "horizontal",
            "style": "IPY_MODEL_92cbded6864d455c89e6bac49bcfb7b8",
            "value": 28
          }
        },
        "0f8f967ec7fc4cb6ae5114d40cb9dba3": {
          "model_module": "@jupyter-widgets/controls",
          "model_name": "HTMLModel",
          "model_module_version": "1.5.0",
          "state": {
            "_dom_classes": [],
            "_model_module": "@jupyter-widgets/controls",
            "_model_module_version": "1.5.0",
            "_model_name": "HTMLModel",
            "_view_count": null,
            "_view_module": "@jupyter-widgets/controls",
            "_view_module_version": "1.5.0",
            "_view_name": "HTMLView",
            "description": "",
            "description_tooltip": null,
            "layout": "IPY_MODEL_e0b557823a734203b0e4eefda6c6562b",
            "placeholder": "​",
            "style": "IPY_MODEL_4e3a4364331b40f3a6e436a111b8bfed",
            "value": " 28.0/28.0 [00:00&lt;00:00, 630B/s]"
          }
        },
        "9a4fd9a9141446b1901c3862ba1cedc6": {
          "model_module": "@jupyter-widgets/base",
          "model_name": "LayoutModel",
          "model_module_version": "1.2.0",
          "state": {
            "_model_module": "@jupyter-widgets/base",
            "_model_module_version": "1.2.0",
            "_model_name": "LayoutModel",
            "_view_count": null,
            "_view_module": "@jupyter-widgets/base",
            "_view_module_version": "1.2.0",
            "_view_name": "LayoutView",
            "align_content": null,
            "align_items": null,
            "align_self": null,
            "border": null,
            "bottom": null,
            "display": null,
            "flex": null,
            "flex_flow": null,
            "grid_area": null,
            "grid_auto_columns": null,
            "grid_auto_flow": null,
            "grid_auto_rows": null,
            "grid_column": null,
            "grid_gap": null,
            "grid_row": null,
            "grid_template_areas": null,
            "grid_template_columns": null,
            "grid_template_rows": null,
            "height": null,
            "justify_content": null,
            "justify_items": null,
            "left": null,
            "margin": null,
            "max_height": null,
            "max_width": null,
            "min_height": null,
            "min_width": null,
            "object_fit": null,
            "object_position": null,
            "order": null,
            "overflow": null,
            "overflow_x": null,
            "overflow_y": null,
            "padding": null,
            "right": null,
            "top": null,
            "visibility": null,
            "width": null
          }
        },
        "e8d316a12f124ec5b5a117e4e5be3c09": {
          "model_module": "@jupyter-widgets/base",
          "model_name": "LayoutModel",
          "model_module_version": "1.2.0",
          "state": {
            "_model_module": "@jupyter-widgets/base",
            "_model_module_version": "1.2.0",
            "_model_name": "LayoutModel",
            "_view_count": null,
            "_view_module": "@jupyter-widgets/base",
            "_view_module_version": "1.2.0",
            "_view_name": "LayoutView",
            "align_content": null,
            "align_items": null,
            "align_self": null,
            "border": null,
            "bottom": null,
            "display": null,
            "flex": null,
            "flex_flow": null,
            "grid_area": null,
            "grid_auto_columns": null,
            "grid_auto_flow": null,
            "grid_auto_rows": null,
            "grid_column": null,
            "grid_gap": null,
            "grid_row": null,
            "grid_template_areas": null,
            "grid_template_columns": null,
            "grid_template_rows": null,
            "height": null,
            "justify_content": null,
            "justify_items": null,
            "left": null,
            "margin": null,
            "max_height": null,
            "max_width": null,
            "min_height": null,
            "min_width": null,
            "object_fit": null,
            "object_position": null,
            "order": null,
            "overflow": null,
            "overflow_x": null,
            "overflow_y": null,
            "padding": null,
            "right": null,
            "top": null,
            "visibility": null,
            "width": null
          }
        },
        "b2409450f66541c0abdb4ae2d38d277d": {
          "model_module": "@jupyter-widgets/controls",
          "model_name": "DescriptionStyleModel",
          "model_module_version": "1.5.0",
          "state": {
            "_model_module": "@jupyter-widgets/controls",
            "_model_module_version": "1.5.0",
            "_model_name": "DescriptionStyleModel",
            "_view_count": null,
            "_view_module": "@jupyter-widgets/base",
            "_view_module_version": "1.2.0",
            "_view_name": "StyleView",
            "description_width": ""
          }
        },
        "f5324a030fd849588d3a87364e0968e5": {
          "model_module": "@jupyter-widgets/base",
          "model_name": "LayoutModel",
          "model_module_version": "1.2.0",
          "state": {
            "_model_module": "@jupyter-widgets/base",
            "_model_module_version": "1.2.0",
            "_model_name": "LayoutModel",
            "_view_count": null,
            "_view_module": "@jupyter-widgets/base",
            "_view_module_version": "1.2.0",
            "_view_name": "LayoutView",
            "align_content": null,
            "align_items": null,
            "align_self": null,
            "border": null,
            "bottom": null,
            "display": null,
            "flex": null,
            "flex_flow": null,
            "grid_area": null,
            "grid_auto_columns": null,
            "grid_auto_flow": null,
            "grid_auto_rows": null,
            "grid_column": null,
            "grid_gap": null,
            "grid_row": null,
            "grid_template_areas": null,
            "grid_template_columns": null,
            "grid_template_rows": null,
            "height": null,
            "justify_content": null,
            "justify_items": null,
            "left": null,
            "margin": null,
            "max_height": null,
            "max_width": null,
            "min_height": null,
            "min_width": null,
            "object_fit": null,
            "object_position": null,
            "order": null,
            "overflow": null,
            "overflow_x": null,
            "overflow_y": null,
            "padding": null,
            "right": null,
            "top": null,
            "visibility": null,
            "width": null
          }
        },
        "92cbded6864d455c89e6bac49bcfb7b8": {
          "model_module": "@jupyter-widgets/controls",
          "model_name": "ProgressStyleModel",
          "model_module_version": "1.5.0",
          "state": {
            "_model_module": "@jupyter-widgets/controls",
            "_model_module_version": "1.5.0",
            "_model_name": "ProgressStyleModel",
            "_view_count": null,
            "_view_module": "@jupyter-widgets/base",
            "_view_module_version": "1.2.0",
            "_view_name": "StyleView",
            "bar_color": null,
            "description_width": ""
          }
        },
        "e0b557823a734203b0e4eefda6c6562b": {
          "model_module": "@jupyter-widgets/base",
          "model_name": "LayoutModel",
          "model_module_version": "1.2.0",
          "state": {
            "_model_module": "@jupyter-widgets/base",
            "_model_module_version": "1.2.0",
            "_model_name": "LayoutModel",
            "_view_count": null,
            "_view_module": "@jupyter-widgets/base",
            "_view_module_version": "1.2.0",
            "_view_name": "LayoutView",
            "align_content": null,
            "align_items": null,
            "align_self": null,
            "border": null,
            "bottom": null,
            "display": null,
            "flex": null,
            "flex_flow": null,
            "grid_area": null,
            "grid_auto_columns": null,
            "grid_auto_flow": null,
            "grid_auto_rows": null,
            "grid_column": null,
            "grid_gap": null,
            "grid_row": null,
            "grid_template_areas": null,
            "grid_template_columns": null,
            "grid_template_rows": null,
            "height": null,
            "justify_content": null,
            "justify_items": null,
            "left": null,
            "margin": null,
            "max_height": null,
            "max_width": null,
            "min_height": null,
            "min_width": null,
            "object_fit": null,
            "object_position": null,
            "order": null,
            "overflow": null,
            "overflow_x": null,
            "overflow_y": null,
            "padding": null,
            "right": null,
            "top": null,
            "visibility": null,
            "width": null
          }
        },
        "4e3a4364331b40f3a6e436a111b8bfed": {
          "model_module": "@jupyter-widgets/controls",
          "model_name": "DescriptionStyleModel",
          "model_module_version": "1.5.0",
          "state": {
            "_model_module": "@jupyter-widgets/controls",
            "_model_module_version": "1.5.0",
            "_model_name": "DescriptionStyleModel",
            "_view_count": null,
            "_view_module": "@jupyter-widgets/base",
            "_view_module_version": "1.2.0",
            "_view_name": "StyleView",
            "description_width": ""
          }
        },
        "c863a5f3f909419c8114162285663e89": {
          "model_module": "@jupyter-widgets/controls",
          "model_name": "HBoxModel",
          "model_module_version": "1.5.0",
          "state": {
            "_dom_classes": [],
            "_model_module": "@jupyter-widgets/controls",
            "_model_module_version": "1.5.0",
            "_model_name": "HBoxModel",
            "_view_count": null,
            "_view_module": "@jupyter-widgets/controls",
            "_view_module_version": "1.5.0",
            "_view_name": "HBoxView",
            "box_style": "",
            "children": [
              "IPY_MODEL_3906171119bd424c8b09528b3495843a",
              "IPY_MODEL_6139d81b2f0d41b2971a590619846c36",
              "IPY_MODEL_f15b383aafbc4fb8b7774098695b8240"
            ],
            "layout": "IPY_MODEL_5a46e37621c14cc0af0b7b807f545f2b"
          }
        },
        "3906171119bd424c8b09528b3495843a": {
          "model_module": "@jupyter-widgets/controls",
          "model_name": "HTMLModel",
          "model_module_version": "1.5.0",
          "state": {
            "_dom_classes": [],
            "_model_module": "@jupyter-widgets/controls",
            "_model_module_version": "1.5.0",
            "_model_name": "HTMLModel",
            "_view_count": null,
            "_view_module": "@jupyter-widgets/controls",
            "_view_module_version": "1.5.0",
            "_view_name": "HTMLView",
            "description": "",
            "description_tooltip": null,
            "layout": "IPY_MODEL_996ae603598d4aa4bbc9ee9364a1d296",
            "placeholder": "​",
            "style": "IPY_MODEL_60a044282b514c02888d362a4eefd168",
            "value": "Downloading (…)lve/main/config.json: 100%"
          }
        },
        "6139d81b2f0d41b2971a590619846c36": {
          "model_module": "@jupyter-widgets/controls",
          "model_name": "FloatProgressModel",
          "model_module_version": "1.5.0",
          "state": {
            "_dom_classes": [],
            "_model_module": "@jupyter-widgets/controls",
            "_model_module_version": "1.5.0",
            "_model_name": "FloatProgressModel",
            "_view_count": null,
            "_view_module": "@jupyter-widgets/controls",
            "_view_module_version": "1.5.0",
            "_view_name": "ProgressView",
            "bar_style": "success",
            "description": "",
            "description_tooltip": null,
            "layout": "IPY_MODEL_b30ba9d3150d48948f9aae8c9f2b2a46",
            "max": 570,
            "min": 0,
            "orientation": "horizontal",
            "style": "IPY_MODEL_d4910d9bfa764eefabd8329ea1868521",
            "value": 570
          }
        },
        "f15b383aafbc4fb8b7774098695b8240": {
          "model_module": "@jupyter-widgets/controls",
          "model_name": "HTMLModel",
          "model_module_version": "1.5.0",
          "state": {
            "_dom_classes": [],
            "_model_module": "@jupyter-widgets/controls",
            "_model_module_version": "1.5.0",
            "_model_name": "HTMLModel",
            "_view_count": null,
            "_view_module": "@jupyter-widgets/controls",
            "_view_module_version": "1.5.0",
            "_view_name": "HTMLView",
            "description": "",
            "description_tooltip": null,
            "layout": "IPY_MODEL_70a279a3b1a74d1c93269be28f350d26",
            "placeholder": "​",
            "style": "IPY_MODEL_0759016d76e043a289c2b7d91d61114e",
            "value": " 570/570 [00:00&lt;00:00, 15.8kB/s]"
          }
        },
        "5a46e37621c14cc0af0b7b807f545f2b": {
          "model_module": "@jupyter-widgets/base",
          "model_name": "LayoutModel",
          "model_module_version": "1.2.0",
          "state": {
            "_model_module": "@jupyter-widgets/base",
            "_model_module_version": "1.2.0",
            "_model_name": "LayoutModel",
            "_view_count": null,
            "_view_module": "@jupyter-widgets/base",
            "_view_module_version": "1.2.0",
            "_view_name": "LayoutView",
            "align_content": null,
            "align_items": null,
            "align_self": null,
            "border": null,
            "bottom": null,
            "display": null,
            "flex": null,
            "flex_flow": null,
            "grid_area": null,
            "grid_auto_columns": null,
            "grid_auto_flow": null,
            "grid_auto_rows": null,
            "grid_column": null,
            "grid_gap": null,
            "grid_row": null,
            "grid_template_areas": null,
            "grid_template_columns": null,
            "grid_template_rows": null,
            "height": null,
            "justify_content": null,
            "justify_items": null,
            "left": null,
            "margin": null,
            "max_height": null,
            "max_width": null,
            "min_height": null,
            "min_width": null,
            "object_fit": null,
            "object_position": null,
            "order": null,
            "overflow": null,
            "overflow_x": null,
            "overflow_y": null,
            "padding": null,
            "right": null,
            "top": null,
            "visibility": null,
            "width": null
          }
        },
        "996ae603598d4aa4bbc9ee9364a1d296": {
          "model_module": "@jupyter-widgets/base",
          "model_name": "LayoutModel",
          "model_module_version": "1.2.0",
          "state": {
            "_model_module": "@jupyter-widgets/base",
            "_model_module_version": "1.2.0",
            "_model_name": "LayoutModel",
            "_view_count": null,
            "_view_module": "@jupyter-widgets/base",
            "_view_module_version": "1.2.0",
            "_view_name": "LayoutView",
            "align_content": null,
            "align_items": null,
            "align_self": null,
            "border": null,
            "bottom": null,
            "display": null,
            "flex": null,
            "flex_flow": null,
            "grid_area": null,
            "grid_auto_columns": null,
            "grid_auto_flow": null,
            "grid_auto_rows": null,
            "grid_column": null,
            "grid_gap": null,
            "grid_row": null,
            "grid_template_areas": null,
            "grid_template_columns": null,
            "grid_template_rows": null,
            "height": null,
            "justify_content": null,
            "justify_items": null,
            "left": null,
            "margin": null,
            "max_height": null,
            "max_width": null,
            "min_height": null,
            "min_width": null,
            "object_fit": null,
            "object_position": null,
            "order": null,
            "overflow": null,
            "overflow_x": null,
            "overflow_y": null,
            "padding": null,
            "right": null,
            "top": null,
            "visibility": null,
            "width": null
          }
        },
        "60a044282b514c02888d362a4eefd168": {
          "model_module": "@jupyter-widgets/controls",
          "model_name": "DescriptionStyleModel",
          "model_module_version": "1.5.0",
          "state": {
            "_model_module": "@jupyter-widgets/controls",
            "_model_module_version": "1.5.0",
            "_model_name": "DescriptionStyleModel",
            "_view_count": null,
            "_view_module": "@jupyter-widgets/base",
            "_view_module_version": "1.2.0",
            "_view_name": "StyleView",
            "description_width": ""
          }
        },
        "b30ba9d3150d48948f9aae8c9f2b2a46": {
          "model_module": "@jupyter-widgets/base",
          "model_name": "LayoutModel",
          "model_module_version": "1.2.0",
          "state": {
            "_model_module": "@jupyter-widgets/base",
            "_model_module_version": "1.2.0",
            "_model_name": "LayoutModel",
            "_view_count": null,
            "_view_module": "@jupyter-widgets/base",
            "_view_module_version": "1.2.0",
            "_view_name": "LayoutView",
            "align_content": null,
            "align_items": null,
            "align_self": null,
            "border": null,
            "bottom": null,
            "display": null,
            "flex": null,
            "flex_flow": null,
            "grid_area": null,
            "grid_auto_columns": null,
            "grid_auto_flow": null,
            "grid_auto_rows": null,
            "grid_column": null,
            "grid_gap": null,
            "grid_row": null,
            "grid_template_areas": null,
            "grid_template_columns": null,
            "grid_template_rows": null,
            "height": null,
            "justify_content": null,
            "justify_items": null,
            "left": null,
            "margin": null,
            "max_height": null,
            "max_width": null,
            "min_height": null,
            "min_width": null,
            "object_fit": null,
            "object_position": null,
            "order": null,
            "overflow": null,
            "overflow_x": null,
            "overflow_y": null,
            "padding": null,
            "right": null,
            "top": null,
            "visibility": null,
            "width": null
          }
        },
        "d4910d9bfa764eefabd8329ea1868521": {
          "model_module": "@jupyter-widgets/controls",
          "model_name": "ProgressStyleModel",
          "model_module_version": "1.5.0",
          "state": {
            "_model_module": "@jupyter-widgets/controls",
            "_model_module_version": "1.5.0",
            "_model_name": "ProgressStyleModel",
            "_view_count": null,
            "_view_module": "@jupyter-widgets/base",
            "_view_module_version": "1.2.0",
            "_view_name": "StyleView",
            "bar_color": null,
            "description_width": ""
          }
        },
        "70a279a3b1a74d1c93269be28f350d26": {
          "model_module": "@jupyter-widgets/base",
          "model_name": "LayoutModel",
          "model_module_version": "1.2.0",
          "state": {
            "_model_module": "@jupyter-widgets/base",
            "_model_module_version": "1.2.0",
            "_model_name": "LayoutModel",
            "_view_count": null,
            "_view_module": "@jupyter-widgets/base",
            "_view_module_version": "1.2.0",
            "_view_name": "LayoutView",
            "align_content": null,
            "align_items": null,
            "align_self": null,
            "border": null,
            "bottom": null,
            "display": null,
            "flex": null,
            "flex_flow": null,
            "grid_area": null,
            "grid_auto_columns": null,
            "grid_auto_flow": null,
            "grid_auto_rows": null,
            "grid_column": null,
            "grid_gap": null,
            "grid_row": null,
            "grid_template_areas": null,
            "grid_template_columns": null,
            "grid_template_rows": null,
            "height": null,
            "justify_content": null,
            "justify_items": null,
            "left": null,
            "margin": null,
            "max_height": null,
            "max_width": null,
            "min_height": null,
            "min_width": null,
            "object_fit": null,
            "object_position": null,
            "order": null,
            "overflow": null,
            "overflow_x": null,
            "overflow_y": null,
            "padding": null,
            "right": null,
            "top": null,
            "visibility": null,
            "width": null
          }
        },
        "0759016d76e043a289c2b7d91d61114e": {
          "model_module": "@jupyter-widgets/controls",
          "model_name": "DescriptionStyleModel",
          "model_module_version": "1.5.0",
          "state": {
            "_model_module": "@jupyter-widgets/controls",
            "_model_module_version": "1.5.0",
            "_model_name": "DescriptionStyleModel",
            "_view_count": null,
            "_view_module": "@jupyter-widgets/base",
            "_view_module_version": "1.2.0",
            "_view_name": "StyleView",
            "description_width": ""
          }
        },
        "faed1960c7d74676a35bb99519a825b0": {
          "model_module": "@jupyter-widgets/controls",
          "model_name": "HBoxModel",
          "model_module_version": "1.5.0",
          "state": {
            "_dom_classes": [],
            "_model_module": "@jupyter-widgets/controls",
            "_model_module_version": "1.5.0",
            "_model_name": "HBoxModel",
            "_view_count": null,
            "_view_module": "@jupyter-widgets/controls",
            "_view_module_version": "1.5.0",
            "_view_name": "HBoxView",
            "box_style": "",
            "children": [
              "IPY_MODEL_0a22686250db4d39ab5bb5a72f928279",
              "IPY_MODEL_c69ddbd0ddef49a58215a64039f56460",
              "IPY_MODEL_f2600362d098409c9bdf0d2456072328"
            ],
            "layout": "IPY_MODEL_ac9883633891413d8746943b1ae77c26"
          }
        },
        "0a22686250db4d39ab5bb5a72f928279": {
          "model_module": "@jupyter-widgets/controls",
          "model_name": "HTMLModel",
          "model_module_version": "1.5.0",
          "state": {
            "_dom_classes": [],
            "_model_module": "@jupyter-widgets/controls",
            "_model_module_version": "1.5.0",
            "_model_name": "HTMLModel",
            "_view_count": null,
            "_view_module": "@jupyter-widgets/controls",
            "_view_module_version": "1.5.0",
            "_view_name": "HTMLView",
            "description": "",
            "description_tooltip": null,
            "layout": "IPY_MODEL_83150100d56643d989b7e40f5fe2c0ae",
            "placeholder": "​",
            "style": "IPY_MODEL_ecbc57cbbfb44dc9b5ef8a1573f1a289",
            "value": "Downloading (…)solve/main/vocab.txt: 100%"
          }
        },
        "c69ddbd0ddef49a58215a64039f56460": {
          "model_module": "@jupyter-widgets/controls",
          "model_name": "FloatProgressModel",
          "model_module_version": "1.5.0",
          "state": {
            "_dom_classes": [],
            "_model_module": "@jupyter-widgets/controls",
            "_model_module_version": "1.5.0",
            "_model_name": "FloatProgressModel",
            "_view_count": null,
            "_view_module": "@jupyter-widgets/controls",
            "_view_module_version": "1.5.0",
            "_view_name": "ProgressView",
            "bar_style": "success",
            "description": "",
            "description_tooltip": null,
            "layout": "IPY_MODEL_f03d3ad6461745129a93e4855bad1c80",
            "max": 231508,
            "min": 0,
            "orientation": "horizontal",
            "style": "IPY_MODEL_84289561eba24ac59d1bf45b6751d8ae",
            "value": 231508
          }
        },
        "f2600362d098409c9bdf0d2456072328": {
          "model_module": "@jupyter-widgets/controls",
          "model_name": "HTMLModel",
          "model_module_version": "1.5.0",
          "state": {
            "_dom_classes": [],
            "_model_module": "@jupyter-widgets/controls",
            "_model_module_version": "1.5.0",
            "_model_name": "HTMLModel",
            "_view_count": null,
            "_view_module": "@jupyter-widgets/controls",
            "_view_module_version": "1.5.0",
            "_view_name": "HTMLView",
            "description": "",
            "description_tooltip": null,
            "layout": "IPY_MODEL_8f8075b0603b4117b483bf8611d000bd",
            "placeholder": "​",
            "style": "IPY_MODEL_8565f4210d5f468e861eed507b82954f",
            "value": " 232k/232k [00:00&lt;00:00, 5.02MB/s]"
          }
        },
        "ac9883633891413d8746943b1ae77c26": {
          "model_module": "@jupyter-widgets/base",
          "model_name": "LayoutModel",
          "model_module_version": "1.2.0",
          "state": {
            "_model_module": "@jupyter-widgets/base",
            "_model_module_version": "1.2.0",
            "_model_name": "LayoutModel",
            "_view_count": null,
            "_view_module": "@jupyter-widgets/base",
            "_view_module_version": "1.2.0",
            "_view_name": "LayoutView",
            "align_content": null,
            "align_items": null,
            "align_self": null,
            "border": null,
            "bottom": null,
            "display": null,
            "flex": null,
            "flex_flow": null,
            "grid_area": null,
            "grid_auto_columns": null,
            "grid_auto_flow": null,
            "grid_auto_rows": null,
            "grid_column": null,
            "grid_gap": null,
            "grid_row": null,
            "grid_template_areas": null,
            "grid_template_columns": null,
            "grid_template_rows": null,
            "height": null,
            "justify_content": null,
            "justify_items": null,
            "left": null,
            "margin": null,
            "max_height": null,
            "max_width": null,
            "min_height": null,
            "min_width": null,
            "object_fit": null,
            "object_position": null,
            "order": null,
            "overflow": null,
            "overflow_x": null,
            "overflow_y": null,
            "padding": null,
            "right": null,
            "top": null,
            "visibility": null,
            "width": null
          }
        },
        "83150100d56643d989b7e40f5fe2c0ae": {
          "model_module": "@jupyter-widgets/base",
          "model_name": "LayoutModel",
          "model_module_version": "1.2.0",
          "state": {
            "_model_module": "@jupyter-widgets/base",
            "_model_module_version": "1.2.0",
            "_model_name": "LayoutModel",
            "_view_count": null,
            "_view_module": "@jupyter-widgets/base",
            "_view_module_version": "1.2.0",
            "_view_name": "LayoutView",
            "align_content": null,
            "align_items": null,
            "align_self": null,
            "border": null,
            "bottom": null,
            "display": null,
            "flex": null,
            "flex_flow": null,
            "grid_area": null,
            "grid_auto_columns": null,
            "grid_auto_flow": null,
            "grid_auto_rows": null,
            "grid_column": null,
            "grid_gap": null,
            "grid_row": null,
            "grid_template_areas": null,
            "grid_template_columns": null,
            "grid_template_rows": null,
            "height": null,
            "justify_content": null,
            "justify_items": null,
            "left": null,
            "margin": null,
            "max_height": null,
            "max_width": null,
            "min_height": null,
            "min_width": null,
            "object_fit": null,
            "object_position": null,
            "order": null,
            "overflow": null,
            "overflow_x": null,
            "overflow_y": null,
            "padding": null,
            "right": null,
            "top": null,
            "visibility": null,
            "width": null
          }
        },
        "ecbc57cbbfb44dc9b5ef8a1573f1a289": {
          "model_module": "@jupyter-widgets/controls",
          "model_name": "DescriptionStyleModel",
          "model_module_version": "1.5.0",
          "state": {
            "_model_module": "@jupyter-widgets/controls",
            "_model_module_version": "1.5.0",
            "_model_name": "DescriptionStyleModel",
            "_view_count": null,
            "_view_module": "@jupyter-widgets/base",
            "_view_module_version": "1.2.0",
            "_view_name": "StyleView",
            "description_width": ""
          }
        },
        "f03d3ad6461745129a93e4855bad1c80": {
          "model_module": "@jupyter-widgets/base",
          "model_name": "LayoutModel",
          "model_module_version": "1.2.0",
          "state": {
            "_model_module": "@jupyter-widgets/base",
            "_model_module_version": "1.2.0",
            "_model_name": "LayoutModel",
            "_view_count": null,
            "_view_module": "@jupyter-widgets/base",
            "_view_module_version": "1.2.0",
            "_view_name": "LayoutView",
            "align_content": null,
            "align_items": null,
            "align_self": null,
            "border": null,
            "bottom": null,
            "display": null,
            "flex": null,
            "flex_flow": null,
            "grid_area": null,
            "grid_auto_columns": null,
            "grid_auto_flow": null,
            "grid_auto_rows": null,
            "grid_column": null,
            "grid_gap": null,
            "grid_row": null,
            "grid_template_areas": null,
            "grid_template_columns": null,
            "grid_template_rows": null,
            "height": null,
            "justify_content": null,
            "justify_items": null,
            "left": null,
            "margin": null,
            "max_height": null,
            "max_width": null,
            "min_height": null,
            "min_width": null,
            "object_fit": null,
            "object_position": null,
            "order": null,
            "overflow": null,
            "overflow_x": null,
            "overflow_y": null,
            "padding": null,
            "right": null,
            "top": null,
            "visibility": null,
            "width": null
          }
        },
        "84289561eba24ac59d1bf45b6751d8ae": {
          "model_module": "@jupyter-widgets/controls",
          "model_name": "ProgressStyleModel",
          "model_module_version": "1.5.0",
          "state": {
            "_model_module": "@jupyter-widgets/controls",
            "_model_module_version": "1.5.0",
            "_model_name": "ProgressStyleModel",
            "_view_count": null,
            "_view_module": "@jupyter-widgets/base",
            "_view_module_version": "1.2.0",
            "_view_name": "StyleView",
            "bar_color": null,
            "description_width": ""
          }
        },
        "8f8075b0603b4117b483bf8611d000bd": {
          "model_module": "@jupyter-widgets/base",
          "model_name": "LayoutModel",
          "model_module_version": "1.2.0",
          "state": {
            "_model_module": "@jupyter-widgets/base",
            "_model_module_version": "1.2.0",
            "_model_name": "LayoutModel",
            "_view_count": null,
            "_view_module": "@jupyter-widgets/base",
            "_view_module_version": "1.2.0",
            "_view_name": "LayoutView",
            "align_content": null,
            "align_items": null,
            "align_self": null,
            "border": null,
            "bottom": null,
            "display": null,
            "flex": null,
            "flex_flow": null,
            "grid_area": null,
            "grid_auto_columns": null,
            "grid_auto_flow": null,
            "grid_auto_rows": null,
            "grid_column": null,
            "grid_gap": null,
            "grid_row": null,
            "grid_template_areas": null,
            "grid_template_columns": null,
            "grid_template_rows": null,
            "height": null,
            "justify_content": null,
            "justify_items": null,
            "left": null,
            "margin": null,
            "max_height": null,
            "max_width": null,
            "min_height": null,
            "min_width": null,
            "object_fit": null,
            "object_position": null,
            "order": null,
            "overflow": null,
            "overflow_x": null,
            "overflow_y": null,
            "padding": null,
            "right": null,
            "top": null,
            "visibility": null,
            "width": null
          }
        },
        "8565f4210d5f468e861eed507b82954f": {
          "model_module": "@jupyter-widgets/controls",
          "model_name": "DescriptionStyleModel",
          "model_module_version": "1.5.0",
          "state": {
            "_model_module": "@jupyter-widgets/controls",
            "_model_module_version": "1.5.0",
            "_model_name": "DescriptionStyleModel",
            "_view_count": null,
            "_view_module": "@jupyter-widgets/base",
            "_view_module_version": "1.2.0",
            "_view_name": "StyleView",
            "description_width": ""
          }
        },
        "6fc9fdd50ed04bb59d2014b290e53459": {
          "model_module": "@jupyter-widgets/controls",
          "model_name": "HBoxModel",
          "model_module_version": "1.5.0",
          "state": {
            "_dom_classes": [],
            "_model_module": "@jupyter-widgets/controls",
            "_model_module_version": "1.5.0",
            "_model_name": "HBoxModel",
            "_view_count": null,
            "_view_module": "@jupyter-widgets/controls",
            "_view_module_version": "1.5.0",
            "_view_name": "HBoxView",
            "box_style": "",
            "children": [
              "IPY_MODEL_1f857b9cb006459092e7ece11a435d88",
              "IPY_MODEL_e13ec9c2f1484a26b503c9e81b73ddf4",
              "IPY_MODEL_5d6eb635b58b44c9a720505e7927ad32"
            ],
            "layout": "IPY_MODEL_dd60ea30aacf46348535f80d19a30001"
          }
        },
        "1f857b9cb006459092e7ece11a435d88": {
          "model_module": "@jupyter-widgets/controls",
          "model_name": "HTMLModel",
          "model_module_version": "1.5.0",
          "state": {
            "_dom_classes": [],
            "_model_module": "@jupyter-widgets/controls",
            "_model_module_version": "1.5.0",
            "_model_name": "HTMLModel",
            "_view_count": null,
            "_view_module": "@jupyter-widgets/controls",
            "_view_module_version": "1.5.0",
            "_view_name": "HTMLView",
            "description": "",
            "description_tooltip": null,
            "layout": "IPY_MODEL_d729eb59767043128f8e97bc53b5557b",
            "placeholder": "​",
            "style": "IPY_MODEL_588985c62f2046ea887800d014d9dee5",
            "value": "Downloading (…)/main/tokenizer.json: 100%"
          }
        },
        "e13ec9c2f1484a26b503c9e81b73ddf4": {
          "model_module": "@jupyter-widgets/controls",
          "model_name": "FloatProgressModel",
          "model_module_version": "1.5.0",
          "state": {
            "_dom_classes": [],
            "_model_module": "@jupyter-widgets/controls",
            "_model_module_version": "1.5.0",
            "_model_name": "FloatProgressModel",
            "_view_count": null,
            "_view_module": "@jupyter-widgets/controls",
            "_view_module_version": "1.5.0",
            "_view_name": "ProgressView",
            "bar_style": "success",
            "description": "",
            "description_tooltip": null,
            "layout": "IPY_MODEL_781ee8351a0044e59befd2e4c372a973",
            "max": 466062,
            "min": 0,
            "orientation": "horizontal",
            "style": "IPY_MODEL_e9ec60196f6a4effb882cf4e5f803ede",
            "value": 466062
          }
        },
        "5d6eb635b58b44c9a720505e7927ad32": {
          "model_module": "@jupyter-widgets/controls",
          "model_name": "HTMLModel",
          "model_module_version": "1.5.0",
          "state": {
            "_dom_classes": [],
            "_model_module": "@jupyter-widgets/controls",
            "_model_module_version": "1.5.0",
            "_model_name": "HTMLModel",
            "_view_count": null,
            "_view_module": "@jupyter-widgets/controls",
            "_view_module_version": "1.5.0",
            "_view_name": "HTMLView",
            "description": "",
            "description_tooltip": null,
            "layout": "IPY_MODEL_cd9b6b9da744420587f3029b9d5af0e5",
            "placeholder": "​",
            "style": "IPY_MODEL_3872b7307f314c71aab1b650ebe2b65c",
            "value": " 466k/466k [00:00&lt;00:00, 7.60MB/s]"
          }
        },
        "dd60ea30aacf46348535f80d19a30001": {
          "model_module": "@jupyter-widgets/base",
          "model_name": "LayoutModel",
          "model_module_version": "1.2.0",
          "state": {
            "_model_module": "@jupyter-widgets/base",
            "_model_module_version": "1.2.0",
            "_model_name": "LayoutModel",
            "_view_count": null,
            "_view_module": "@jupyter-widgets/base",
            "_view_module_version": "1.2.0",
            "_view_name": "LayoutView",
            "align_content": null,
            "align_items": null,
            "align_self": null,
            "border": null,
            "bottom": null,
            "display": null,
            "flex": null,
            "flex_flow": null,
            "grid_area": null,
            "grid_auto_columns": null,
            "grid_auto_flow": null,
            "grid_auto_rows": null,
            "grid_column": null,
            "grid_gap": null,
            "grid_row": null,
            "grid_template_areas": null,
            "grid_template_columns": null,
            "grid_template_rows": null,
            "height": null,
            "justify_content": null,
            "justify_items": null,
            "left": null,
            "margin": null,
            "max_height": null,
            "max_width": null,
            "min_height": null,
            "min_width": null,
            "object_fit": null,
            "object_position": null,
            "order": null,
            "overflow": null,
            "overflow_x": null,
            "overflow_y": null,
            "padding": null,
            "right": null,
            "top": null,
            "visibility": null,
            "width": null
          }
        },
        "d729eb59767043128f8e97bc53b5557b": {
          "model_module": "@jupyter-widgets/base",
          "model_name": "LayoutModel",
          "model_module_version": "1.2.0",
          "state": {
            "_model_module": "@jupyter-widgets/base",
            "_model_module_version": "1.2.0",
            "_model_name": "LayoutModel",
            "_view_count": null,
            "_view_module": "@jupyter-widgets/base",
            "_view_module_version": "1.2.0",
            "_view_name": "LayoutView",
            "align_content": null,
            "align_items": null,
            "align_self": null,
            "border": null,
            "bottom": null,
            "display": null,
            "flex": null,
            "flex_flow": null,
            "grid_area": null,
            "grid_auto_columns": null,
            "grid_auto_flow": null,
            "grid_auto_rows": null,
            "grid_column": null,
            "grid_gap": null,
            "grid_row": null,
            "grid_template_areas": null,
            "grid_template_columns": null,
            "grid_template_rows": null,
            "height": null,
            "justify_content": null,
            "justify_items": null,
            "left": null,
            "margin": null,
            "max_height": null,
            "max_width": null,
            "min_height": null,
            "min_width": null,
            "object_fit": null,
            "object_position": null,
            "order": null,
            "overflow": null,
            "overflow_x": null,
            "overflow_y": null,
            "padding": null,
            "right": null,
            "top": null,
            "visibility": null,
            "width": null
          }
        },
        "588985c62f2046ea887800d014d9dee5": {
          "model_module": "@jupyter-widgets/controls",
          "model_name": "DescriptionStyleModel",
          "model_module_version": "1.5.0",
          "state": {
            "_model_module": "@jupyter-widgets/controls",
            "_model_module_version": "1.5.0",
            "_model_name": "DescriptionStyleModel",
            "_view_count": null,
            "_view_module": "@jupyter-widgets/base",
            "_view_module_version": "1.2.0",
            "_view_name": "StyleView",
            "description_width": ""
          }
        },
        "781ee8351a0044e59befd2e4c372a973": {
          "model_module": "@jupyter-widgets/base",
          "model_name": "LayoutModel",
          "model_module_version": "1.2.0",
          "state": {
            "_model_module": "@jupyter-widgets/base",
            "_model_module_version": "1.2.0",
            "_model_name": "LayoutModel",
            "_view_count": null,
            "_view_module": "@jupyter-widgets/base",
            "_view_module_version": "1.2.0",
            "_view_name": "LayoutView",
            "align_content": null,
            "align_items": null,
            "align_self": null,
            "border": null,
            "bottom": null,
            "display": null,
            "flex": null,
            "flex_flow": null,
            "grid_area": null,
            "grid_auto_columns": null,
            "grid_auto_flow": null,
            "grid_auto_rows": null,
            "grid_column": null,
            "grid_gap": null,
            "grid_row": null,
            "grid_template_areas": null,
            "grid_template_columns": null,
            "grid_template_rows": null,
            "height": null,
            "justify_content": null,
            "justify_items": null,
            "left": null,
            "margin": null,
            "max_height": null,
            "max_width": null,
            "min_height": null,
            "min_width": null,
            "object_fit": null,
            "object_position": null,
            "order": null,
            "overflow": null,
            "overflow_x": null,
            "overflow_y": null,
            "padding": null,
            "right": null,
            "top": null,
            "visibility": null,
            "width": null
          }
        },
        "e9ec60196f6a4effb882cf4e5f803ede": {
          "model_module": "@jupyter-widgets/controls",
          "model_name": "ProgressStyleModel",
          "model_module_version": "1.5.0",
          "state": {
            "_model_module": "@jupyter-widgets/controls",
            "_model_module_version": "1.5.0",
            "_model_name": "ProgressStyleModel",
            "_view_count": null,
            "_view_module": "@jupyter-widgets/base",
            "_view_module_version": "1.2.0",
            "_view_name": "StyleView",
            "bar_color": null,
            "description_width": ""
          }
        },
        "cd9b6b9da744420587f3029b9d5af0e5": {
          "model_module": "@jupyter-widgets/base",
          "model_name": "LayoutModel",
          "model_module_version": "1.2.0",
          "state": {
            "_model_module": "@jupyter-widgets/base",
            "_model_module_version": "1.2.0",
            "_model_name": "LayoutModel",
            "_view_count": null,
            "_view_module": "@jupyter-widgets/base",
            "_view_module_version": "1.2.0",
            "_view_name": "LayoutView",
            "align_content": null,
            "align_items": null,
            "align_self": null,
            "border": null,
            "bottom": null,
            "display": null,
            "flex": null,
            "flex_flow": null,
            "grid_area": null,
            "grid_auto_columns": null,
            "grid_auto_flow": null,
            "grid_auto_rows": null,
            "grid_column": null,
            "grid_gap": null,
            "grid_row": null,
            "grid_template_areas": null,
            "grid_template_columns": null,
            "grid_template_rows": null,
            "height": null,
            "justify_content": null,
            "justify_items": null,
            "left": null,
            "margin": null,
            "max_height": null,
            "max_width": null,
            "min_height": null,
            "min_width": null,
            "object_fit": null,
            "object_position": null,
            "order": null,
            "overflow": null,
            "overflow_x": null,
            "overflow_y": null,
            "padding": null,
            "right": null,
            "top": null,
            "visibility": null,
            "width": null
          }
        },
        "3872b7307f314c71aab1b650ebe2b65c": {
          "model_module": "@jupyter-widgets/controls",
          "model_name": "DescriptionStyleModel",
          "model_module_version": "1.5.0",
          "state": {
            "_model_module": "@jupyter-widgets/controls",
            "_model_module_version": "1.5.0",
            "_model_name": "DescriptionStyleModel",
            "_view_count": null,
            "_view_module": "@jupyter-widgets/base",
            "_view_module_version": "1.2.0",
            "_view_name": "StyleView",
            "description_width": ""
          }
        },
        "878d8547e30b4dcc827a8c552d4480d2": {
          "model_module": "@jupyter-widgets/controls",
          "model_name": "HBoxModel",
          "model_module_version": "1.5.0",
          "state": {
            "_dom_classes": [],
            "_model_module": "@jupyter-widgets/controls",
            "_model_module_version": "1.5.0",
            "_model_name": "HBoxModel",
            "_view_count": null,
            "_view_module": "@jupyter-widgets/controls",
            "_view_module_version": "1.5.0",
            "_view_name": "HBoxView",
            "box_style": "",
            "children": [
              "IPY_MODEL_30353ee18a984803b3a0490cfc0d7824",
              "IPY_MODEL_9aae6ad3b0f64645bf326121443ffc9b",
              "IPY_MODEL_dbca56d26faf4422a57e2c18acd7df07"
            ],
            "layout": "IPY_MODEL_d6031d8d4ead4f93ab7246263ffd5cdd"
          }
        },
        "30353ee18a984803b3a0490cfc0d7824": {
          "model_module": "@jupyter-widgets/controls",
          "model_name": "HTMLModel",
          "model_module_version": "1.5.0",
          "state": {
            "_dom_classes": [],
            "_model_module": "@jupyter-widgets/controls",
            "_model_module_version": "1.5.0",
            "_model_name": "HTMLModel",
            "_view_count": null,
            "_view_module": "@jupyter-widgets/controls",
            "_view_module_version": "1.5.0",
            "_view_name": "HTMLView",
            "description": "",
            "description_tooltip": null,
            "layout": "IPY_MODEL_85cbae717d794a439dacb6bf2cfc2ee3",
            "placeholder": "​",
            "style": "IPY_MODEL_925373049311438b8f759d2da84ef854",
            "value": "Downloading model.safetensors: 100%"
          }
        },
        "9aae6ad3b0f64645bf326121443ffc9b": {
          "model_module": "@jupyter-widgets/controls",
          "model_name": "FloatProgressModel",
          "model_module_version": "1.5.0",
          "state": {
            "_dom_classes": [],
            "_model_module": "@jupyter-widgets/controls",
            "_model_module_version": "1.5.0",
            "_model_name": "FloatProgressModel",
            "_view_count": null,
            "_view_module": "@jupyter-widgets/controls",
            "_view_module_version": "1.5.0",
            "_view_name": "ProgressView",
            "bar_style": "success",
            "description": "",
            "description_tooltip": null,
            "layout": "IPY_MODEL_84be8261785b4bf8a1eb5b262775d91f",
            "max": 440449768,
            "min": 0,
            "orientation": "horizontal",
            "style": "IPY_MODEL_4cce0bbbb3344e0e8cd66386730c7197",
            "value": 440449768
          }
        },
        "dbca56d26faf4422a57e2c18acd7df07": {
          "model_module": "@jupyter-widgets/controls",
          "model_name": "HTMLModel",
          "model_module_version": "1.5.0",
          "state": {
            "_dom_classes": [],
            "_model_module": "@jupyter-widgets/controls",
            "_model_module_version": "1.5.0",
            "_model_name": "HTMLModel",
            "_view_count": null,
            "_view_module": "@jupyter-widgets/controls",
            "_view_module_version": "1.5.0",
            "_view_name": "HTMLView",
            "description": "",
            "description_tooltip": null,
            "layout": "IPY_MODEL_d8b2e73744ab4aea9bd117a462efa077",
            "placeholder": "​",
            "style": "IPY_MODEL_35e8f80cbbf945c3b555169def70d854",
            "value": " 440M/440M [00:05&lt;00:00, 87.1MB/s]"
          }
        },
        "d6031d8d4ead4f93ab7246263ffd5cdd": {
          "model_module": "@jupyter-widgets/base",
          "model_name": "LayoutModel",
          "model_module_version": "1.2.0",
          "state": {
            "_model_module": "@jupyter-widgets/base",
            "_model_module_version": "1.2.0",
            "_model_name": "LayoutModel",
            "_view_count": null,
            "_view_module": "@jupyter-widgets/base",
            "_view_module_version": "1.2.0",
            "_view_name": "LayoutView",
            "align_content": null,
            "align_items": null,
            "align_self": null,
            "border": null,
            "bottom": null,
            "display": null,
            "flex": null,
            "flex_flow": null,
            "grid_area": null,
            "grid_auto_columns": null,
            "grid_auto_flow": null,
            "grid_auto_rows": null,
            "grid_column": null,
            "grid_gap": null,
            "grid_row": null,
            "grid_template_areas": null,
            "grid_template_columns": null,
            "grid_template_rows": null,
            "height": null,
            "justify_content": null,
            "justify_items": null,
            "left": null,
            "margin": null,
            "max_height": null,
            "max_width": null,
            "min_height": null,
            "min_width": null,
            "object_fit": null,
            "object_position": null,
            "order": null,
            "overflow": null,
            "overflow_x": null,
            "overflow_y": null,
            "padding": null,
            "right": null,
            "top": null,
            "visibility": null,
            "width": null
          }
        },
        "85cbae717d794a439dacb6bf2cfc2ee3": {
          "model_module": "@jupyter-widgets/base",
          "model_name": "LayoutModel",
          "model_module_version": "1.2.0",
          "state": {
            "_model_module": "@jupyter-widgets/base",
            "_model_module_version": "1.2.0",
            "_model_name": "LayoutModel",
            "_view_count": null,
            "_view_module": "@jupyter-widgets/base",
            "_view_module_version": "1.2.0",
            "_view_name": "LayoutView",
            "align_content": null,
            "align_items": null,
            "align_self": null,
            "border": null,
            "bottom": null,
            "display": null,
            "flex": null,
            "flex_flow": null,
            "grid_area": null,
            "grid_auto_columns": null,
            "grid_auto_flow": null,
            "grid_auto_rows": null,
            "grid_column": null,
            "grid_gap": null,
            "grid_row": null,
            "grid_template_areas": null,
            "grid_template_columns": null,
            "grid_template_rows": null,
            "height": null,
            "justify_content": null,
            "justify_items": null,
            "left": null,
            "margin": null,
            "max_height": null,
            "max_width": null,
            "min_height": null,
            "min_width": null,
            "object_fit": null,
            "object_position": null,
            "order": null,
            "overflow": null,
            "overflow_x": null,
            "overflow_y": null,
            "padding": null,
            "right": null,
            "top": null,
            "visibility": null,
            "width": null
          }
        },
        "925373049311438b8f759d2da84ef854": {
          "model_module": "@jupyter-widgets/controls",
          "model_name": "DescriptionStyleModel",
          "model_module_version": "1.5.0",
          "state": {
            "_model_module": "@jupyter-widgets/controls",
            "_model_module_version": "1.5.0",
            "_model_name": "DescriptionStyleModel",
            "_view_count": null,
            "_view_module": "@jupyter-widgets/base",
            "_view_module_version": "1.2.0",
            "_view_name": "StyleView",
            "description_width": ""
          }
        },
        "84be8261785b4bf8a1eb5b262775d91f": {
          "model_module": "@jupyter-widgets/base",
          "model_name": "LayoutModel",
          "model_module_version": "1.2.0",
          "state": {
            "_model_module": "@jupyter-widgets/base",
            "_model_module_version": "1.2.0",
            "_model_name": "LayoutModel",
            "_view_count": null,
            "_view_module": "@jupyter-widgets/base",
            "_view_module_version": "1.2.0",
            "_view_name": "LayoutView",
            "align_content": null,
            "align_items": null,
            "align_self": null,
            "border": null,
            "bottom": null,
            "display": null,
            "flex": null,
            "flex_flow": null,
            "grid_area": null,
            "grid_auto_columns": null,
            "grid_auto_flow": null,
            "grid_auto_rows": null,
            "grid_column": null,
            "grid_gap": null,
            "grid_row": null,
            "grid_template_areas": null,
            "grid_template_columns": null,
            "grid_template_rows": null,
            "height": null,
            "justify_content": null,
            "justify_items": null,
            "left": null,
            "margin": null,
            "max_height": null,
            "max_width": null,
            "min_height": null,
            "min_width": null,
            "object_fit": null,
            "object_position": null,
            "order": null,
            "overflow": null,
            "overflow_x": null,
            "overflow_y": null,
            "padding": null,
            "right": null,
            "top": null,
            "visibility": null,
            "width": null
          }
        },
        "4cce0bbbb3344e0e8cd66386730c7197": {
          "model_module": "@jupyter-widgets/controls",
          "model_name": "ProgressStyleModel",
          "model_module_version": "1.5.0",
          "state": {
            "_model_module": "@jupyter-widgets/controls",
            "_model_module_version": "1.5.0",
            "_model_name": "ProgressStyleModel",
            "_view_count": null,
            "_view_module": "@jupyter-widgets/base",
            "_view_module_version": "1.2.0",
            "_view_name": "StyleView",
            "bar_color": null,
            "description_width": ""
          }
        },
        "d8b2e73744ab4aea9bd117a462efa077": {
          "model_module": "@jupyter-widgets/base",
          "model_name": "LayoutModel",
          "model_module_version": "1.2.0",
          "state": {
            "_model_module": "@jupyter-widgets/base",
            "_model_module_version": "1.2.0",
            "_model_name": "LayoutModel",
            "_view_count": null,
            "_view_module": "@jupyter-widgets/base",
            "_view_module_version": "1.2.0",
            "_view_name": "LayoutView",
            "align_content": null,
            "align_items": null,
            "align_self": null,
            "border": null,
            "bottom": null,
            "display": null,
            "flex": null,
            "flex_flow": null,
            "grid_area": null,
            "grid_auto_columns": null,
            "grid_auto_flow": null,
            "grid_auto_rows": null,
            "grid_column": null,
            "grid_gap": null,
            "grid_row": null,
            "grid_template_areas": null,
            "grid_template_columns": null,
            "grid_template_rows": null,
            "height": null,
            "justify_content": null,
            "justify_items": null,
            "left": null,
            "margin": null,
            "max_height": null,
            "max_width": null,
            "min_height": null,
            "min_width": null,
            "object_fit": null,
            "object_position": null,
            "order": null,
            "overflow": null,
            "overflow_x": null,
            "overflow_y": null,
            "padding": null,
            "right": null,
            "top": null,
            "visibility": null,
            "width": null
          }
        },
        "35e8f80cbbf945c3b555169def70d854": {
          "model_module": "@jupyter-widgets/controls",
          "model_name": "DescriptionStyleModel",
          "model_module_version": "1.5.0",
          "state": {
            "_model_module": "@jupyter-widgets/controls",
            "_model_module_version": "1.5.0",
            "_model_name": "DescriptionStyleModel",
            "_view_count": null,
            "_view_module": "@jupyter-widgets/base",
            "_view_module_version": "1.2.0",
            "_view_name": "StyleView",
            "description_width": ""
          }
        }
      }
    }
  },
  "cells": [
    {
      "cell_type": "markdown",
      "metadata": {
        "id": "view-in-github",
        "colab_type": "text"
      },
      "source": [
        "<a href=\"https://colab.research.google.com/github/ras1364/Run10BERT/blob/CommentWithBreak/BertWithBreak8.ipynb\" target=\"_parent\"><img src=\"https://colab.research.google.com/assets/colab-badge.svg\" alt=\"Open In Colab\"/></a>"
      ]
    },
    {
      "cell_type": "markdown",
      "source": [
        "** BERT encoder + Comment With Break + NLP + MaxPooling and AveragePooling + NLP**"
      ],
      "metadata": {
        "id": "1aAOYqnQ80pE"
      }
    },
    {
      "cell_type": "code",
      "execution_count": null,
      "metadata": {
        "id": "1PdDVhRexpxq"
      },
      "outputs": [],
      "source": [
        "import pandas as pd\n",
        "import numpy as np"
      ]
    },
    {
      "cell_type": "code",
      "source": [
        "from google.colab import files\n",
        "uploaded = files.upload()"
      ],
      "metadata": {
        "colab": {
          "base_uri": "https://localhost:8080/",
          "height": 180
        },
        "id": "z14wlzOcp_Cq",
        "outputId": "c9574ea8-9f70-4e71-9d49-3f892b26b7ee"
      },
      "execution_count": null,
      "outputs": [
        {
          "output_type": "display_data",
          "data": {
            "text/plain": [
              "<IPython.core.display.HTML object>"
            ],
            "text/html": [
              "\n",
              "     <input type=\"file\" id=\"files-bc324e83-461a-401e-9ec7-420884c6a15a\" name=\"files[]\" multiple disabled\n",
              "        style=\"border:none\" />\n",
              "     <output id=\"result-bc324e83-461a-401e-9ec7-420884c6a15a\">\n",
              "      Upload widget is only available when the cell has been executed in the\n",
              "      current browser session. Please rerun this cell to enable.\n",
              "      </output>\n",
              "      <script>// Copyright 2017 Google LLC\n",
              "//\n",
              "// Licensed under the Apache License, Version 2.0 (the \"License\");\n",
              "// you may not use this file except in compliance with the License.\n",
              "// You may obtain a copy of the License at\n",
              "//\n",
              "//      http://www.apache.org/licenses/LICENSE-2.0\n",
              "//\n",
              "// Unless required by applicable law or agreed to in writing, software\n",
              "// distributed under the License is distributed on an \"AS IS\" BASIS,\n",
              "// WITHOUT WARRANTIES OR CONDITIONS OF ANY KIND, either express or implied.\n",
              "// See the License for the specific language governing permissions and\n",
              "// limitations under the License.\n",
              "\n",
              "/**\n",
              " * @fileoverview Helpers for google.colab Python module.\n",
              " */\n",
              "(function(scope) {\n",
              "function span(text, styleAttributes = {}) {\n",
              "  const element = document.createElement('span');\n",
              "  element.textContent = text;\n",
              "  for (const key of Object.keys(styleAttributes)) {\n",
              "    element.style[key] = styleAttributes[key];\n",
              "  }\n",
              "  return element;\n",
              "}\n",
              "\n",
              "// Max number of bytes which will be uploaded at a time.\n",
              "const MAX_PAYLOAD_SIZE = 100 * 1024;\n",
              "\n",
              "function _uploadFiles(inputId, outputId) {\n",
              "  const steps = uploadFilesStep(inputId, outputId);\n",
              "  const outputElement = document.getElementById(outputId);\n",
              "  // Cache steps on the outputElement to make it available for the next call\n",
              "  // to uploadFilesContinue from Python.\n",
              "  outputElement.steps = steps;\n",
              "\n",
              "  return _uploadFilesContinue(outputId);\n",
              "}\n",
              "\n",
              "// This is roughly an async generator (not supported in the browser yet),\n",
              "// where there are multiple asynchronous steps and the Python side is going\n",
              "// to poll for completion of each step.\n",
              "// This uses a Promise to block the python side on completion of each step,\n",
              "// then passes the result of the previous step as the input to the next step.\n",
              "function _uploadFilesContinue(outputId) {\n",
              "  const outputElement = document.getElementById(outputId);\n",
              "  const steps = outputElement.steps;\n",
              "\n",
              "  const next = steps.next(outputElement.lastPromiseValue);\n",
              "  return Promise.resolve(next.value.promise).then((value) => {\n",
              "    // Cache the last promise value to make it available to the next\n",
              "    // step of the generator.\n",
              "    outputElement.lastPromiseValue = value;\n",
              "    return next.value.response;\n",
              "  });\n",
              "}\n",
              "\n",
              "/**\n",
              " * Generator function which is called between each async step of the upload\n",
              " * process.\n",
              " * @param {string} inputId Element ID of the input file picker element.\n",
              " * @param {string} outputId Element ID of the output display.\n",
              " * @return {!Iterable<!Object>} Iterable of next steps.\n",
              " */\n",
              "function* uploadFilesStep(inputId, outputId) {\n",
              "  const inputElement = document.getElementById(inputId);\n",
              "  inputElement.disabled = false;\n",
              "\n",
              "  const outputElement = document.getElementById(outputId);\n",
              "  outputElement.innerHTML = '';\n",
              "\n",
              "  const pickedPromise = new Promise((resolve) => {\n",
              "    inputElement.addEventListener('change', (e) => {\n",
              "      resolve(e.target.files);\n",
              "    });\n",
              "  });\n",
              "\n",
              "  const cancel = document.createElement('button');\n",
              "  inputElement.parentElement.appendChild(cancel);\n",
              "  cancel.textContent = 'Cancel upload';\n",
              "  const cancelPromise = new Promise((resolve) => {\n",
              "    cancel.onclick = () => {\n",
              "      resolve(null);\n",
              "    };\n",
              "  });\n",
              "\n",
              "  // Wait for the user to pick the files.\n",
              "  const files = yield {\n",
              "    promise: Promise.race([pickedPromise, cancelPromise]),\n",
              "    response: {\n",
              "      action: 'starting',\n",
              "    }\n",
              "  };\n",
              "\n",
              "  cancel.remove();\n",
              "\n",
              "  // Disable the input element since further picks are not allowed.\n",
              "  inputElement.disabled = true;\n",
              "\n",
              "  if (!files) {\n",
              "    return {\n",
              "      response: {\n",
              "        action: 'complete',\n",
              "      }\n",
              "    };\n",
              "  }\n",
              "\n",
              "  for (const file of files) {\n",
              "    const li = document.createElement('li');\n",
              "    li.append(span(file.name, {fontWeight: 'bold'}));\n",
              "    li.append(span(\n",
              "        `(${file.type || 'n/a'}) - ${file.size} bytes, ` +\n",
              "        `last modified: ${\n",
              "            file.lastModifiedDate ? file.lastModifiedDate.toLocaleDateString() :\n",
              "                                    'n/a'} - `));\n",
              "    const percent = span('0% done');\n",
              "    li.appendChild(percent);\n",
              "\n",
              "    outputElement.appendChild(li);\n",
              "\n",
              "    const fileDataPromise = new Promise((resolve) => {\n",
              "      const reader = new FileReader();\n",
              "      reader.onload = (e) => {\n",
              "        resolve(e.target.result);\n",
              "      };\n",
              "      reader.readAsArrayBuffer(file);\n",
              "    });\n",
              "    // Wait for the data to be ready.\n",
              "    let fileData = yield {\n",
              "      promise: fileDataPromise,\n",
              "      response: {\n",
              "        action: 'continue',\n",
              "      }\n",
              "    };\n",
              "\n",
              "    // Use a chunked sending to avoid message size limits. See b/62115660.\n",
              "    let position = 0;\n",
              "    do {\n",
              "      const length = Math.min(fileData.byteLength - position, MAX_PAYLOAD_SIZE);\n",
              "      const chunk = new Uint8Array(fileData, position, length);\n",
              "      position += length;\n",
              "\n",
              "      const base64 = btoa(String.fromCharCode.apply(null, chunk));\n",
              "      yield {\n",
              "        response: {\n",
              "          action: 'append',\n",
              "          file: file.name,\n",
              "          data: base64,\n",
              "        },\n",
              "      };\n",
              "\n",
              "      let percentDone = fileData.byteLength === 0 ?\n",
              "          100 :\n",
              "          Math.round((position / fileData.byteLength) * 100);\n",
              "      percent.textContent = `${percentDone}% done`;\n",
              "\n",
              "    } while (position < fileData.byteLength);\n",
              "  }\n",
              "\n",
              "  // All done.\n",
              "  yield {\n",
              "    response: {\n",
              "      action: 'complete',\n",
              "    }\n",
              "  };\n",
              "}\n",
              "\n",
              "scope.google = scope.google || {};\n",
              "scope.google.colab = scope.google.colab || {};\n",
              "scope.google.colab._files = {\n",
              "  _uploadFiles,\n",
              "  _uploadFilesContinue,\n",
              "};\n",
              "})(self);\n",
              "</script> "
            ]
          },
          "metadata": {}
        },
        {
          "output_type": "stream",
          "name": "stdout",
          "text": [
            "Saving X_test6.csv to X_test6.csv\n",
            "Saving X_train6.csv to X_train6.csv\n",
            "Saving y_test6.csv to y_test6.csv\n",
            "Saving y_train6.csv to y_train6.csv\n"
          ]
        }
      ]
    },
    {
      "cell_type": "code",
      "source": [
        "num = \"6\"\n",
        "X_test = pd.read_csv(\"/content/X_test\"+num+\".csv\")\n",
        "X_train = pd.read_csv(\"/content/X_train\"+num+\".csv\")\n",
        "y_test = pd.read_csv(\"/content/y_test\"+num+\".csv\")\n",
        "y_train = pd.read_csv(\"/content/y_train\"+num+\".csv\")"
      ],
      "metadata": {
        "id": "L3jbVEROyLEC"
      },
      "execution_count": null,
      "outputs": []
    },
    {
      "cell_type": "code",
      "source": [
        "max_length = 100\n",
        "# for x in range(0,len(X_train)):\n",
        "#   line = X_train.loc[x].at[\"text\"]\n",
        "#   if max_length < len(line.split()) :\n",
        "#     max_length = len(line.split())\n",
        "\n",
        "print(max_length)\n"
      ],
      "metadata": {
        "colab": {
          "base_uri": "https://localhost:8080/"
        },
        "id": "E_IU66B2rG_e",
        "outputId": "6e8d0e3b-9170-4fba-cc8a-ead21862fdb9"
      },
      "execution_count": null,
      "outputs": [
        {
          "output_type": "stream",
          "name": "stdout",
          "text": [
            "100\n"
          ]
        }
      ]
    },
    {
      "cell_type": "code",
      "source": [
        "from gensim.parsing.preprocessing import remove_stopwords\n",
        "\n",
        "def preprocess(text):\n",
        "  return remove_stopwords(text)\n",
        "\n",
        "X_train[\"stemmed_text_data\"] = X_train[\"text\"].map(preprocess)\n",
        "X_test[\"stemmed_text_data\"] = X_test[\"text\"].map(preprocess)"
      ],
      "metadata": {
        "id": "9wpXnXU0q9sx"
      },
      "execution_count": null,
      "outputs": []
    },
    {
      "cell_type": "code",
      "source": [
        "!pip install transformers"
      ],
      "metadata": {
        "id": "HtoBc6lH4ESj",
        "outputId": "0ad60205-df02-4d78-f904-7e58320be401",
        "colab": {
          "base_uri": "https://localhost:8080/"
        }
      },
      "execution_count": null,
      "outputs": [
        {
          "output_type": "stream",
          "name": "stdout",
          "text": [
            "Collecting transformers\n",
            "  Downloading transformers-4.31.0-py3-none-any.whl (7.4 MB)\n",
            "\u001b[2K     \u001b[90m━━━━━━━━━━━━━━━━━━━━━━━━━━━━━━━━━━━━━━━━\u001b[0m \u001b[32m7.4/7.4 MB\u001b[0m \u001b[31m50.1 MB/s\u001b[0m eta \u001b[36m0:00:00\u001b[0m\n",
            "\u001b[?25hRequirement already satisfied: filelock in /usr/local/lib/python3.10/dist-packages (from transformers) (3.12.2)\n",
            "Collecting huggingface-hub<1.0,>=0.14.1 (from transformers)\n",
            "  Downloading huggingface_hub-0.16.4-py3-none-any.whl (268 kB)\n",
            "\u001b[2K     \u001b[90m━━━━━━━━━━━━━━━━━━━━━━━━━━━━━━━━━━━━━━\u001b[0m \u001b[32m268.8/268.8 kB\u001b[0m \u001b[31m30.3 MB/s\u001b[0m eta \u001b[36m0:00:00\u001b[0m\n",
            "\u001b[?25hRequirement already satisfied: numpy>=1.17 in /usr/local/lib/python3.10/dist-packages (from transformers) (1.23.5)\n",
            "Requirement already satisfied: packaging>=20.0 in /usr/local/lib/python3.10/dist-packages (from transformers) (23.1)\n",
            "Requirement already satisfied: pyyaml>=5.1 in /usr/local/lib/python3.10/dist-packages (from transformers) (6.0.1)\n",
            "Requirement already satisfied: regex!=2019.12.17 in /usr/local/lib/python3.10/dist-packages (from transformers) (2023.6.3)\n",
            "Requirement already satisfied: requests in /usr/local/lib/python3.10/dist-packages (from transformers) (2.31.0)\n",
            "Collecting tokenizers!=0.11.3,<0.14,>=0.11.1 (from transformers)\n",
            "  Downloading tokenizers-0.13.3-cp310-cp310-manylinux_2_17_x86_64.manylinux2014_x86_64.whl (7.8 MB)\n",
            "\u001b[2K     \u001b[90m━━━━━━━━━━━━━━━━━━━━━━━━━━━━━━━━━━━━━━━━\u001b[0m \u001b[32m7.8/7.8 MB\u001b[0m \u001b[31m91.4 MB/s\u001b[0m eta \u001b[36m0:00:00\u001b[0m\n",
            "\u001b[?25hCollecting safetensors>=0.3.1 (from transformers)\n",
            "  Downloading safetensors-0.3.2-cp310-cp310-manylinux_2_17_x86_64.manylinux2014_x86_64.whl (1.3 MB)\n",
            "\u001b[2K     \u001b[90m━━━━━━━━━━━━━━━━━━━━━━━━━━━━━━━━━━━━━━━━\u001b[0m \u001b[32m1.3/1.3 MB\u001b[0m \u001b[31m63.6 MB/s\u001b[0m eta \u001b[36m0:00:00\u001b[0m\n",
            "\u001b[?25hRequirement already satisfied: tqdm>=4.27 in /usr/local/lib/python3.10/dist-packages (from transformers) (4.66.0)\n",
            "Requirement already satisfied: fsspec in /usr/local/lib/python3.10/dist-packages (from huggingface-hub<1.0,>=0.14.1->transformers) (2023.6.0)\n",
            "Requirement already satisfied: typing-extensions>=3.7.4.3 in /usr/local/lib/python3.10/dist-packages (from huggingface-hub<1.0,>=0.14.1->transformers) (4.7.1)\n",
            "Requirement already satisfied: charset-normalizer<4,>=2 in /usr/local/lib/python3.10/dist-packages (from requests->transformers) (3.2.0)\n",
            "Requirement already satisfied: idna<4,>=2.5 in /usr/local/lib/python3.10/dist-packages (from requests->transformers) (3.4)\n",
            "Requirement already satisfied: urllib3<3,>=1.21.1 in /usr/local/lib/python3.10/dist-packages (from requests->transformers) (2.0.4)\n",
            "Requirement already satisfied: certifi>=2017.4.17 in /usr/local/lib/python3.10/dist-packages (from requests->transformers) (2023.7.22)\n",
            "Installing collected packages: tokenizers, safetensors, huggingface-hub, transformers\n",
            "Successfully installed huggingface-hub-0.16.4 safetensors-0.3.2 tokenizers-0.13.3 transformers-4.31.0\n"
          ]
        }
      ]
    },
    {
      "cell_type": "code",
      "source": [
        "from transformers import AutoTokenizer, TFBertModel\n",
        "tokenizer = AutoTokenizer.from_pretrained('bert-base-uncased')\n",
        "bert_model = TFBertModel.from_pretrained('bert-base-uncased')"
      ],
      "metadata": {
        "id": "aqJxHbdjkiXL",
        "outputId": "c2d0f48e-98af-400f-a8b1-776fd108c8fa",
        "colab": {
          "base_uri": "https://localhost:8080/",
          "height": 288,
          "referenced_widgets": [
            "36d6f671579a4905b73c18008459cb72",
            "6a949ea3575444d8945f74ab1153c4fa",
            "fdd22a337d9c4bb4a7e3de81b1baab2e",
            "0f8f967ec7fc4cb6ae5114d40cb9dba3",
            "9a4fd9a9141446b1901c3862ba1cedc6",
            "e8d316a12f124ec5b5a117e4e5be3c09",
            "b2409450f66541c0abdb4ae2d38d277d",
            "f5324a030fd849588d3a87364e0968e5",
            "92cbded6864d455c89e6bac49bcfb7b8",
            "e0b557823a734203b0e4eefda6c6562b",
            "4e3a4364331b40f3a6e436a111b8bfed",
            "c863a5f3f909419c8114162285663e89",
            "3906171119bd424c8b09528b3495843a",
            "6139d81b2f0d41b2971a590619846c36",
            "f15b383aafbc4fb8b7774098695b8240",
            "5a46e37621c14cc0af0b7b807f545f2b",
            "996ae603598d4aa4bbc9ee9364a1d296",
            "60a044282b514c02888d362a4eefd168",
            "b30ba9d3150d48948f9aae8c9f2b2a46",
            "d4910d9bfa764eefabd8329ea1868521",
            "70a279a3b1a74d1c93269be28f350d26",
            "0759016d76e043a289c2b7d91d61114e",
            "faed1960c7d74676a35bb99519a825b0",
            "0a22686250db4d39ab5bb5a72f928279",
            "c69ddbd0ddef49a58215a64039f56460",
            "f2600362d098409c9bdf0d2456072328",
            "ac9883633891413d8746943b1ae77c26",
            "83150100d56643d989b7e40f5fe2c0ae",
            "ecbc57cbbfb44dc9b5ef8a1573f1a289",
            "f03d3ad6461745129a93e4855bad1c80",
            "84289561eba24ac59d1bf45b6751d8ae",
            "8f8075b0603b4117b483bf8611d000bd",
            "8565f4210d5f468e861eed507b82954f",
            "6fc9fdd50ed04bb59d2014b290e53459",
            "1f857b9cb006459092e7ece11a435d88",
            "e13ec9c2f1484a26b503c9e81b73ddf4",
            "5d6eb635b58b44c9a720505e7927ad32",
            "dd60ea30aacf46348535f80d19a30001",
            "d729eb59767043128f8e97bc53b5557b",
            "588985c62f2046ea887800d014d9dee5",
            "781ee8351a0044e59befd2e4c372a973",
            "e9ec60196f6a4effb882cf4e5f803ede",
            "cd9b6b9da744420587f3029b9d5af0e5",
            "3872b7307f314c71aab1b650ebe2b65c",
            "878d8547e30b4dcc827a8c552d4480d2",
            "30353ee18a984803b3a0490cfc0d7824",
            "9aae6ad3b0f64645bf326121443ffc9b",
            "dbca56d26faf4422a57e2c18acd7df07",
            "d6031d8d4ead4f93ab7246263ffd5cdd",
            "85cbae717d794a439dacb6bf2cfc2ee3",
            "925373049311438b8f759d2da84ef854",
            "84be8261785b4bf8a1eb5b262775d91f",
            "4cce0bbbb3344e0e8cd66386730c7197",
            "d8b2e73744ab4aea9bd117a462efa077",
            "35e8f80cbbf945c3b555169def70d854"
          ]
        }
      },
      "execution_count": null,
      "outputs": [
        {
          "output_type": "display_data",
          "data": {
            "text/plain": [
              "Downloading (…)okenizer_config.json:   0%|          | 0.00/28.0 [00:00<?, ?B/s]"
            ],
            "application/vnd.jupyter.widget-view+json": {
              "version_major": 2,
              "version_minor": 0,
              "model_id": "36d6f671579a4905b73c18008459cb72"
            }
          },
          "metadata": {}
        },
        {
          "output_type": "display_data",
          "data": {
            "text/plain": [
              "Downloading (…)lve/main/config.json:   0%|          | 0.00/570 [00:00<?, ?B/s]"
            ],
            "application/vnd.jupyter.widget-view+json": {
              "version_major": 2,
              "version_minor": 0,
              "model_id": "c863a5f3f909419c8114162285663e89"
            }
          },
          "metadata": {}
        },
        {
          "output_type": "display_data",
          "data": {
            "text/plain": [
              "Downloading (…)solve/main/vocab.txt:   0%|          | 0.00/232k [00:00<?, ?B/s]"
            ],
            "application/vnd.jupyter.widget-view+json": {
              "version_major": 2,
              "version_minor": 0,
              "model_id": "faed1960c7d74676a35bb99519a825b0"
            }
          },
          "metadata": {}
        },
        {
          "output_type": "display_data",
          "data": {
            "text/plain": [
              "Downloading (…)/main/tokenizer.json:   0%|          | 0.00/466k [00:00<?, ?B/s]"
            ],
            "application/vnd.jupyter.widget-view+json": {
              "version_major": 2,
              "version_minor": 0,
              "model_id": "6fc9fdd50ed04bb59d2014b290e53459"
            }
          },
          "metadata": {}
        },
        {
          "output_type": "display_data",
          "data": {
            "text/plain": [
              "Downloading model.safetensors:   0%|          | 0.00/440M [00:00<?, ?B/s]"
            ],
            "application/vnd.jupyter.widget-view+json": {
              "version_major": 2,
              "version_minor": 0,
              "model_id": "878d8547e30b4dcc827a8c552d4480d2"
            }
          },
          "metadata": {}
        },
        {
          "output_type": "stream",
          "name": "stderr",
          "text": [
            "Some weights of the PyTorch model were not used when initializing the TF 2.0 model TFBertModel: ['cls.predictions.transform.LayerNorm.weight', 'cls.predictions.transform.dense.weight', 'cls.seq_relationship.bias', 'cls.predictions.transform.dense.bias', 'cls.seq_relationship.weight', 'cls.predictions.bias', 'cls.predictions.transform.LayerNorm.bias']\n",
            "- This IS expected if you are initializing TFBertModel from a PyTorch model trained on another task or with another architecture (e.g. initializing a TFBertForSequenceClassification model from a BertForPreTraining model).\n",
            "- This IS NOT expected if you are initializing TFBertModel from a PyTorch model that you expect to be exactly identical (e.g. initializing a TFBertForSequenceClassification model from a BertForSequenceClassification model).\n",
            "All the weights of TFBertModel were initialized from the PyTorch model.\n",
            "If your task is similar to the task the model of the checkpoint was trained on, you can already use TFBertModel for predictions without further training.\n"
          ]
        }
      ]
    },
    {
      "cell_type": "code",
      "source": [
        "# For Test\n",
        "# encoded = tokenizer.encode_plus(\"Hello beautifull human, i'm Reza\", return_tensors=\"tf\")\n",
        "# embedding = bert_model(encoded['input_ids'],encoded['attention_mask'])"
      ],
      "metadata": {
        "id": "UaxMvPiaEPVz"
      },
      "execution_count": null,
      "outputs": []
    },
    {
      "cell_type": "code",
      "source": [
        "def percent_complete(step, total_steps, bar_width=60, title=\"\", print_perc=True):\n",
        "    import sys\n",
        "\n",
        "    # UTF-8 left blocks: 1, 1/8, 1/4, 3/8, 1/2, 5/8, 3/4, 7/8\n",
        "    utf_8s = [\"█\", \"▏\", \"▎\", \"▍\", \"▌\", \"▋\", \"▊\", \"█\"]\n",
        "    perc = 100 * float(step) / float(total_steps)\n",
        "    max_ticks = bar_width * 8\n",
        "    num_ticks = int(round(perc / 100 * max_ticks))\n",
        "    full_ticks = num_ticks / 8      # Number of full blocks\n",
        "    part_ticks = num_ticks % 8      # Size of partial block (array index)\n",
        "\n",
        "    disp = bar = \"\"                 # Blank out variables\n",
        "    bar += utf_8s[0] * int(full_ticks)  # Add full blocks into Progress Bar\n",
        "\n",
        "    # If part_ticks is zero, then no partial block, else append part char\n",
        "    if part_ticks > 0:\n",
        "        bar += utf_8s[part_ticks]\n",
        "\n",
        "    # Pad Progress Bar with fill character\n",
        "    bar += \"▒\" * int((max_ticks/8 - float(num_ticks)/8.0))\n",
        "\n",
        "    if len(title) > 0:\n",
        "        disp = title + \": \"         # Optional title to progress display\n",
        "\n",
        "    # Print progress bar in green: https://stackoverflow.com/a/21786287/6929343\n",
        "    disp += \"\\x1b[0;32m\"            # Color Green\n",
        "    disp += bar                     # Progress bar to progress display\n",
        "    disp += \"\\x1b[0m\"               # Color Reset\n",
        "    if print_perc:\n",
        "        # If requested, append percentage complete to progress display\n",
        "        if perc > 100.0:\n",
        "            perc = 100.0            # Fix \"100.04 %\" rounding error\n",
        "        disp += \" {:6.2f}\".format(perc) + \" %\"\n",
        "\n",
        "    # Output to terminal repetitively over the same line using '\\r'.\n",
        "    sys.stdout.write(\"\\r\" + disp)\n",
        "    sys.stdout.flush()"
      ],
      "metadata": {
        "id": "2Ec0K8-adYTF"
      },
      "execution_count": null,
      "outputs": []
    },
    {
      "cell_type": "code",
      "source": [
        "import nltk\n",
        "nltk.download('punkt')\n",
        "from nltk.tokenize import sent_tokenize\n",
        "import tensorflow as tf\n",
        "\n",
        "def encode(text, maxlen,maxSentences,mtitle):\n",
        "  embeddings=[]\n",
        "  counter = 1\n",
        "  for row in text:\n",
        "    embedding =[]\n",
        "    counter+=1\n",
        "    percent_complete(counter, len(text), title=mtitle)\n",
        "    sentenceCounter = 0\n",
        "    for sent in sent_tokenize(row):\n",
        "      sentenceCounter +=1\n",
        "      if(sentenceCounter<maxSentences):\n",
        "        encoded = tokenizer.encode_plus(\n",
        "          sent,\n",
        "          add_special_tokens=True,\n",
        "          max_length=maxlen,\n",
        "          pad_to_max_length=True,\n",
        "          return_attention_mask=True,\n",
        "          return_tensors=\"tf\"\n",
        "          )\n",
        "        embedding.append(bert_model(encoded['input_ids'],encoded['attention_mask'])[1])\n",
        "    loop = maxSentences - len(embedding)\n",
        "    for x in range(loop):\n",
        "      embedding.append(tf.zeros([1,768],tf.int32))\n",
        "    embeddings.append(embedding)\n",
        "\n",
        "  return embeddings"
      ],
      "metadata": {
        "id": "McfAfoYuHgdL",
        "outputId": "9857d82d-a48c-49cf-b124-b33ac6f24d0c",
        "colab": {
          "base_uri": "https://localhost:8080/"
        }
      },
      "execution_count": null,
      "outputs": [
        {
          "output_type": "stream",
          "name": "stderr",
          "text": [
            "[nltk_data] Downloading package punkt to /root/nltk_data...\n",
            "[nltk_data]   Unzipping tokenizers/punkt.zip.\n"
          ]
        }
      ]
    },
    {
      "cell_type": "code",
      "source": [
        "# for test\n",
        "#my_test= {\"I love my little son. He is very qiute.\",\"He is hamed and he was sick. he is best football player.\",\"I love my little son. He is very qiute.\",\"He is hamed and he was sick. he is best football player.\"}\n",
        "#my_test_encoded = encode(my_test,5)"
      ],
      "metadata": {
        "id": "lGzDCln5I_Eb"
      },
      "execution_count": null,
      "outputs": []
    },
    {
      "cell_type": "code",
      "source": [
        "import time"
      ],
      "metadata": {
        "id": "34tj_7m9VY3V"
      },
      "execution_count": null,
      "outputs": []
    },
    {
      "cell_type": "code",
      "source": [
        "max_sentences = 50\n",
        "startedTime = time.time()\n",
        "X_train_embedding = encode(X_train.stemmed_text_data,max_length,max_sentences,\"X_train_embedding\")\n",
        "endTime= time.time()\n",
        "print(\"\\nTrain Elapsed Time : \", endTime - startedTime, \"sec or \",(endTime - startedTime)/60,\"min\")\n",
        "startedTime = time.time()\n",
        "X_test_embedding  = encode(X_test.stemmed_text_data,max_length,max_sentences,\"X_test_embedding\")\n",
        "endTime= time.time()\n",
        "print(\"\\nTest Elapsed Time : \", endTime - startedTime, \"sec or \",(endTime - startedTime)/60,\"min\")"
      ],
      "metadata": {
        "id": "bMN4mvyMQqNY",
        "outputId": "406c78fb-45d2-4d33-a45a-8ee090db2319",
        "colab": {
          "base_uri": "https://localhost:8080/"
        }
      },
      "execution_count": null,
      "outputs": [
        {
          "metadata": {
            "tags": null
          },
          "name": "stdout",
          "output_type": "stream",
          "text": [
            "\rX_train_embedding: \u001b[0;32m▏▒▒▒▒▒▒▒▒▒▒▒▒▒▒▒▒▒▒▒▒▒▒▒▒▒▒▒▒▒▒▒▒▒▒▒▒▒▒▒▒▒▒▒▒▒▒▒▒▒▒▒▒▒▒▒▒▒▒▒\u001b[0m   0.16 %"
          ]
        },
        {
          "metadata": {
            "tags": null
          },
          "name": "stderr",
          "output_type": "stream",
          "text": [
            "Truncation was not explicitly activated but `max_length` is provided a specific value, please use `truncation=True` to explicitly truncate examples to max length. Defaulting to 'longest_first' truncation strategy. If you encode pairs of sequences (GLUE-style) with the tokenizer you can select this strategy more precisely by providing a specific strategy to `truncation`.\n",
            "/usr/local/lib/python3.10/dist-packages/transformers/tokenization_utils_base.py:2393: FutureWarning: The `pad_to_max_length` argument is deprecated and will be removed in a future version, use `padding=True` or `padding='longest'` to pad to the longest sequence in the batch, or use `padding='max_length'` to pad to a max length. In this case, you can give a specific length with `max_length` (e.g. `max_length=45`) or leave max_length to None to pad to the maximal input size of the model (e.g. 512 for Bert).\n",
            "  warnings.warn(\n"
          ]
        },
        {
          "output_type": "stream",
          "name": "stdout",
          "text": [
            "X_train_embedding: \u001b[0;32m████████████████████████████████████████████████████████████\u001b[0m 100.00 %\n",
            "Train Elapsed Time :  8432.908460140228 sec or  140.54847433567048 min\n",
            "X_test_embedding: \u001b[0;32m████████████████████████████████████████████████████████████▎\u001b[0m 100.00 %\n",
            "Test Elapsed Time :  2071.8622493743896 sec or  34.53103748957316 min\n"
          ]
        }
      ]
    },
    {
      "cell_type": "code",
      "source": [
        "np.shape(X_train_embedding)"
      ],
      "metadata": {
        "id": "efDHPwKLJ-t0",
        "outputId": "483dcbf7-33b8-430a-dfa7-8cc6fe830491",
        "colab": {
          "base_uri": "https://localhost:8080/"
        }
      },
      "execution_count": null,
      "outputs": [
        {
          "output_type": "execute_result",
          "data": {
            "text/plain": [
              "(1280, 50, 1, 768)"
            ]
          },
          "metadata": {},
          "execution_count": 14
        }
      ]
    },
    {
      "cell_type": "code",
      "source": [
        "X_train_embedding_squeezed = np.squeeze(X_train_embedding)\n",
        "X_test_embedding_squeezed = np.squeeze(X_test_embedding)\n",
        "print(np.shape(X_train_embedding_squeezed))\n",
        "print(np.shape(X_test_embedding_squeezed))"
      ],
      "metadata": {
        "id": "-tYpkp91Ka1i",
        "outputId": "480b8991-fd34-4807-c284-84760946079d",
        "colab": {
          "base_uri": "https://localhost:8080/"
        }
      },
      "execution_count": null,
      "outputs": [
        {
          "output_type": "stream",
          "name": "stdout",
          "text": [
            "(1280, 50, 768)\n",
            "(320, 50, 768)\n"
          ]
        }
      ]
    },
    {
      "cell_type": "code",
      "source": [
        "from tempfile import TemporaryFile\n",
        "X_train_embedded_file = TemporaryFile()\n",
        "X_test_embedded_file = TemporaryFile()\n",
        "np.save(X_train_embedded_file,X_train_embedding_squeezed)\n",
        "np.save(X_test_embedded_file,X_test_embedding_squeezed)\n"
      ],
      "metadata": {
        "id": "LoNDPvD6qn6g"
      },
      "execution_count": null,
      "outputs": []
    },
    {
      "cell_type": "code",
      "source": [
        "np.save(\"X_train_embedded_file.npy\",X_train_embedding_squeezed)\n",
        "np.save(\"X_test_embedded_file.npy\",X_test_embedding_squeezed)\n"
      ],
      "metadata": {
        "id": "1zfr2TgPtfMp"
      },
      "execution_count": null,
      "outputs": []
    },
    {
      "cell_type": "code",
      "source": [
        "X_train_embedding_squeezed = np.load(\"X_train_embedded_file.npy\")\n",
        "X_test_embedding_squeezed = np.load(\"X_test_embedded_file.npy\")"
      ],
      "metadata": {
        "id": "pmzXe_d2WnTi"
      },
      "execution_count": null,
      "outputs": []
    },
    {
      "cell_type": "code",
      "source": [
        "import tensorflow as tf\n",
        "from keras.models import Sequential\n",
        "from keras.layers import Dense,MaxPooling1D\n",
        "import keras\n",
        "\n",
        "# define and fit the final model\n",
        "METRICS = [\n",
        "      tf.keras.metrics.BinaryAccuracy(name='accuracy'),\n",
        "      tf.keras.metrics.Precision(name='precision'),\n",
        "      tf.keras.metrics.Recall(name='recall')\n",
        "   ]\n",
        "model = Sequential()\n",
        "model.add(keras.Input(shape=(50,768,)))\n",
        "model.add(MaxPooling1D(pool_size=(50)))\n",
        "model.add(Dense(64, activation='relu'))\n",
        "model.add(Dense(32, activation='relu'))\n",
        "model.add(Dense(1, activation='sigmoid'))\n",
        "model.compile(loss='binary_crossentropy', optimizer='adam', metrics=METRICS)"
      ],
      "metadata": {
        "id": "aPhAKNSfXAJN"
      },
      "execution_count": null,
      "outputs": []
    },
    {
      "cell_type": "code",
      "source": [
        "model.summary()"
      ],
      "metadata": {
        "colab": {
          "base_uri": "https://localhost:8080/"
        },
        "id": "A3-sUXZVXLaw",
        "outputId": "1dcb4f96-07c0-4827-8d54-8e83d2e9d6d7"
      },
      "execution_count": null,
      "outputs": [
        {
          "output_type": "stream",
          "name": "stdout",
          "text": [
            "Model: \"sequential\"\n",
            "_________________________________________________________________\n",
            " Layer (type)                Output Shape              Param #   \n",
            "=================================================================\n",
            " max_pooling1d (MaxPooling1D  (None, 1, 768)           0         \n",
            " )                                                               \n",
            "                                                                 \n",
            " dense (Dense)               (None, 1, 64)             49216     \n",
            "                                                                 \n",
            " dense_1 (Dense)             (None, 1, 32)             2080      \n",
            "                                                                 \n",
            " dense_2 (Dense)             (None, 1, 1)              33        \n",
            "                                                                 \n",
            "=================================================================\n",
            "Total params: 51,329\n",
            "Trainable params: 51,329\n",
            "Non-trainable params: 0\n",
            "_________________________________________________________________\n"
          ]
        }
      ]
    },
    {
      "cell_type": "code",
      "source": [
        "startedTime = time.time()\n",
        "model.fit(X_train_embedding_squeezed,y_train.deceptive, epochs=50, batch_size=64, verbose=1)\n",
        "endTime= time.time()\n",
        "print(\"\\nTrain Elapsed Time : \", endTime - startedTime, \"sec or \",(endTime - startedTime)/60,\"min\")"
      ],
      "metadata": {
        "colab": {
          "base_uri": "https://localhost:8080/"
        },
        "id": "rh5sgt1oXNgt",
        "outputId": "73a212bb-32e9-4232-be2f-57a1542755df"
      },
      "execution_count": null,
      "outputs": [
        {
          "output_type": "stream",
          "name": "stdout",
          "text": [
            "Epoch 1/50\n",
            "20/20 [==============================] - 2s 13ms/step - loss: 0.7045 - accuracy: 0.5195 - precision: 0.5199 - recall: 0.5109\n",
            "Epoch 2/50\n",
            "20/20 [==============================] - 0s 8ms/step - loss: 0.6907 - accuracy: 0.5375 - precision: 0.5338 - recall: 0.5922\n",
            "Epoch 3/50\n",
            "20/20 [==============================] - 0s 7ms/step - loss: 0.6850 - accuracy: 0.5492 - precision: 0.5560 - recall: 0.4891\n",
            "Epoch 4/50\n",
            "20/20 [==============================] - 0s 7ms/step - loss: 0.6740 - accuracy: 0.5734 - precision: 0.5635 - recall: 0.6516\n",
            "Epoch 5/50\n",
            "20/20 [==============================] - 0s 7ms/step - loss: 0.6701 - accuracy: 0.5922 - precision: 0.5840 - recall: 0.6406\n",
            "Epoch 6/50\n",
            "20/20 [==============================] - 0s 6ms/step - loss: 0.6673 - accuracy: 0.5875 - precision: 0.5881 - recall: 0.5844\n",
            "Epoch 7/50\n",
            "20/20 [==============================] - 0s 6ms/step - loss: 0.6570 - accuracy: 0.6375 - precision: 0.6429 - recall: 0.6187\n",
            "Epoch 8/50\n",
            "20/20 [==============================] - 0s 7ms/step - loss: 0.6506 - accuracy: 0.6328 - precision: 0.6254 - recall: 0.6625\n",
            "Epoch 9/50\n",
            "20/20 [==============================] - 0s 7ms/step - loss: 0.6787 - accuracy: 0.5641 - precision: 0.5719 - recall: 0.5094\n",
            "Epoch 10/50\n",
            "20/20 [==============================] - 0s 7ms/step - loss: 0.6510 - accuracy: 0.6117 - precision: 0.6109 - recall: 0.6156\n",
            "Epoch 11/50\n",
            "20/20 [==============================] - 0s 7ms/step - loss: 0.6396 - accuracy: 0.6422 - precision: 0.6338 - recall: 0.6734\n",
            "Epoch 12/50\n",
            "20/20 [==============================] - 0s 7ms/step - loss: 0.6256 - accuracy: 0.6586 - precision: 0.6723 - recall: 0.6187\n",
            "Epoch 13/50\n",
            "20/20 [==============================] - 0s 10ms/step - loss: 0.6352 - accuracy: 0.6289 - precision: 0.6244 - recall: 0.6469\n",
            "Epoch 14/50\n",
            "20/20 [==============================] - 0s 10ms/step - loss: 0.6238 - accuracy: 0.6531 - precision: 0.6607 - recall: 0.6297\n",
            "Epoch 15/50\n",
            "20/20 [==============================] - 0s 10ms/step - loss: 0.6192 - accuracy: 0.6734 - precision: 0.6779 - recall: 0.6609\n",
            "Epoch 16/50\n",
            "20/20 [==============================] - 0s 10ms/step - loss: 0.6127 - accuracy: 0.6719 - precision: 0.6724 - recall: 0.6703\n",
            "Epoch 17/50\n",
            "20/20 [==============================] - 0s 9ms/step - loss: 0.6130 - accuracy: 0.6594 - precision: 0.6579 - recall: 0.6641\n",
            "Epoch 18/50\n",
            "20/20 [==============================] - 0s 11ms/step - loss: 0.6012 - accuracy: 0.6836 - precision: 0.6929 - recall: 0.6594\n",
            "Epoch 19/50\n",
            "20/20 [==============================] - 0s 10ms/step - loss: 0.6055 - accuracy: 0.6680 - precision: 0.6771 - recall: 0.6422\n",
            "Epoch 20/50\n",
            "20/20 [==============================] - 0s 10ms/step - loss: 0.6227 - accuracy: 0.6414 - precision: 0.6365 - recall: 0.6594\n",
            "Epoch 21/50\n",
            "20/20 [==============================] - 0s 10ms/step - loss: 0.6065 - accuracy: 0.6680 - precision: 0.6688 - recall: 0.6656\n",
            "Epoch 22/50\n",
            "20/20 [==============================] - 0s 10ms/step - loss: 0.5935 - accuracy: 0.6938 - precision: 0.7160 - recall: 0.6422\n",
            "Epoch 23/50\n",
            "20/20 [==============================] - 0s 11ms/step - loss: 0.6019 - accuracy: 0.6859 - precision: 0.6781 - recall: 0.7078\n",
            "Epoch 24/50\n",
            "20/20 [==============================] - 0s 10ms/step - loss: 0.5839 - accuracy: 0.6852 - precision: 0.6890 - recall: 0.6750\n",
            "Epoch 25/50\n",
            "20/20 [==============================] - 0s 11ms/step - loss: 0.5880 - accuracy: 0.6977 - precision: 0.7024 - recall: 0.6859\n",
            "Epoch 26/50\n",
            "20/20 [==============================] - 0s 9ms/step - loss: 0.5765 - accuracy: 0.6953 - precision: 0.7029 - recall: 0.6766\n",
            "Epoch 27/50\n",
            "20/20 [==============================] - 0s 10ms/step - loss: 0.5806 - accuracy: 0.6953 - precision: 0.6923 - recall: 0.7031\n",
            "Epoch 28/50\n",
            "20/20 [==============================] - 0s 11ms/step - loss: 0.5676 - accuracy: 0.7094 - precision: 0.7127 - recall: 0.7016\n",
            "Epoch 29/50\n",
            "20/20 [==============================] - 0s 11ms/step - loss: 0.5618 - accuracy: 0.7117 - precision: 0.7182 - recall: 0.6969\n",
            "Epoch 30/50\n",
            "20/20 [==============================] - 0s 10ms/step - loss: 0.5669 - accuracy: 0.7086 - precision: 0.7178 - recall: 0.6875\n",
            "Epoch 31/50\n",
            "20/20 [==============================] - 0s 10ms/step - loss: 0.5704 - accuracy: 0.6820 - precision: 0.6829 - recall: 0.6797\n",
            "Epoch 32/50\n",
            "20/20 [==============================] - 0s 9ms/step - loss: 0.5601 - accuracy: 0.7148 - precision: 0.7037 - recall: 0.7422\n",
            "Epoch 33/50\n",
            "20/20 [==============================] - 0s 6ms/step - loss: 0.5643 - accuracy: 0.7016 - precision: 0.7087 - recall: 0.6844\n",
            "Epoch 34/50\n",
            "20/20 [==============================] - 0s 7ms/step - loss: 0.5671 - accuracy: 0.7031 - precision: 0.7104 - recall: 0.6859\n",
            "Epoch 35/50\n",
            "20/20 [==============================] - 0s 7ms/step - loss: 0.5632 - accuracy: 0.7125 - precision: 0.7237 - recall: 0.6875\n",
            "Epoch 36/50\n",
            "20/20 [==============================] - 0s 7ms/step - loss: 0.5441 - accuracy: 0.7289 - precision: 0.7352 - recall: 0.7156\n",
            "Epoch 37/50\n",
            "20/20 [==============================] - 0s 7ms/step - loss: 0.5461 - accuracy: 0.7312 - precision: 0.7277 - recall: 0.7391\n",
            "Epoch 38/50\n",
            "20/20 [==============================] - 0s 7ms/step - loss: 0.5541 - accuracy: 0.7133 - precision: 0.7150 - recall: 0.7094\n",
            "Epoch 39/50\n",
            "20/20 [==============================] - 0s 6ms/step - loss: 0.5581 - accuracy: 0.7180 - precision: 0.7352 - recall: 0.6812\n",
            "Epoch 40/50\n",
            "20/20 [==============================] - 0s 7ms/step - loss: 0.5365 - accuracy: 0.7273 - precision: 0.7263 - recall: 0.7297\n",
            "Epoch 41/50\n",
            "20/20 [==============================] - 0s 7ms/step - loss: 0.5373 - accuracy: 0.7328 - precision: 0.7350 - recall: 0.7281\n",
            "Epoch 42/50\n",
            "20/20 [==============================] - 0s 7ms/step - loss: 0.5402 - accuracy: 0.7219 - precision: 0.7367 - recall: 0.6906\n",
            "Epoch 43/50\n",
            "20/20 [==============================] - 0s 7ms/step - loss: 0.5359 - accuracy: 0.7320 - precision: 0.7226 - recall: 0.7531\n",
            "Epoch 44/50\n",
            "20/20 [==============================] - 0s 7ms/step - loss: 0.5622 - accuracy: 0.7063 - precision: 0.7000 - recall: 0.7219\n",
            "Epoch 45/50\n",
            "20/20 [==============================] - 0s 7ms/step - loss: 0.5285 - accuracy: 0.7383 - precision: 0.7521 - recall: 0.7109\n",
            "Epoch 46/50\n",
            "20/20 [==============================] - 0s 7ms/step - loss: 0.5186 - accuracy: 0.7445 - precision: 0.7488 - recall: 0.7359\n",
            "Epoch 47/50\n",
            "20/20 [==============================] - 0s 7ms/step - loss: 0.5182 - accuracy: 0.7500 - precision: 0.7564 - recall: 0.7375\n",
            "Epoch 48/50\n",
            "20/20 [==============================] - 0s 8ms/step - loss: 0.5314 - accuracy: 0.7414 - precision: 0.7537 - recall: 0.7172\n",
            "Epoch 49/50\n",
            "20/20 [==============================] - 0s 7ms/step - loss: 0.5275 - accuracy: 0.7312 - precision: 0.7395 - recall: 0.7141\n",
            "Epoch 50/50\n",
            "20/20 [==============================] - 0s 7ms/step - loss: 0.5154 - accuracy: 0.7508 - precision: 0.7536 - recall: 0.7453\n",
            "\n",
            "Train Elapsed Time :  12.153295040130615 sec or  0.20255491733551026 min\n"
          ]
        }
      ]
    },
    {
      "cell_type": "code",
      "source": [
        "model.evaluate(X_test_embedding_squeezed, y_test.deceptive)"
      ],
      "metadata": {
        "colab": {
          "base_uri": "https://localhost:8080/"
        },
        "id": "mhOxPmM5XQYd",
        "outputId": "fb7064c4-c40a-417b-d1bb-b22681f569a2"
      },
      "execution_count": null,
      "outputs": [
        {
          "output_type": "stream",
          "name": "stdout",
          "text": [
            "10/10 [==============================] - 0s 6ms/step - loss: 0.5706 - accuracy: 0.7031 - precision: 0.7600 - recall: 0.5938\n"
          ]
        },
        {
          "output_type": "execute_result",
          "data": {
            "text/plain": [
              "[0.5706040263175964, 0.703125, 0.7599999904632568, 0.59375]"
            ]
          },
          "metadata": {},
          "execution_count": 22
        }
      ]
    },
    {
      "cell_type": "code",
      "source": [
        "y_predicted = model.predict(X_test_embedding_squeezed)\n",
        "y_predicted = y_predicted.flatten()"
      ],
      "metadata": {
        "colab": {
          "base_uri": "https://localhost:8080/"
        },
        "id": "e47vWOq8XUd_",
        "outputId": "2938bc98-a79a-4d77-a186-4fa9a8c63985"
      },
      "execution_count": null,
      "outputs": [
        {
          "output_type": "stream",
          "name": "stdout",
          "text": [
            "10/10 [==============================] - 0s 8ms/step\n"
          ]
        }
      ]
    },
    {
      "cell_type": "code",
      "source": [
        "y_predicted = np.where(y_predicted > 0.5, 1, 0)\n",
        "y_predicted"
      ],
      "metadata": {
        "colab": {
          "base_uri": "https://localhost:8080/"
        },
        "id": "-B1s1fVnkmV5",
        "outputId": "3d6ccbb0-a968-4f9f-fde2-e3ef721bb508"
      },
      "execution_count": null,
      "outputs": [
        {
          "output_type": "execute_result",
          "data": {
            "text/plain": [
              "array([1, 1, 0, 0, 0, 1, 0, 1, 0, 1, 0, 0, 1, 0, 0, 0, 0, 0, 0, 1, 0, 0,\n",
              "       0, 1, 0, 0, 0, 1, 1, 0, 1, 1, 0, 1, 1, 1, 0, 1, 1, 0, 1, 1, 0, 1,\n",
              "       1, 0, 0, 0, 0, 0, 0, 1, 0, 1, 1, 0, 0, 0, 1, 0, 0, 0, 1, 0, 0, 1,\n",
              "       0, 0, 0, 0, 0, 0, 1, 0, 1, 0, 1, 1, 0, 0, 0, 1, 1, 1, 1, 1, 0, 1,\n",
              "       0, 0, 0, 0, 0, 0, 0, 1, 1, 1, 0, 0, 0, 0, 1, 1, 1, 1, 1, 0, 0, 0,\n",
              "       0, 1, 0, 1, 0, 1, 1, 0, 1, 1, 1, 1, 0, 1, 0, 1, 1, 1, 0, 1, 0, 0,\n",
              "       0, 0, 1, 1, 0, 0, 0, 1, 0, 0, 0, 0, 1, 0, 0, 0, 0, 1, 1, 1, 0, 0,\n",
              "       1, 0, 0, 1, 0, 1, 0, 0, 1, 1, 0, 1, 0, 0, 0, 0, 0, 1, 0, 0, 0, 1,\n",
              "       0, 1, 0, 1, 1, 0, 1, 0, 1, 0, 0, 0, 1, 0, 0, 0, 0, 0, 0, 0, 1, 0,\n",
              "       1, 0, 0, 1, 0, 0, 1, 0, 0, 0, 0, 0, 0, 1, 0, 0, 1, 0, 0, 0, 0, 0,\n",
              "       1, 0, 0, 1, 0, 1, 0, 0, 0, 0, 1, 0, 0, 0, 1, 1, 0, 0, 0, 0, 0, 1,\n",
              "       0, 1, 1, 0, 0, 0, 0, 0, 0, 0, 0, 0, 0, 0, 0, 0, 0, 1, 1, 1, 1, 0,\n",
              "       1, 1, 0, 0, 1, 0, 0, 0, 1, 1, 1, 1, 1, 0, 1, 1, 1, 1, 0, 1, 1, 0,\n",
              "       0, 1, 0, 1, 0, 0, 0, 0, 1, 1, 1, 1, 0, 0, 0, 0, 0, 0, 1, 0, 1, 1,\n",
              "       1, 0, 0, 0, 1, 0, 1, 0, 0, 1, 0, 0])"
            ]
          },
          "metadata": {},
          "execution_count": 24
        }
      ]
    },
    {
      "cell_type": "code",
      "source": [
        "from sklearn.metrics import confusion_matrix, classification_report\n",
        "\n",
        "cm = confusion_matrix(y_test.deceptive, y_predicted)\n",
        "cm"
      ],
      "metadata": {
        "colab": {
          "base_uri": "https://localhost:8080/"
        },
        "id": "IFGkh43sXeI_",
        "outputId": "90f647a8-63b1-465c-b37e-4d7bbbd6497c"
      },
      "execution_count": null,
      "outputs": [
        {
          "output_type": "execute_result",
          "data": {
            "text/plain": [
              "array([[130,  30],\n",
              "       [ 65,  95]])"
            ]
          },
          "metadata": {},
          "execution_count": 25
        }
      ]
    },
    {
      "cell_type": "code",
      "source": [
        "from matplotlib import pyplot as plt\n",
        "import seaborn as sn\n",
        "sn.heatmap(cm, annot=True, fmt='d')\n",
        "plt.xlabel('Predicted')\n",
        "plt.ylabel('Truth')"
      ],
      "metadata": {
        "colab": {
          "base_uri": "https://localhost:8080/",
          "height": 467
        },
        "id": "-SG4_fFaXgFJ",
        "outputId": "dd5aaed5-ae62-4c06-89ab-690dba0cd730"
      },
      "execution_count": null,
      "outputs": [
        {
          "output_type": "execute_result",
          "data": {
            "text/plain": [
              "Text(50.722222222222214, 0.5, 'Truth')"
            ]
          },
          "metadata": {},
          "execution_count": 26
        },
        {
          "output_type": "display_data",
          "data": {
            "text/plain": [
              "<Figure size 640x480 with 2 Axes>"
            ],
            "image/png": "[encoded data removed]"
          },
          "metadata": {}
        }
      ]
    },
    {
      "cell_type": "code",
      "source": [
        "print(classification_report(y_test.deceptive, y_predicted))"
      ],
      "metadata": {
        "colab": {
          "base_uri": "https://localhost:8080/"
        },
        "id": "mFmviyDZXgqR",
        "outputId": "2841746a-bc4f-458d-cf57-ddbbb51ba97f"
      },
      "execution_count": null,
      "outputs": [
        {
          "output_type": "stream",
          "name": "stdout",
          "text": [
            "              precision    recall  f1-score   support\n",
            "\n",
            "           0       0.67      0.81      0.73       160\n",
            "           1       0.76      0.59      0.67       160\n",
            "\n",
            "    accuracy                           0.70       320\n",
            "   macro avg       0.71      0.70      0.70       320\n",
            "weighted avg       0.71      0.70      0.70       320\n",
            "\n"
          ]
        }
      ]
    },
    {
      "cell_type": "code",
      "source": [
        "import tensorflow as tf\n",
        "from keras.models import Sequential\n",
        "from keras.layers import Dense,AveragePooling1D\n",
        "import keras\n",
        "\n",
        "# define and fit the final model\n",
        "METRICS = [\n",
        "      tf.keras.metrics.BinaryAccuracy(name='accuracy'),\n",
        "      tf.keras.metrics.Precision(name='precision'),\n",
        "      tf.keras.metrics.Recall(name='recall')\n",
        "   ]\n",
        "model = Sequential()\n",
        "model.add(keras.Input(shape=(50,768,)))\n",
        "model.add(AveragePooling1D(pool_size=(50)))\n",
        "model.add(Dense(64, activation='relu'))\n",
        "model.add(Dense(32, activation='relu'))\n",
        "model.add(Dense(1, activation='sigmoid'))\n",
        "model.compile(loss='binary_crossentropy', optimizer='adam', metrics=METRICS)"
      ],
      "metadata": {
        "id": "zU-44Jr3V8QQ"
      },
      "execution_count": null,
      "outputs": []
    },
    {
      "cell_type": "code",
      "source": [
        "model.summary()"
      ],
      "metadata": {
        "id": "Eo6X2uLqWG8c",
        "colab": {
          "base_uri": "https://localhost:8080/"
        },
        "outputId": "ed996cbb-4a15-4546-9fd5-90a83072d88c"
      },
      "execution_count": null,
      "outputs": [
        {
          "output_type": "stream",
          "name": "stdout",
          "text": [
            "Model: \"sequential_1\"\n",
            "_________________________________________________________________\n",
            " Layer (type)                Output Shape              Param #   \n",
            "=================================================================\n",
            " average_pooling1d (AverageP  (None, 1, 768)           0         \n",
            " ooling1D)                                                       \n",
            "                                                                 \n",
            " dense_3 (Dense)             (None, 1, 64)             49216     \n",
            "                                                                 \n",
            " dense_4 (Dense)             (None, 1, 32)             2080      \n",
            "                                                                 \n",
            " dense_5 (Dense)             (None, 1, 1)              33        \n",
            "                                                                 \n",
            "=================================================================\n",
            "Total params: 51,329\n",
            "Trainable params: 51,329\n",
            "Non-trainable params: 0\n",
            "_________________________________________________________________\n"
          ]
        }
      ]
    },
    {
      "cell_type": "code",
      "source": [
        "startedTime = time.time()\n",
        "model.fit(X_train_embedding_squeezed,y_train.deceptive, epochs=50, batch_size=64, verbose=1)\n",
        "endTime= time.time()\n",
        "print(\"\\nTrain Elapsed Time : \", endTime - startedTime, \"sec or \",(endTime - startedTime)/60,\"min\")"
      ],
      "metadata": {
        "id": "QrDWI2jKWNh0",
        "colab": {
          "base_uri": "https://localhost:8080/"
        },
        "outputId": "22563381-5658-408c-aa4e-4bd93f5eb003"
      },
      "execution_count": null,
      "outputs": [
        {
          "output_type": "stream",
          "name": "stdout",
          "text": [
            "Epoch 1/50\n",
            "20/20 [==============================] - 1s 9ms/step - loss: 0.6941 - accuracy: 0.4797 - precision: 0.4872 - recall: 0.7750\n",
            "Epoch 2/50\n",
            "20/20 [==============================] - 0s 8ms/step - loss: 0.6910 - accuracy: 0.5031 - precision: 0.5016 - recall: 0.9812\n",
            "Epoch 3/50\n",
            "20/20 [==============================] - 0s 7ms/step - loss: 0.6879 - accuracy: 0.4969 - precision: 0.4983 - recall: 0.9422\n",
            "Epoch 4/50\n",
            "20/20 [==============================] - 0s 8ms/step - loss: 0.6851 - accuracy: 0.5813 - precision: 0.5573 - recall: 0.7906\n",
            "Epoch 5/50\n",
            "20/20 [==============================] - 0s 7ms/step - loss: 0.6793 - accuracy: 0.5836 - precision: 0.5561 - recall: 0.8281\n",
            "Epoch 6/50\n",
            "20/20 [==============================] - 0s 6ms/step - loss: 0.6713 - accuracy: 0.5891 - precision: 0.5679 - recall: 0.7453\n",
            "Epoch 7/50\n",
            "20/20 [==============================] - 0s 7ms/step - loss: 0.6681 - accuracy: 0.5977 - precision: 0.5839 - recall: 0.6797\n",
            "Epoch 8/50\n",
            "20/20 [==============================] - 0s 6ms/step - loss: 0.6556 - accuracy: 0.6336 - precision: 0.6462 - recall: 0.5906\n",
            "Epoch 9/50\n",
            "20/20 [==============================] - 0s 7ms/step - loss: 0.6513 - accuracy: 0.6227 - precision: 0.6198 - recall: 0.6344\n",
            "Epoch 10/50\n",
            "20/20 [==============================] - 0s 7ms/step - loss: 0.6508 - accuracy: 0.6148 - precision: 0.6354 - recall: 0.5391\n",
            "Epoch 11/50\n",
            "20/20 [==============================] - 0s 6ms/step - loss: 0.6440 - accuracy: 0.6227 - precision: 0.6375 - recall: 0.5688\n",
            "Epoch 12/50\n",
            "20/20 [==============================] - 0s 6ms/step - loss: 0.6402 - accuracy: 0.6344 - precision: 0.6348 - recall: 0.6328\n",
            "Epoch 13/50\n",
            "20/20 [==============================] - 0s 6ms/step - loss: 0.6310 - accuracy: 0.6516 - precision: 0.6844 - recall: 0.5625\n",
            "Epoch 14/50\n",
            "20/20 [==============================] - 0s 7ms/step - loss: 0.6265 - accuracy: 0.6695 - precision: 0.6914 - recall: 0.6125\n",
            "Epoch 15/50\n",
            "20/20 [==============================] - 0s 6ms/step - loss: 0.6203 - accuracy: 0.6711 - precision: 0.6995 - recall: 0.6000\n",
            "Epoch 16/50\n",
            "20/20 [==============================] - 0s 7ms/step - loss: 0.6168 - accuracy: 0.6539 - precision: 0.6639 - recall: 0.6234\n",
            "Epoch 17/50\n",
            "20/20 [==============================] - 0s 6ms/step - loss: 0.6073 - accuracy: 0.6656 - precision: 0.6866 - recall: 0.6094\n",
            "Epoch 18/50\n",
            "20/20 [==============================] - 0s 7ms/step - loss: 0.6056 - accuracy: 0.6773 - precision: 0.7129 - recall: 0.5938\n",
            "Epoch 19/50\n",
            "20/20 [==============================] - 0s 7ms/step - loss: 0.6123 - accuracy: 0.6586 - precision: 0.6784 - recall: 0.6031\n",
            "Epoch 20/50\n",
            "20/20 [==============================] - 0s 6ms/step - loss: 0.6182 - accuracy: 0.6578 - precision: 0.6965 - recall: 0.5594\n",
            "Epoch 21/50\n",
            "20/20 [==============================] - 0s 8ms/step - loss: 0.5992 - accuracy: 0.6773 - precision: 0.6858 - recall: 0.6547\n",
            "Epoch 22/50\n",
            "20/20 [==============================] - 0s 9ms/step - loss: 0.5888 - accuracy: 0.6961 - precision: 0.7213 - recall: 0.6391\n",
            "Epoch 23/50\n",
            "20/20 [==============================] - 0s 9ms/step - loss: 0.5889 - accuracy: 0.6797 - precision: 0.7054 - recall: 0.6172\n",
            "Epoch 24/50\n",
            "20/20 [==============================] - 0s 9ms/step - loss: 0.5894 - accuracy: 0.6875 - precision: 0.6961 - recall: 0.6656\n",
            "Epoch 25/50\n",
            "20/20 [==============================] - 0s 10ms/step - loss: 0.5906 - accuracy: 0.6781 - precision: 0.7119 - recall: 0.5984\n",
            "Epoch 26/50\n",
            "20/20 [==============================] - 0s 10ms/step - loss: 0.5809 - accuracy: 0.6906 - precision: 0.7068 - recall: 0.6516\n",
            "Epoch 27/50\n",
            "20/20 [==============================] - 0s 10ms/step - loss: 0.5820 - accuracy: 0.6883 - precision: 0.7211 - recall: 0.6141\n",
            "Epoch 28/50\n",
            "20/20 [==============================] - 0s 10ms/step - loss: 0.5768 - accuracy: 0.6969 - precision: 0.7059 - recall: 0.6750\n",
            "Epoch 29/50\n",
            "20/20 [==============================] - 0s 10ms/step - loss: 0.5685 - accuracy: 0.7086 - precision: 0.7423 - recall: 0.6391\n",
            "Epoch 30/50\n",
            "20/20 [==============================] - 0s 10ms/step - loss: 0.5764 - accuracy: 0.6984 - precision: 0.7131 - recall: 0.6641\n",
            "Epoch 31/50\n",
            "20/20 [==============================] - 0s 10ms/step - loss: 0.5748 - accuracy: 0.7031 - precision: 0.7167 - recall: 0.6719\n",
            "Epoch 32/50\n",
            "20/20 [==============================] - 0s 10ms/step - loss: 0.5622 - accuracy: 0.7125 - precision: 0.7378 - recall: 0.6594\n",
            "Epoch 33/50\n",
            "20/20 [==============================] - 0s 9ms/step - loss: 0.5572 - accuracy: 0.7203 - precision: 0.7398 - recall: 0.6797\n",
            "Epoch 34/50\n",
            "20/20 [==============================] - 0s 9ms/step - loss: 0.5602 - accuracy: 0.7133 - precision: 0.7374 - recall: 0.6625\n",
            "Epoch 35/50\n",
            "20/20 [==============================] - 0s 9ms/step - loss: 0.5535 - accuracy: 0.7328 - precision: 0.7517 - recall: 0.6953\n",
            "Epoch 36/50\n",
            "20/20 [==============================] - 0s 10ms/step - loss: 0.5580 - accuracy: 0.7109 - precision: 0.7163 - recall: 0.6984\n",
            "Epoch 37/50\n",
            "20/20 [==============================] - 0s 9ms/step - loss: 0.5606 - accuracy: 0.7164 - precision: 0.7400 - recall: 0.6672\n",
            "Epoch 38/50\n",
            "20/20 [==============================] - 0s 10ms/step - loss: 0.5541 - accuracy: 0.7258 - precision: 0.7558 - recall: 0.6672\n",
            "Epoch 39/50\n",
            "20/20 [==============================] - 0s 10ms/step - loss: 0.5495 - accuracy: 0.7125 - precision: 0.7208 - recall: 0.6938\n",
            "Epoch 40/50\n",
            "20/20 [==============================] - 0s 9ms/step - loss: 0.5587 - accuracy: 0.7102 - precision: 0.7331 - recall: 0.6609\n",
            "Epoch 41/50\n",
            "20/20 [==============================] - 0s 8ms/step - loss: 0.5394 - accuracy: 0.7344 - precision: 0.7459 - recall: 0.7109\n",
            "Epoch 42/50\n",
            "20/20 [==============================] - 0s 6ms/step - loss: 0.5443 - accuracy: 0.7312 - precision: 0.7578 - recall: 0.6797\n",
            "Epoch 43/50\n",
            "20/20 [==============================] - 0s 6ms/step - loss: 0.5594 - accuracy: 0.7242 - precision: 0.7349 - recall: 0.7016\n",
            "Epoch 44/50\n",
            "20/20 [==============================] - 0s 7ms/step - loss: 0.5435 - accuracy: 0.7352 - precision: 0.7400 - recall: 0.7250\n",
            "Epoch 45/50\n",
            "20/20 [==============================] - 0s 6ms/step - loss: 0.5366 - accuracy: 0.7398 - precision: 0.7504 - recall: 0.7188\n",
            "Epoch 46/50\n",
            "20/20 [==============================] - 0s 6ms/step - loss: 0.5385 - accuracy: 0.7266 - precision: 0.7331 - recall: 0.7125\n",
            "Epoch 47/50\n",
            "20/20 [==============================] - 0s 7ms/step - loss: 0.5584 - accuracy: 0.7258 - precision: 0.7420 - recall: 0.6922\n",
            "Epoch 48/50\n",
            "20/20 [==============================] - 0s 7ms/step - loss: 0.5403 - accuracy: 0.7406 - precision: 0.7550 - recall: 0.7125\n",
            "Epoch 49/50\n",
            "20/20 [==============================] - 0s 7ms/step - loss: 0.5487 - accuracy: 0.7133 - precision: 0.7317 - recall: 0.6734\n",
            "Epoch 50/50\n",
            "20/20 [==============================] - 0s 6ms/step - loss: 0.5343 - accuracy: 0.7422 - precision: 0.7437 - recall: 0.7391\n",
            "\n",
            "Train Elapsed Time :  11.575199604034424 sec or  0.19291999340057372 min\n"
          ]
        }
      ]
    },
    {
      "cell_type": "code",
      "source": [
        "model.evaluate(X_test_embedding_squeezed, y_test.deceptive)"
      ],
      "metadata": {
        "id": "XUNBOXNFWNcA",
        "colab": {
          "base_uri": "https://localhost:8080/"
        },
        "outputId": "30cf177e-fcd8-4060-cc33-bd85c03d51c2"
      },
      "execution_count": null,
      "outputs": [
        {
          "output_type": "stream",
          "name": "stdout",
          "text": [
            "10/10 [==============================] - 0s 7ms/step - loss: 0.5101 - accuracy: 0.7531 - precision: 0.7682 - recall: 0.7250\n"
          ]
        },
        {
          "output_type": "execute_result",
          "data": {
            "text/plain": [
              "[0.5100796222686768, 0.753125011920929, 0.7682119011878967, 0.7250000238418579]"
            ]
          },
          "metadata": {},
          "execution_count": 31
        }
      ]
    },
    {
      "cell_type": "code",
      "source": [
        "y_predicted = model.predict(X_test_embedding_squeezed)\n",
        "y_predicted = y_predicted.flatten()"
      ],
      "metadata": {
        "id": "XuDQb-dWWSC8",
        "colab": {
          "base_uri": "https://localhost:8080/"
        },
        "outputId": "bf10f8df-b23d-4d5b-fb50-f71aca8dda26"
      },
      "execution_count": null,
      "outputs": [
        {
          "output_type": "stream",
          "name": "stdout",
          "text": [
            "10/10 [==============================] - 0s 7ms/step\n"
          ]
        }
      ]
    },
    {
      "cell_type": "code",
      "source": [
        "y_predicted = np.where(y_predicted > 0.5, 1, 0)\n",
        "y_predicted"
      ],
      "metadata": {
        "id": "QnohzFuOWR78",
        "colab": {
          "base_uri": "https://localhost:8080/"
        },
        "outputId": "c8d5259e-9d45-4a44-81e8-b57142d95e7e"
      },
      "execution_count": null,
      "outputs": [
        {
          "output_type": "execute_result",
          "data": {
            "text/plain": [
              "array([1, 1, 0, 0, 0, 1, 1, 1, 0, 1, 0, 1, 1, 0, 0, 1, 1, 0, 0, 1, 0, 1,\n",
              "       0, 0, 0, 0, 0, 0, 1, 0, 0, 1, 1, 1, 0, 1, 0, 1, 1, 0, 1, 1, 1, 1,\n",
              "       1, 0, 1, 1, 0, 0, 0, 1, 1, 1, 1, 0, 0, 0, 0, 0, 0, 0, 1, 1, 0, 1,\n",
              "       0, 0, 0, 0, 0, 0, 0, 0, 1, 0, 1, 1, 0, 1, 0, 1, 1, 1, 1, 0, 0, 1,\n",
              "       1, 0, 0, 0, 0, 0, 0, 1, 1, 1, 0, 0, 0, 1, 1, 1, 1, 1, 1, 0, 0, 0,\n",
              "       0, 1, 0, 1, 1, 1, 0, 0, 1, 1, 1, 1, 1, 1, 0, 1, 1, 0, 0, 0, 0, 0,\n",
              "       0, 0, 1, 1, 0, 0, 1, 1, 0, 1, 1, 0, 1, 0, 0, 0, 1, 1, 1, 1, 0, 0,\n",
              "       1, 0, 0, 0, 0, 1, 0, 1, 1, 1, 0, 1, 1, 0, 1, 0, 0, 1, 1, 0, 0, 1,\n",
              "       0, 1, 0, 1, 1, 0, 1, 1, 1, 0, 0, 1, 1, 0, 1, 1, 0, 0, 0, 0, 1, 1,\n",
              "       1, 0, 0, 1, 0, 1, 1, 0, 0, 1, 0, 0, 0, 0, 1, 1, 1, 1, 0, 0, 0, 1,\n",
              "       1, 0, 0, 1, 0, 1, 1, 1, 0, 0, 0, 1, 0, 0, 0, 0, 1, 0, 0, 0, 0, 1,\n",
              "       0, 1, 1, 1, 0, 0, 0, 0, 1, 1, 1, 0, 0, 0, 0, 1, 0, 1, 1, 1, 1, 0,\n",
              "       1, 0, 0, 0, 0, 0, 1, 0, 1, 0, 0, 1, 1, 0, 1, 1, 1, 1, 0, 1, 1, 0,\n",
              "       0, 1, 1, 1, 0, 0, 0, 0, 1, 1, 1, 1, 0, 0, 0, 0, 0, 0, 1, 0, 0, 1,\n",
              "       0, 0, 0, 0, 1, 0, 1, 0, 1, 1, 0, 0])"
            ]
          },
          "metadata": {},
          "execution_count": 33
        }
      ]
    },
    {
      "cell_type": "code",
      "source": [
        "from sklearn.metrics import confusion_matrix, classification_report\n",
        "\n",
        "cm = confusion_matrix(y_test.deceptive, y_predicted)\n",
        "cm"
      ],
      "metadata": {
        "id": "UcZz7hABWRzc",
        "colab": {
          "base_uri": "https://localhost:8080/"
        },
        "outputId": "b5d2dcc3-2c16-4b0b-da70-02ca562a9ded"
      },
      "execution_count": null,
      "outputs": [
        {
          "data": {
            "text/plain": [
              "array([[125,  35],\n",
              "       [ 44, 116]])"
            ]
          },
          "execution_count": 34,
          "metadata": {},
          "output_type": "execute_result"
        }
      ]
    },
    {
      "cell_type": "code",
      "source": [
        "from matplotlib import pyplot as plt\n",
        "import seaborn as sn\n",
        "sn.heatmap(cm, annot=True, fmt='d')\n",
        "plt.xlabel('Predicted')\n",
        "plt.ylabel('Truth')"
      ],
      "metadata": {
        "id": "0O27kT2MWZOg",
        "colab": {
          "base_uri": "https://localhost:8080/",
          "height": 467
        },
        "outputId": "7c3521a7-6c91-4824-9cf4-1dee122d5069"
      },
      "execution_count": null,
      "outputs": [
        {
          "output_type": "execute_result",
          "data": {
            "text/plain": [
              "Text(50.722222222222214, 0.5, 'Truth')"
            ]
          },
          "metadata": {},
          "execution_count": 35
        },
        {
          "output_type": "display_data",
          "data": {
            "text/plain": [
              "<Figure size 640x480 with 2 Axes>"
            ],
            "image/png": "[encoded data removed]"
          },
          "metadata": {}
        }
      ]
    },
    {
      "cell_type": "code",
      "source": [
        "print(classification_report(y_test.deceptive, y_predicted))"
      ],
      "metadata": {
        "id": "0BzW34kQWbCM",
        "colab": {
          "base_uri": "https://localhost:8080/"
        },
        "outputId": "94ea987a-c57d-4c22-f513-3ba374427469"
      },
      "execution_count": null,
      "outputs": [
        {
          "metadata": {
            "tags": null
          },
          "name": "stdout",
          "output_type": "stream",
          "text": [
            "              precision    recall  f1-score   support\n",
            "\n",
            "           0       0.74      0.78      0.76       160\n",
            "           1       0.77      0.72      0.75       160\n",
            "\n",
            "    accuracy                           0.75       320\n",
            "   macro avg       0.75      0.75      0.75       320\n",
            "weighted avg       0.75      0.75      0.75       320\n",
            "\n"
          ]
        }
      ]
    },
    {
      "cell_type": "code",
      "source": [
        "import tensorflow as tf\n",
        "\n",
        "model = tf.keras.Sequential([\n",
        "    tf.keras.layers.LSTM(1280, input_shape=(50,768)),\n",
        "    tf.keras.layers.Dense(64, activation='relu'),\n",
        "    tf.keras.layers.Dense(32, activation='relu'),\n",
        "    tf.keras.layers.Dense(1, activation='sigmoid')\n",
        "])\n",
        "model.compile(loss='binary_crossentropy',\n",
        "              optimizer=tf.keras.optimizers.Adam(2e-5),\n",
        "              metrics=['accuracy'])\n",
        "print(model.summary())"
      ],
      "metadata": {
        "id": "5C054lusIS2u",
        "outputId": "378b11fa-d249-40dc-95df-2578dbbbda69",
        "colab": {
          "base_uri": "https://localhost:8080/"
        }
      },
      "execution_count": null,
      "outputs": [
        {
          "output_type": "stream",
          "name": "stdout",
          "text": [
            "Model: \"sequential_2\"\n",
            "_________________________________________________________________\n",
            " Layer (type)                Output Shape              Param #   \n",
            "=================================================================\n",
            " lstm (LSTM)                 (None, 1280)              10490880  \n",
            "                                                                 \n",
            " dense_6 (Dense)             (None, 64)                81984     \n",
            "                                                                 \n",
            " dense_7 (Dense)             (None, 32)                2080      \n",
            "                                                                 \n",
            " dense_8 (Dense)             (None, 1)                 33        \n",
            "                                                                 \n",
            "=================================================================\n",
            "Total params: 10,574,977\n",
            "Trainable params: 10,574,977\n",
            "Non-trainable params: 0\n",
            "_________________________________________________________________\n",
            "None\n"
          ]
        }
      ]
    },
    {
      "cell_type": "code",
      "source": [
        "startedTime = time.time()\n",
        "model.fit(X_train_embedding_squeezed,y_train.deceptive, epochs=50, batch_size=64, verbose=1)\n",
        "endTime= time.time()\n",
        "print(\"\\nTrain Elapsed Time : \", endTime - startedTime, \"sec or \",(endTime - startedTime)/60,\"min\")"
      ],
      "metadata": {
        "id": "3kylshAaIzcm",
        "outputId": "5d64acc8-ebe2-4880-a597-565c14d217be",
        "colab": {
          "base_uri": "https://localhost:8080/"
        }
      },
      "execution_count": null,
      "outputs": [
        {
          "output_type": "stream",
          "name": "stdout",
          "text": [
            "Epoch 1/50\n",
            "20/20 [==============================] - 120s 6s/step - loss: 0.6930 - accuracy: 0.5063\n",
            "Epoch 2/50\n",
            "20/20 [==============================] - 118s 6s/step - loss: 0.6912 - accuracy: 0.5078\n",
            "Epoch 3/50\n",
            "20/20 [==============================] - 115s 6s/step - loss: 0.6903 - accuracy: 0.5023\n",
            "Epoch 4/50\n",
            "20/20 [==============================] - 118s 6s/step - loss: 0.6906 - accuracy: 0.5211\n",
            "Epoch 5/50\n",
            "20/20 [==============================] - 122s 6s/step - loss: 0.6907 - accuracy: 0.5211\n",
            "Epoch 6/50\n",
            "20/20 [==============================] - 116s 6s/step - loss: 0.6897 - accuracy: 0.5437\n",
            "Epoch 7/50\n",
            "20/20 [==============================] - 120s 6s/step - loss: 0.6874 - accuracy: 0.5555\n",
            "Epoch 8/50\n",
            "20/20 [==============================] - 119s 6s/step - loss: 0.6749 - accuracy: 0.6055\n",
            "Epoch 9/50\n",
            "20/20 [==============================] - 117s 6s/step - loss: 0.6701 - accuracy: 0.5922\n",
            "Epoch 10/50\n",
            "20/20 [==============================] - 117s 6s/step - loss: 0.6652 - accuracy: 0.5977\n",
            "Epoch 11/50\n",
            "20/20 [==============================] - 119s 6s/step - loss: 0.6565 - accuracy: 0.6039\n",
            "Epoch 12/50\n",
            "20/20 [==============================] - 116s 6s/step - loss: 0.6235 - accuracy: 0.6523\n",
            "Epoch 13/50\n",
            "20/20 [==============================] - 117s 6s/step - loss: 0.6392 - accuracy: 0.6305\n",
            "Epoch 14/50\n",
            "20/20 [==============================] - 117s 6s/step - loss: 0.6362 - accuracy: 0.6500\n",
            "Epoch 15/50\n",
            "20/20 [==============================] - 119s 6s/step - loss: 0.6472 - accuracy: 0.6125\n",
            "Epoch 16/50\n",
            "20/20 [==============================] - 141s 7s/step - loss: 0.6275 - accuracy: 0.6477\n",
            "Epoch 17/50\n",
            "20/20 [==============================] - 146s 7s/step - loss: 0.5962 - accuracy: 0.6922\n",
            "Epoch 18/50\n",
            "20/20 [==============================] - 146s 7s/step - loss: 0.5943 - accuracy: 0.6836\n",
            "Epoch 19/50\n",
            "20/20 [==============================] - 145s 7s/step - loss: 0.5792 - accuracy: 0.7000\n",
            "Epoch 20/50\n",
            "20/20 [==============================] - 145s 7s/step - loss: 0.5883 - accuracy: 0.6859\n",
            "Epoch 21/50\n",
            "20/20 [==============================] - 144s 7s/step - loss: 0.6154 - accuracy: 0.6648\n",
            "Epoch 22/50\n",
            "20/20 [==============================] - 144s 7s/step - loss: 0.5802 - accuracy: 0.6977\n",
            "Epoch 23/50\n",
            "20/20 [==============================] - 145s 7s/step - loss: 0.5628 - accuracy: 0.7023\n",
            "Epoch 24/50\n",
            "20/20 [==============================] - 121s 6s/step - loss: 0.5412 - accuracy: 0.7211\n",
            "Epoch 25/50\n",
            "20/20 [==============================] - 117s 6s/step - loss: 0.5508 - accuracy: 0.7125\n",
            "Epoch 26/50\n",
            "20/20 [==============================] - 114s 6s/step - loss: 0.5713 - accuracy: 0.7055\n",
            "Epoch 27/50\n",
            "20/20 [==============================] - 116s 6s/step - loss: 0.5530 - accuracy: 0.7305\n",
            "Epoch 28/50\n",
            "20/20 [==============================] - 119s 6s/step - loss: 0.5350 - accuracy: 0.7320\n",
            "Epoch 29/50\n",
            "20/20 [==============================] - 114s 6s/step - loss: 0.5306 - accuracy: 0.7281\n",
            "Epoch 30/50\n",
            "20/20 [==============================] - 119s 6s/step - loss: 0.5207 - accuracy: 0.7563\n",
            "Epoch 31/50\n",
            "20/20 [==============================] - 117s 6s/step - loss: 0.5463 - accuracy: 0.7203\n",
            "Epoch 32/50\n",
            "20/20 [==============================] - 141s 7s/step - loss: 0.5263 - accuracy: 0.7305\n",
            "Epoch 33/50\n",
            "20/20 [==============================] - 143s 7s/step - loss: 0.5266 - accuracy: 0.7398\n",
            "Epoch 34/50\n",
            "20/20 [==============================] - 145s 7s/step - loss: 0.5229 - accuracy: 0.7539\n",
            "Epoch 35/50\n",
            "20/20 [==============================] - 118s 6s/step - loss: 0.5078 - accuracy: 0.7672\n",
            "Epoch 36/50\n",
            "20/20 [==============================] - 115s 6s/step - loss: 0.5030 - accuracy: 0.7508\n",
            "Epoch 37/50\n",
            "20/20 [==============================] - 116s 6s/step - loss: 0.5183 - accuracy: 0.7414\n",
            "Epoch 38/50\n",
            "20/20 [==============================] - 116s 6s/step - loss: 0.5080 - accuracy: 0.7484\n",
            "Epoch 39/50\n",
            "20/20 [==============================] - 116s 6s/step - loss: 0.5456 - accuracy: 0.7414\n",
            "Epoch 40/50\n",
            "20/20 [==============================] - 116s 6s/step - loss: 0.4991 - accuracy: 0.7617\n",
            "Epoch 41/50\n",
            "20/20 [==============================] - 116s 6s/step - loss: 0.5127 - accuracy: 0.7477\n",
            "Epoch 42/50\n",
            "20/20 [==============================] - 115s 6s/step - loss: 0.5494 - accuracy: 0.7203\n",
            "Epoch 43/50\n",
            "20/20 [==============================] - 113s 6s/step - loss: 0.4985 - accuracy: 0.7625\n",
            "Epoch 44/50\n",
            "20/20 [==============================] - 115s 6s/step - loss: 0.5084 - accuracy: 0.7500\n",
            "Epoch 45/50\n",
            "20/20 [==============================] - 115s 6s/step - loss: 0.5006 - accuracy: 0.7633\n",
            "Epoch 46/50\n",
            "20/20 [==============================] - 113s 6s/step - loss: 0.4857 - accuracy: 0.7641\n",
            "Epoch 47/50\n",
            "20/20 [==============================] - 114s 6s/step - loss: 0.5048 - accuracy: 0.7570\n",
            "Epoch 48/50\n",
            "20/20 [==============================] - 114s 6s/step - loss: 0.4884 - accuracy: 0.7664\n",
            "Epoch 49/50\n",
            "20/20 [==============================] - 117s 6s/step - loss: 0.4671 - accuracy: 0.7781\n",
            "Epoch 50/50\n",
            "20/20 [==============================] - 118s 6s/step - loss: 0.4705 - accuracy: 0.7711\n",
            "\n",
            "Train Elapsed Time :  6144.275129318237 sec or  102.4045854886373 min\n"
          ]
        }
      ]
    },
    {
      "cell_type": "code",
      "source": [
        "model.evaluate(X_test_embedding_squeezed, y_test.deceptive)"
      ],
      "metadata": {
        "id": "HhthBLBAI6Lc",
        "outputId": "562e4115-50b4-4c0e-92d0-7f16c1052c00",
        "colab": {
          "base_uri": "https://localhost:8080/"
        }
      },
      "execution_count": null,
      "outputs": [
        {
          "output_type": "stream",
          "name": "stdout",
          "text": [
            "10/10 [==============================] - 10s 886ms/step - loss: 0.4722 - accuracy: 0.7750\n"
          ]
        },
        {
          "output_type": "execute_result",
          "data": {
            "text/plain": [
              "[0.47223585844039917, 0.7749999761581421]"
            ]
          },
          "metadata": {},
          "execution_count": 39
        }
      ]
    },
    {
      "cell_type": "code",
      "source": [
        "y_predicted = model.predict(X_test_embedding_squeezed)\n",
        "y_predicted = y_predicted.flatten()"
      ],
      "metadata": {
        "id": "tn_TVwvhI97_",
        "outputId": "37d4b976-2a51-45ab-8d48-6e2ff30b2962",
        "colab": {
          "base_uri": "https://localhost:8080/"
        }
      },
      "execution_count": null,
      "outputs": [
        {
          "output_type": "stream",
          "name": "stdout",
          "text": [
            "10/10 [==============================] - 11s 998ms/step\n"
          ]
        }
      ]
    },
    {
      "cell_type": "code",
      "source": [
        "y_predicted = np.where(y_predicted > 0.5, 1, 0)\n",
        "y_predicted"
      ],
      "metadata": {
        "id": "qEFAklTzJA5i",
        "outputId": "d686a19a-dc0e-4eb1-ee14-46e3d390eebd",
        "colab": {
          "base_uri": "https://localhost:8080/"
        }
      },
      "execution_count": null,
      "outputs": [
        {
          "output_type": "execute_result",
          "data": {
            "text/plain": [
              "array([1, 1, 0, 0, 0, 1, 0, 1, 1, 1, 0, 1, 1, 0, 0, 0, 1, 0, 0, 1, 0, 1,\n",
              "       0, 0, 0, 0, 0, 0, 1, 0, 0, 1, 0, 1, 1, 1, 0, 1, 1, 1, 1, 1, 0, 1,\n",
              "       1, 0, 1, 0, 0, 0, 0, 1, 0, 1, 1, 0, 0, 0, 0, 0, 0, 0, 1, 1, 0, 1,\n",
              "       0, 0, 0, 0, 0, 0, 0, 0, 1, 0, 1, 1, 0, 1, 0, 1, 1, 0, 1, 0, 0, 1,\n",
              "       0, 0, 0, 0, 0, 0, 0, 1, 1, 1, 0, 0, 0, 1, 1, 1, 0, 1, 1, 0, 0, 0,\n",
              "       0, 1, 0, 1, 0, 1, 0, 0, 1, 1, 1, 1, 0, 1, 0, 1, 1, 0, 0, 0, 0, 0,\n",
              "       0, 0, 1, 1, 0, 0, 1, 1, 0, 1, 1, 0, 1, 0, 0, 0, 0, 1, 1, 1, 0, 0,\n",
              "       1, 0, 0, 0, 0, 1, 0, 1, 1, 1, 0, 0, 0, 0, 1, 0, 0, 1, 1, 0, 0, 1,\n",
              "       0, 1, 0, 1, 1, 0, 1, 0, 1, 0, 0, 1, 1, 0, 1, 1, 1, 0, 0, 0, 1, 1,\n",
              "       1, 0, 0, 1, 0, 0, 1, 0, 0, 1, 0, 0, 0, 0, 1, 0, 1, 1, 0, 0, 0, 1,\n",
              "       1, 0, 0, 1, 0, 1, 1, 1, 0, 0, 0, 1, 0, 0, 0, 0, 0, 0, 0, 0, 0, 1,\n",
              "       0, 1, 1, 1, 0, 0, 0, 0, 1, 0, 1, 1, 0, 0, 0, 0, 0, 1, 0, 1, 1, 0,\n",
              "       1, 0, 0, 0, 0, 0, 0, 0, 1, 1, 0, 1, 1, 0, 1, 1, 1, 0, 0, 1, 1, 0,\n",
              "       0, 1, 0, 1, 0, 0, 0, 0, 1, 1, 1, 1, 0, 0, 0, 0, 0, 0, 1, 0, 0, 1,\n",
              "       0, 0, 0, 0, 1, 0, 1, 0, 1, 0, 0, 0])"
            ]
          },
          "metadata": {},
          "execution_count": 41
        }
      ]
    },
    {
      "cell_type": "code",
      "source": [
        "from sklearn.metrics import confusion_matrix, classification_report\n",
        "\n",
        "cm = confusion_matrix(y_test.deceptive, y_predicted)\n",
        "cm"
      ],
      "metadata": {
        "id": "r59PqwaVJGS2",
        "outputId": "c33d9be0-9bcc-4356-d0f0-46789788e41c",
        "colab": {
          "base_uri": "https://localhost:8080/"
        }
      },
      "execution_count": null,
      "outputs": [
        {
          "output_type": "execute_result",
          "data": {
            "text/plain": [
              "array([[138,  22],\n",
              "       [ 50, 110]])"
            ]
          },
          "metadata": {},
          "execution_count": 42
        }
      ]
    },
    {
      "cell_type": "code",
      "source": [
        "from matplotlib import pyplot as plt\n",
        "import seaborn as sn\n",
        "sn.heatmap(cm, annot=True, fmt='d')\n",
        "plt.xlabel('Predicted')\n",
        "plt.ylabel('Truth')"
      ],
      "metadata": {
        "id": "V9WvjH-bJIf_",
        "outputId": "2d1a6f7c-c63b-4350-f318-a5411301a498",
        "colab": {
          "base_uri": "https://localhost:8080/",
          "height": 467
        }
      },
      "execution_count": null,
      "outputs": [
        {
          "output_type": "execute_result",
          "data": {
            "text/plain": [
              "Text(50.722222222222214, 0.5, 'Truth')"
            ]
          },
          "metadata": {},
          "execution_count": 43
        },
        {
          "output_type": "display_data",
          "data": {
            "text/plain": [
              "<Figure size 640x480 with 2 Axes>"
            ],
            "image/png": "[encoded data removed]"
          },
          "metadata": {}
        }
      ]
    },
    {
      "cell_type": "code",
      "source": [
        "print(classification_report(y_test.deceptive, y_predicted))"
      ],
      "metadata": {
        "id": "lO9yLr29JLHk",
        "outputId": "1c18d5ca-0e06-41bf-ae58-44f737fbdc0e",
        "colab": {
          "base_uri": "https://localhost:8080/"
        }
      },
      "execution_count": null,
      "outputs": [
        {
          "output_type": "stream",
          "name": "stdout",
          "text": [
            "              precision    recall  f1-score   support\n",
            "\n",
            "           0       0.73      0.86      0.79       160\n",
            "           1       0.83      0.69      0.75       160\n",
            "\n",
            "    accuracy                           0.78       320\n",
            "   macro avg       0.78      0.78      0.77       320\n",
            "weighted avg       0.78      0.78      0.77       320\n",
            "\n"
          ]
        }
      ]
    }
  ]
}