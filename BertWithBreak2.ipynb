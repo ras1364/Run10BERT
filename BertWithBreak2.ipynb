{
  "nbformat": 4,
  "nbformat_minor": 0,
  "metadata": {
    "colab": {
      "provenance": [],
      "mount_file_id": "1nS1Vxxy7yra-z2H436oHl7KMAxT_QAU6",
      "authorship_tag": "ABX9TyMHkrIX1LYMwCaWxPuPcuy3",
      "include_colab_link": true
    },
    "kernelspec": {
      "name": "python3",
      "display_name": "Python 3"
    },
    "language_info": {
      "name": "python"
    },
    "widgets": {
      "application/vnd.jupyter.widget-state+json": {
        "5746bb05d87347569133349a34edf4b6": {
          "model_module": "@jupyter-widgets/controls",
          "model_name": "HBoxModel",
          "model_module_version": "1.5.0",
          "state": {
            "_dom_classes": [],
            "_model_module": "@jupyter-widgets/controls",
            "_model_module_version": "1.5.0",
            "_model_name": "HBoxModel",
            "_view_count": null,
            "_view_module": "@jupyter-widgets/controls",
            "_view_module_version": "1.5.0",
            "_view_name": "HBoxView",
            "box_style": "",
            "children": [
              "IPY_MODEL_da76a3c9de074bf7a39a2bb93fd9eabb",
              "IPY_MODEL_b883c64d91164aa59dac3e330308def3",
              "IPY_MODEL_87ace588d6ac470098d1b93070cfff23"
            ],
            "layout": "IPY_MODEL_e78a2dd8d8e54956b6f1f64511f526d8"
          }
        },
        "da76a3c9de074bf7a39a2bb93fd9eabb": {
          "model_module": "@jupyter-widgets/controls",
          "model_name": "HTMLModel",
          "model_module_version": "1.5.0",
          "state": {
            "_dom_classes": [],
            "_model_module": "@jupyter-widgets/controls",
            "_model_module_version": "1.5.0",
            "_model_name": "HTMLModel",
            "_view_count": null,
            "_view_module": "@jupyter-widgets/controls",
            "_view_module_version": "1.5.0",
            "_view_name": "HTMLView",
            "description": "",
            "description_tooltip": null,
            "layout": "IPY_MODEL_75596e3a30764f21a113aac364b5607e",
            "placeholder": "​",
            "style": "IPY_MODEL_cd69a1b0f7cd4ee1915313b16e4b2c79",
            "value": "Downloading (…)okenizer_config.json: 100%"
          }
        },
        "b883c64d91164aa59dac3e330308def3": {
          "model_module": "@jupyter-widgets/controls",
          "model_name": "FloatProgressModel",
          "model_module_version": "1.5.0",
          "state": {
            "_dom_classes": [],
            "_model_module": "@jupyter-widgets/controls",
            "_model_module_version": "1.5.0",
            "_model_name": "FloatProgressModel",
            "_view_count": null,
            "_view_module": "@jupyter-widgets/controls",
            "_view_module_version": "1.5.0",
            "_view_name": "ProgressView",
            "bar_style": "success",
            "description": "",
            "description_tooltip": null,
            "layout": "IPY_MODEL_5f4027f4ffa84b48a98230bd42ca49b6",
            "max": 28,
            "min": 0,
            "orientation": "horizontal",
            "style": "IPY_MODEL_8fb53d915eae40aa99216428144e9a4f",
            "value": 28
          }
        },
        "87ace588d6ac470098d1b93070cfff23": {
          "model_module": "@jupyter-widgets/controls",
          "model_name": "HTMLModel",
          "model_module_version": "1.5.0",
          "state": {
            "_dom_classes": [],
            "_model_module": "@jupyter-widgets/controls",
            "_model_module_version": "1.5.0",
            "_model_name": "HTMLModel",
            "_view_count": null,
            "_view_module": "@jupyter-widgets/controls",
            "_view_module_version": "1.5.0",
            "_view_name": "HTMLView",
            "description": "",
            "description_tooltip": null,
            "layout": "IPY_MODEL_818b492e0d5344b0a42db5006f4c9892",
            "placeholder": "​",
            "style": "IPY_MODEL_da2775f9db1248f2891a5e0dce47a667",
            "value": " 28.0/28.0 [00:00&lt;00:00, 1.46kB/s]"
          }
        },
        "e78a2dd8d8e54956b6f1f64511f526d8": {
          "model_module": "@jupyter-widgets/base",
          "model_name": "LayoutModel",
          "model_module_version": "1.2.0",
          "state": {
            "_model_module": "@jupyter-widgets/base",
            "_model_module_version": "1.2.0",
            "_model_name": "LayoutModel",
            "_view_count": null,
            "_view_module": "@jupyter-widgets/base",
            "_view_module_version": "1.2.0",
            "_view_name": "LayoutView",
            "align_content": null,
            "align_items": null,
            "align_self": null,
            "border": null,
            "bottom": null,
            "display": null,
            "flex": null,
            "flex_flow": null,
            "grid_area": null,
            "grid_auto_columns": null,
            "grid_auto_flow": null,
            "grid_auto_rows": null,
            "grid_column": null,
            "grid_gap": null,
            "grid_row": null,
            "grid_template_areas": null,
            "grid_template_columns": null,
            "grid_template_rows": null,
            "height": null,
            "justify_content": null,
            "justify_items": null,
            "left": null,
            "margin": null,
            "max_height": null,
            "max_width": null,
            "min_height": null,
            "min_width": null,
            "object_fit": null,
            "object_position": null,
            "order": null,
            "overflow": null,
            "overflow_x": null,
            "overflow_y": null,
            "padding": null,
            "right": null,
            "top": null,
            "visibility": null,
            "width": null
          }
        },
        "75596e3a30764f21a113aac364b5607e": {
          "model_module": "@jupyter-widgets/base",
          "model_name": "LayoutModel",
          "model_module_version": "1.2.0",
          "state": {
            "_model_module": "@jupyter-widgets/base",
            "_model_module_version": "1.2.0",
            "_model_name": "LayoutModel",
            "_view_count": null,
            "_view_module": "@jupyter-widgets/base",
            "_view_module_version": "1.2.0",
            "_view_name": "LayoutView",
            "align_content": null,
            "align_items": null,
            "align_self": null,
            "border": null,
            "bottom": null,
            "display": null,
            "flex": null,
            "flex_flow": null,
            "grid_area": null,
            "grid_auto_columns": null,
            "grid_auto_flow": null,
            "grid_auto_rows": null,
            "grid_column": null,
            "grid_gap": null,
            "grid_row": null,
            "grid_template_areas": null,
            "grid_template_columns": null,
            "grid_template_rows": null,
            "height": null,
            "justify_content": null,
            "justify_items": null,
            "left": null,
            "margin": null,
            "max_height": null,
            "max_width": null,
            "min_height": null,
            "min_width": null,
            "object_fit": null,
            "object_position": null,
            "order": null,
            "overflow": null,
            "overflow_x": null,
            "overflow_y": null,
            "padding": null,
            "right": null,
            "top": null,
            "visibility": null,
            "width": null
          }
        },
        "cd69a1b0f7cd4ee1915313b16e4b2c79": {
          "model_module": "@jupyter-widgets/controls",
          "model_name": "DescriptionStyleModel",
          "model_module_version": "1.5.0",
          "state": {
            "_model_module": "@jupyter-widgets/controls",
            "_model_module_version": "1.5.0",
            "_model_name": "DescriptionStyleModel",
            "_view_count": null,
            "_view_module": "@jupyter-widgets/base",
            "_view_module_version": "1.2.0",
            "_view_name": "StyleView",
            "description_width": ""
          }
        },
        "5f4027f4ffa84b48a98230bd42ca49b6": {
          "model_module": "@jupyter-widgets/base",
          "model_name": "LayoutModel",
          "model_module_version": "1.2.0",
          "state": {
            "_model_module": "@jupyter-widgets/base",
            "_model_module_version": "1.2.0",
            "_model_name": "LayoutModel",
            "_view_count": null,
            "_view_module": "@jupyter-widgets/base",
            "_view_module_version": "1.2.0",
            "_view_name": "LayoutView",
            "align_content": null,
            "align_items": null,
            "align_self": null,
            "border": null,
            "bottom": null,
            "display": null,
            "flex": null,
            "flex_flow": null,
            "grid_area": null,
            "grid_auto_columns": null,
            "grid_auto_flow": null,
            "grid_auto_rows": null,
            "grid_column": null,
            "grid_gap": null,
            "grid_row": null,
            "grid_template_areas": null,
            "grid_template_columns": null,
            "grid_template_rows": null,
            "height": null,
            "justify_content": null,
            "justify_items": null,
            "left": null,
            "margin": null,
            "max_height": null,
            "max_width": null,
            "min_height": null,
            "min_width": null,
            "object_fit": null,
            "object_position": null,
            "order": null,
            "overflow": null,
            "overflow_x": null,
            "overflow_y": null,
            "padding": null,
            "right": null,
            "top": null,
            "visibility": null,
            "width": null
          }
        },
        "8fb53d915eae40aa99216428144e9a4f": {
          "model_module": "@jupyter-widgets/controls",
          "model_name": "ProgressStyleModel",
          "model_module_version": "1.5.0",
          "state": {
            "_model_module": "@jupyter-widgets/controls",
            "_model_module_version": "1.5.0",
            "_model_name": "ProgressStyleModel",
            "_view_count": null,
            "_view_module": "@jupyter-widgets/base",
            "_view_module_version": "1.2.0",
            "_view_name": "StyleView",
            "bar_color": null,
            "description_width": ""
          }
        },
        "818b492e0d5344b0a42db5006f4c9892": {
          "model_module": "@jupyter-widgets/base",
          "model_name": "LayoutModel",
          "model_module_version": "1.2.0",
          "state": {
            "_model_module": "@jupyter-widgets/base",
            "_model_module_version": "1.2.0",
            "_model_name": "LayoutModel",
            "_view_count": null,
            "_view_module": "@jupyter-widgets/base",
            "_view_module_version": "1.2.0",
            "_view_name": "LayoutView",
            "align_content": null,
            "align_items": null,
            "align_self": null,
            "border": null,
            "bottom": null,
            "display": null,
            "flex": null,
            "flex_flow": null,
            "grid_area": null,
            "grid_auto_columns": null,
            "grid_auto_flow": null,
            "grid_auto_rows": null,
            "grid_column": null,
            "grid_gap": null,
            "grid_row": null,
            "grid_template_areas": null,
            "grid_template_columns": null,
            "grid_template_rows": null,
            "height": null,
            "justify_content": null,
            "justify_items": null,
            "left": null,
            "margin": null,
            "max_height": null,
            "max_width": null,
            "min_height": null,
            "min_width": null,
            "object_fit": null,
            "object_position": null,
            "order": null,
            "overflow": null,
            "overflow_x": null,
            "overflow_y": null,
            "padding": null,
            "right": null,
            "top": null,
            "visibility": null,
            "width": null
          }
        },
        "da2775f9db1248f2891a5e0dce47a667": {
          "model_module": "@jupyter-widgets/controls",
          "model_name": "DescriptionStyleModel",
          "model_module_version": "1.5.0",
          "state": {
            "_model_module": "@jupyter-widgets/controls",
            "_model_module_version": "1.5.0",
            "_model_name": "DescriptionStyleModel",
            "_view_count": null,
            "_view_module": "@jupyter-widgets/base",
            "_view_module_version": "1.2.0",
            "_view_name": "StyleView",
            "description_width": ""
          }
        },
        "dada13f6570f4f208c7f25db38dc7233": {
          "model_module": "@jupyter-widgets/controls",
          "model_name": "HBoxModel",
          "model_module_version": "1.5.0",
          "state": {
            "_dom_classes": [],
            "_model_module": "@jupyter-widgets/controls",
            "_model_module_version": "1.5.0",
            "_model_name": "HBoxModel",
            "_view_count": null,
            "_view_module": "@jupyter-widgets/controls",
            "_view_module_version": "1.5.0",
            "_view_name": "HBoxView",
            "box_style": "",
            "children": [
              "IPY_MODEL_35775be3f71d4898b7a1a5fd9087db07",
              "IPY_MODEL_fcf46fb62bb14a07be02a10759f66961",
              "IPY_MODEL_6eac6db782d44535ab52b9c38e26215b"
            ],
            "layout": "IPY_MODEL_08315d15508a456fb50c675f4b7b270b"
          }
        },
        "35775be3f71d4898b7a1a5fd9087db07": {
          "model_module": "@jupyter-widgets/controls",
          "model_name": "HTMLModel",
          "model_module_version": "1.5.0",
          "state": {
            "_dom_classes": [],
            "_model_module": "@jupyter-widgets/controls",
            "_model_module_version": "1.5.0",
            "_model_name": "HTMLModel",
            "_view_count": null,
            "_view_module": "@jupyter-widgets/controls",
            "_view_module_version": "1.5.0",
            "_view_name": "HTMLView",
            "description": "",
            "description_tooltip": null,
            "layout": "IPY_MODEL_b35eeb8b88934e00939cd33a55f533a8",
            "placeholder": "​",
            "style": "IPY_MODEL_c4e5500f740a41169eff7b7f2da4e6ee",
            "value": "Downloading (…)lve/main/config.json: 100%"
          }
        },
        "fcf46fb62bb14a07be02a10759f66961": {
          "model_module": "@jupyter-widgets/controls",
          "model_name": "FloatProgressModel",
          "model_module_version": "1.5.0",
          "state": {
            "_dom_classes": [],
            "_model_module": "@jupyter-widgets/controls",
            "_model_module_version": "1.5.0",
            "_model_name": "FloatProgressModel",
            "_view_count": null,
            "_view_module": "@jupyter-widgets/controls",
            "_view_module_version": "1.5.0",
            "_view_name": "ProgressView",
            "bar_style": "success",
            "description": "",
            "description_tooltip": null,
            "layout": "IPY_MODEL_e7f6c92c43f64cba83e13d4927490b54",
            "max": 570,
            "min": 0,
            "orientation": "horizontal",
            "style": "IPY_MODEL_f0b5b465831b4ca7b1a09c1a1dee5a6c",
            "value": 570
          }
        },
        "6eac6db782d44535ab52b9c38e26215b": {
          "model_module": "@jupyter-widgets/controls",
          "model_name": "HTMLModel",
          "model_module_version": "1.5.0",
          "state": {
            "_dom_classes": [],
            "_model_module": "@jupyter-widgets/controls",
            "_model_module_version": "1.5.0",
            "_model_name": "HTMLModel",
            "_view_count": null,
            "_view_module": "@jupyter-widgets/controls",
            "_view_module_version": "1.5.0",
            "_view_name": "HTMLView",
            "description": "",
            "description_tooltip": null,
            "layout": "IPY_MODEL_14488c7a7bb647eea91c0e5f3b42bbcc",
            "placeholder": "​",
            "style": "IPY_MODEL_a80eba72e8004094871156304a743886",
            "value": " 570/570 [00:00&lt;00:00, 40.5kB/s]"
          }
        },
        "08315d15508a456fb50c675f4b7b270b": {
          "model_module": "@jupyter-widgets/base",
          "model_name": "LayoutModel",
          "model_module_version": "1.2.0",
          "state": {
            "_model_module": "@jupyter-widgets/base",
            "_model_module_version": "1.2.0",
            "_model_name": "LayoutModel",
            "_view_count": null,
            "_view_module": "@jupyter-widgets/base",
            "_view_module_version": "1.2.0",
            "_view_name": "LayoutView",
            "align_content": null,
            "align_items": null,
            "align_self": null,
            "border": null,
            "bottom": null,
            "display": null,
            "flex": null,
            "flex_flow": null,
            "grid_area": null,
            "grid_auto_columns": null,
            "grid_auto_flow": null,
            "grid_auto_rows": null,
            "grid_column": null,
            "grid_gap": null,
            "grid_row": null,
            "grid_template_areas": null,
            "grid_template_columns": null,
            "grid_template_rows": null,
            "height": null,
            "justify_content": null,
            "justify_items": null,
            "left": null,
            "margin": null,
            "max_height": null,
            "max_width": null,
            "min_height": null,
            "min_width": null,
            "object_fit": null,
            "object_position": null,
            "order": null,
            "overflow": null,
            "overflow_x": null,
            "overflow_y": null,
            "padding": null,
            "right": null,
            "top": null,
            "visibility": null,
            "width": null
          }
        },
        "b35eeb8b88934e00939cd33a55f533a8": {
          "model_module": "@jupyter-widgets/base",
          "model_name": "LayoutModel",
          "model_module_version": "1.2.0",
          "state": {
            "_model_module": "@jupyter-widgets/base",
            "_model_module_version": "1.2.0",
            "_model_name": "LayoutModel",
            "_view_count": null,
            "_view_module": "@jupyter-widgets/base",
            "_view_module_version": "1.2.0",
            "_view_name": "LayoutView",
            "align_content": null,
            "align_items": null,
            "align_self": null,
            "border": null,
            "bottom": null,
            "display": null,
            "flex": null,
            "flex_flow": null,
            "grid_area": null,
            "grid_auto_columns": null,
            "grid_auto_flow": null,
            "grid_auto_rows": null,
            "grid_column": null,
            "grid_gap": null,
            "grid_row": null,
            "grid_template_areas": null,
            "grid_template_columns": null,
            "grid_template_rows": null,
            "height": null,
            "justify_content": null,
            "justify_items": null,
            "left": null,
            "margin": null,
            "max_height": null,
            "max_width": null,
            "min_height": null,
            "min_width": null,
            "object_fit": null,
            "object_position": null,
            "order": null,
            "overflow": null,
            "overflow_x": null,
            "overflow_y": null,
            "padding": null,
            "right": null,
            "top": null,
            "visibility": null,
            "width": null
          }
        },
        "c4e5500f740a41169eff7b7f2da4e6ee": {
          "model_module": "@jupyter-widgets/controls",
          "model_name": "DescriptionStyleModel",
          "model_module_version": "1.5.0",
          "state": {
            "_model_module": "@jupyter-widgets/controls",
            "_model_module_version": "1.5.0",
            "_model_name": "DescriptionStyleModel",
            "_view_count": null,
            "_view_module": "@jupyter-widgets/base",
            "_view_module_version": "1.2.0",
            "_view_name": "StyleView",
            "description_width": ""
          }
        },
        "e7f6c92c43f64cba83e13d4927490b54": {
          "model_module": "@jupyter-widgets/base",
          "model_name": "LayoutModel",
          "model_module_version": "1.2.0",
          "state": {
            "_model_module": "@jupyter-widgets/base",
            "_model_module_version": "1.2.0",
            "_model_name": "LayoutModel",
            "_view_count": null,
            "_view_module": "@jupyter-widgets/base",
            "_view_module_version": "1.2.0",
            "_view_name": "LayoutView",
            "align_content": null,
            "align_items": null,
            "align_self": null,
            "border": null,
            "bottom": null,
            "display": null,
            "flex": null,
            "flex_flow": null,
            "grid_area": null,
            "grid_auto_columns": null,
            "grid_auto_flow": null,
            "grid_auto_rows": null,
            "grid_column": null,
            "grid_gap": null,
            "grid_row": null,
            "grid_template_areas": null,
            "grid_template_columns": null,
            "grid_template_rows": null,
            "height": null,
            "justify_content": null,
            "justify_items": null,
            "left": null,
            "margin": null,
            "max_height": null,
            "max_width": null,
            "min_height": null,
            "min_width": null,
            "object_fit": null,
            "object_position": null,
            "order": null,
            "overflow": null,
            "overflow_x": null,
            "overflow_y": null,
            "padding": null,
            "right": null,
            "top": null,
            "visibility": null,
            "width": null
          }
        },
        "f0b5b465831b4ca7b1a09c1a1dee5a6c": {
          "model_module": "@jupyter-widgets/controls",
          "model_name": "ProgressStyleModel",
          "model_module_version": "1.5.0",
          "state": {
            "_model_module": "@jupyter-widgets/controls",
            "_model_module_version": "1.5.0",
            "_model_name": "ProgressStyleModel",
            "_view_count": null,
            "_view_module": "@jupyter-widgets/base",
            "_view_module_version": "1.2.0",
            "_view_name": "StyleView",
            "bar_color": null,
            "description_width": ""
          }
        },
        "14488c7a7bb647eea91c0e5f3b42bbcc": {
          "model_module": "@jupyter-widgets/base",
          "model_name": "LayoutModel",
          "model_module_version": "1.2.0",
          "state": {
            "_model_module": "@jupyter-widgets/base",
            "_model_module_version": "1.2.0",
            "_model_name": "LayoutModel",
            "_view_count": null,
            "_view_module": "@jupyter-widgets/base",
            "_view_module_version": "1.2.0",
            "_view_name": "LayoutView",
            "align_content": null,
            "align_items": null,
            "align_self": null,
            "border": null,
            "bottom": null,
            "display": null,
            "flex": null,
            "flex_flow": null,
            "grid_area": null,
            "grid_auto_columns": null,
            "grid_auto_flow": null,
            "grid_auto_rows": null,
            "grid_column": null,
            "grid_gap": null,
            "grid_row": null,
            "grid_template_areas": null,
            "grid_template_columns": null,
            "grid_template_rows": null,
            "height": null,
            "justify_content": null,
            "justify_items": null,
            "left": null,
            "margin": null,
            "max_height": null,
            "max_width": null,
            "min_height": null,
            "min_width": null,
            "object_fit": null,
            "object_position": null,
            "order": null,
            "overflow": null,
            "overflow_x": null,
            "overflow_y": null,
            "padding": null,
            "right": null,
            "top": null,
            "visibility": null,
            "width": null
          }
        },
        "a80eba72e8004094871156304a743886": {
          "model_module": "@jupyter-widgets/controls",
          "model_name": "DescriptionStyleModel",
          "model_module_version": "1.5.0",
          "state": {
            "_model_module": "@jupyter-widgets/controls",
            "_model_module_version": "1.5.0",
            "_model_name": "DescriptionStyleModel",
            "_view_count": null,
            "_view_module": "@jupyter-widgets/base",
            "_view_module_version": "1.2.0",
            "_view_name": "StyleView",
            "description_width": ""
          }
        },
        "4c06a33932ef446383d9535821b2b1ea": {
          "model_module": "@jupyter-widgets/controls",
          "model_name": "HBoxModel",
          "model_module_version": "1.5.0",
          "state": {
            "_dom_classes": [],
            "_model_module": "@jupyter-widgets/controls",
            "_model_module_version": "1.5.0",
            "_model_name": "HBoxModel",
            "_view_count": null,
            "_view_module": "@jupyter-widgets/controls",
            "_view_module_version": "1.5.0",
            "_view_name": "HBoxView",
            "box_style": "",
            "children": [
              "IPY_MODEL_ae18cff2918746aba4e207ed3819902d",
              "IPY_MODEL_14d9ae5ed7ad4f9e8d8605386c12ad42",
              "IPY_MODEL_2375f5bcb81e4bc6868d5c39d6226b75"
            ],
            "layout": "IPY_MODEL_b2074cf1932a46af94abdd5360dcfa4d"
          }
        },
        "ae18cff2918746aba4e207ed3819902d": {
          "model_module": "@jupyter-widgets/controls",
          "model_name": "HTMLModel",
          "model_module_version": "1.5.0",
          "state": {
            "_dom_classes": [],
            "_model_module": "@jupyter-widgets/controls",
            "_model_module_version": "1.5.0",
            "_model_name": "HTMLModel",
            "_view_count": null,
            "_view_module": "@jupyter-widgets/controls",
            "_view_module_version": "1.5.0",
            "_view_name": "HTMLView",
            "description": "",
            "description_tooltip": null,
            "layout": "IPY_MODEL_470cb49b4a0b4068844a8af1008053b5",
            "placeholder": "​",
            "style": "IPY_MODEL_0596544367da45e8b7f9966e16ed37e3",
            "value": "Downloading (…)solve/main/vocab.txt: 100%"
          }
        },
        "14d9ae5ed7ad4f9e8d8605386c12ad42": {
          "model_module": "@jupyter-widgets/controls",
          "model_name": "FloatProgressModel",
          "model_module_version": "1.5.0",
          "state": {
            "_dom_classes": [],
            "_model_module": "@jupyter-widgets/controls",
            "_model_module_version": "1.5.0",
            "_model_name": "FloatProgressModel",
            "_view_count": null,
            "_view_module": "@jupyter-widgets/controls",
            "_view_module_version": "1.5.0",
            "_view_name": "ProgressView",
            "bar_style": "success",
            "description": "",
            "description_tooltip": null,
            "layout": "IPY_MODEL_f3c577c9ed5943ddacf324d7cda4396e",
            "max": 231508,
            "min": 0,
            "orientation": "horizontal",
            "style": "IPY_MODEL_0b5239742fed4bef9ebb02ac5967c07d",
            "value": 231508
          }
        },
        "2375f5bcb81e4bc6868d5c39d6226b75": {
          "model_module": "@jupyter-widgets/controls",
          "model_name": "HTMLModel",
          "model_module_version": "1.5.0",
          "state": {
            "_dom_classes": [],
            "_model_module": "@jupyter-widgets/controls",
            "_model_module_version": "1.5.0",
            "_model_name": "HTMLModel",
            "_view_count": null,
            "_view_module": "@jupyter-widgets/controls",
            "_view_module_version": "1.5.0",
            "_view_name": "HTMLView",
            "description": "",
            "description_tooltip": null,
            "layout": "IPY_MODEL_0c7b616fa7cc4abbba6cb3caff03491b",
            "placeholder": "​",
            "style": "IPY_MODEL_bf9bd5449f9f47f292f1abbcc48ac093",
            "value": " 232k/232k [00:00&lt;00:00, 3.99MB/s]"
          }
        },
        "b2074cf1932a46af94abdd5360dcfa4d": {
          "model_module": "@jupyter-widgets/base",
          "model_name": "LayoutModel",
          "model_module_version": "1.2.0",
          "state": {
            "_model_module": "@jupyter-widgets/base",
            "_model_module_version": "1.2.0",
            "_model_name": "LayoutModel",
            "_view_count": null,
            "_view_module": "@jupyter-widgets/base",
            "_view_module_version": "1.2.0",
            "_view_name": "LayoutView",
            "align_content": null,
            "align_items": null,
            "align_self": null,
            "border": null,
            "bottom": null,
            "display": null,
            "flex": null,
            "flex_flow": null,
            "grid_area": null,
            "grid_auto_columns": null,
            "grid_auto_flow": null,
            "grid_auto_rows": null,
            "grid_column": null,
            "grid_gap": null,
            "grid_row": null,
            "grid_template_areas": null,
            "grid_template_columns": null,
            "grid_template_rows": null,
            "height": null,
            "justify_content": null,
            "justify_items": null,
            "left": null,
            "margin": null,
            "max_height": null,
            "max_width": null,
            "min_height": null,
            "min_width": null,
            "object_fit": null,
            "object_position": null,
            "order": null,
            "overflow": null,
            "overflow_x": null,
            "overflow_y": null,
            "padding": null,
            "right": null,
            "top": null,
            "visibility": null,
            "width": null
          }
        },
        "470cb49b4a0b4068844a8af1008053b5": {
          "model_module": "@jupyter-widgets/base",
          "model_name": "LayoutModel",
          "model_module_version": "1.2.0",
          "state": {
            "_model_module": "@jupyter-widgets/base",
            "_model_module_version": "1.2.0",
            "_model_name": "LayoutModel",
            "_view_count": null,
            "_view_module": "@jupyter-widgets/base",
            "_view_module_version": "1.2.0",
            "_view_name": "LayoutView",
            "align_content": null,
            "align_items": null,
            "align_self": null,
            "border": null,
            "bottom": null,
            "display": null,
            "flex": null,
            "flex_flow": null,
            "grid_area": null,
            "grid_auto_columns": null,
            "grid_auto_flow": null,
            "grid_auto_rows": null,
            "grid_column": null,
            "grid_gap": null,
            "grid_row": null,
            "grid_template_areas": null,
            "grid_template_columns": null,
            "grid_template_rows": null,
            "height": null,
            "justify_content": null,
            "justify_items": null,
            "left": null,
            "margin": null,
            "max_height": null,
            "max_width": null,
            "min_height": null,
            "min_width": null,
            "object_fit": null,
            "object_position": null,
            "order": null,
            "overflow": null,
            "overflow_x": null,
            "overflow_y": null,
            "padding": null,
            "right": null,
            "top": null,
            "visibility": null,
            "width": null
          }
        },
        "0596544367da45e8b7f9966e16ed37e3": {
          "model_module": "@jupyter-widgets/controls",
          "model_name": "DescriptionStyleModel",
          "model_module_version": "1.5.0",
          "state": {
            "_model_module": "@jupyter-widgets/controls",
            "_model_module_version": "1.5.0",
            "_model_name": "DescriptionStyleModel",
            "_view_count": null,
            "_view_module": "@jupyter-widgets/base",
            "_view_module_version": "1.2.0",
            "_view_name": "StyleView",
            "description_width": ""
          }
        },
        "f3c577c9ed5943ddacf324d7cda4396e": {
          "model_module": "@jupyter-widgets/base",
          "model_name": "LayoutModel",
          "model_module_version": "1.2.0",
          "state": {
            "_model_module": "@jupyter-widgets/base",
            "_model_module_version": "1.2.0",
            "_model_name": "LayoutModel",
            "_view_count": null,
            "_view_module": "@jupyter-widgets/base",
            "_view_module_version": "1.2.0",
            "_view_name": "LayoutView",
            "align_content": null,
            "align_items": null,
            "align_self": null,
            "border": null,
            "bottom": null,
            "display": null,
            "flex": null,
            "flex_flow": null,
            "grid_area": null,
            "grid_auto_columns": null,
            "grid_auto_flow": null,
            "grid_auto_rows": null,
            "grid_column": null,
            "grid_gap": null,
            "grid_row": null,
            "grid_template_areas": null,
            "grid_template_columns": null,
            "grid_template_rows": null,
            "height": null,
            "justify_content": null,
            "justify_items": null,
            "left": null,
            "margin": null,
            "max_height": null,
            "max_width": null,
            "min_height": null,
            "min_width": null,
            "object_fit": null,
            "object_position": null,
            "order": null,
            "overflow": null,
            "overflow_x": null,
            "overflow_y": null,
            "padding": null,
            "right": null,
            "top": null,
            "visibility": null,
            "width": null
          }
        },
        "0b5239742fed4bef9ebb02ac5967c07d": {
          "model_module": "@jupyter-widgets/controls",
          "model_name": "ProgressStyleModel",
          "model_module_version": "1.5.0",
          "state": {
            "_model_module": "@jupyter-widgets/controls",
            "_model_module_version": "1.5.0",
            "_model_name": "ProgressStyleModel",
            "_view_count": null,
            "_view_module": "@jupyter-widgets/base",
            "_view_module_version": "1.2.0",
            "_view_name": "StyleView",
            "bar_color": null,
            "description_width": ""
          }
        },
        "0c7b616fa7cc4abbba6cb3caff03491b": {
          "model_module": "@jupyter-widgets/base",
          "model_name": "LayoutModel",
          "model_module_version": "1.2.0",
          "state": {
            "_model_module": "@jupyter-widgets/base",
            "_model_module_version": "1.2.0",
            "_model_name": "LayoutModel",
            "_view_count": null,
            "_view_module": "@jupyter-widgets/base",
            "_view_module_version": "1.2.0",
            "_view_name": "LayoutView",
            "align_content": null,
            "align_items": null,
            "align_self": null,
            "border": null,
            "bottom": null,
            "display": null,
            "flex": null,
            "flex_flow": null,
            "grid_area": null,
            "grid_auto_columns": null,
            "grid_auto_flow": null,
            "grid_auto_rows": null,
            "grid_column": null,
            "grid_gap": null,
            "grid_row": null,
            "grid_template_areas": null,
            "grid_template_columns": null,
            "grid_template_rows": null,
            "height": null,
            "justify_content": null,
            "justify_items": null,
            "left": null,
            "margin": null,
            "max_height": null,
            "max_width": null,
            "min_height": null,
            "min_width": null,
            "object_fit": null,
            "object_position": null,
            "order": null,
            "overflow": null,
            "overflow_x": null,
            "overflow_y": null,
            "padding": null,
            "right": null,
            "top": null,
            "visibility": null,
            "width": null
          }
        },
        "bf9bd5449f9f47f292f1abbcc48ac093": {
          "model_module": "@jupyter-widgets/controls",
          "model_name": "DescriptionStyleModel",
          "model_module_version": "1.5.0",
          "state": {
            "_model_module": "@jupyter-widgets/controls",
            "_model_module_version": "1.5.0",
            "_model_name": "DescriptionStyleModel",
            "_view_count": null,
            "_view_module": "@jupyter-widgets/base",
            "_view_module_version": "1.2.0",
            "_view_name": "StyleView",
            "description_width": ""
          }
        },
        "46cf6f15447f4a44b8db378d3dba5a8e": {
          "model_module": "@jupyter-widgets/controls",
          "model_name": "HBoxModel",
          "model_module_version": "1.5.0",
          "state": {
            "_dom_classes": [],
            "_model_module": "@jupyter-widgets/controls",
            "_model_module_version": "1.5.0",
            "_model_name": "HBoxModel",
            "_view_count": null,
            "_view_module": "@jupyter-widgets/controls",
            "_view_module_version": "1.5.0",
            "_view_name": "HBoxView",
            "box_style": "",
            "children": [
              "IPY_MODEL_0d802ade74d044d9a9621393970d36c8",
              "IPY_MODEL_a7d036773a584bf29ec7cf8227570aa1",
              "IPY_MODEL_6e7504dcfe784f798cf3d2572b74c20a"
            ],
            "layout": "IPY_MODEL_e88769fa329640ad8e994003cf06b4c1"
          }
        },
        "0d802ade74d044d9a9621393970d36c8": {
          "model_module": "@jupyter-widgets/controls",
          "model_name": "HTMLModel",
          "model_module_version": "1.5.0",
          "state": {
            "_dom_classes": [],
            "_model_module": "@jupyter-widgets/controls",
            "_model_module_version": "1.5.0",
            "_model_name": "HTMLModel",
            "_view_count": null,
            "_view_module": "@jupyter-widgets/controls",
            "_view_module_version": "1.5.0",
            "_view_name": "HTMLView",
            "description": "",
            "description_tooltip": null,
            "layout": "IPY_MODEL_ab245f1c8fda44888cb3d31df4ffaab0",
            "placeholder": "​",
            "style": "IPY_MODEL_7504ac789e9a4160b6bcc93329993b23",
            "value": "Downloading (…)/main/tokenizer.json: 100%"
          }
        },
        "a7d036773a584bf29ec7cf8227570aa1": {
          "model_module": "@jupyter-widgets/controls",
          "model_name": "FloatProgressModel",
          "model_module_version": "1.5.0",
          "state": {
            "_dom_classes": [],
            "_model_module": "@jupyter-widgets/controls",
            "_model_module_version": "1.5.0",
            "_model_name": "FloatProgressModel",
            "_view_count": null,
            "_view_module": "@jupyter-widgets/controls",
            "_view_module_version": "1.5.0",
            "_view_name": "ProgressView",
            "bar_style": "success",
            "description": "",
            "description_tooltip": null,
            "layout": "IPY_MODEL_b23e0a6c2e41440e8a3f9c651b12eb75",
            "max": 466062,
            "min": 0,
            "orientation": "horizontal",
            "style": "IPY_MODEL_be7895aa13d248aa9cba443880fcc059",
            "value": 466062
          }
        },
        "6e7504dcfe784f798cf3d2572b74c20a": {
          "model_module": "@jupyter-widgets/controls",
          "model_name": "HTMLModel",
          "model_module_version": "1.5.0",
          "state": {
            "_dom_classes": [],
            "_model_module": "@jupyter-widgets/controls",
            "_model_module_version": "1.5.0",
            "_model_name": "HTMLModel",
            "_view_count": null,
            "_view_module": "@jupyter-widgets/controls",
            "_view_module_version": "1.5.0",
            "_view_name": "HTMLView",
            "description": "",
            "description_tooltip": null,
            "layout": "IPY_MODEL_f457f94fe5dd4360b019ccdf26cb002d",
            "placeholder": "​",
            "style": "IPY_MODEL_fe61509b8da04e978acc97795ace2dc7",
            "value": " 466k/466k [00:00&lt;00:00, 6.30MB/s]"
          }
        },
        "e88769fa329640ad8e994003cf06b4c1": {
          "model_module": "@jupyter-widgets/base",
          "model_name": "LayoutModel",
          "model_module_version": "1.2.0",
          "state": {
            "_model_module": "@jupyter-widgets/base",
            "_model_module_version": "1.2.0",
            "_model_name": "LayoutModel",
            "_view_count": null,
            "_view_module": "@jupyter-widgets/base",
            "_view_module_version": "1.2.0",
            "_view_name": "LayoutView",
            "align_content": null,
            "align_items": null,
            "align_self": null,
            "border": null,
            "bottom": null,
            "display": null,
            "flex": null,
            "flex_flow": null,
            "grid_area": null,
            "grid_auto_columns": null,
            "grid_auto_flow": null,
            "grid_auto_rows": null,
            "grid_column": null,
            "grid_gap": null,
            "grid_row": null,
            "grid_template_areas": null,
            "grid_template_columns": null,
            "grid_template_rows": null,
            "height": null,
            "justify_content": null,
            "justify_items": null,
            "left": null,
            "margin": null,
            "max_height": null,
            "max_width": null,
            "min_height": null,
            "min_width": null,
            "object_fit": null,
            "object_position": null,
            "order": null,
            "overflow": null,
            "overflow_x": null,
            "overflow_y": null,
            "padding": null,
            "right": null,
            "top": null,
            "visibility": null,
            "width": null
          }
        },
        "ab245f1c8fda44888cb3d31df4ffaab0": {
          "model_module": "@jupyter-widgets/base",
          "model_name": "LayoutModel",
          "model_module_version": "1.2.0",
          "state": {
            "_model_module": "@jupyter-widgets/base",
            "_model_module_version": "1.2.0",
            "_model_name": "LayoutModel",
            "_view_count": null,
            "_view_module": "@jupyter-widgets/base",
            "_view_module_version": "1.2.0",
            "_view_name": "LayoutView",
            "align_content": null,
            "align_items": null,
            "align_self": null,
            "border": null,
            "bottom": null,
            "display": null,
            "flex": null,
            "flex_flow": null,
            "grid_area": null,
            "grid_auto_columns": null,
            "grid_auto_flow": null,
            "grid_auto_rows": null,
            "grid_column": null,
            "grid_gap": null,
            "grid_row": null,
            "grid_template_areas": null,
            "grid_template_columns": null,
            "grid_template_rows": null,
            "height": null,
            "justify_content": null,
            "justify_items": null,
            "left": null,
            "margin": null,
            "max_height": null,
            "max_width": null,
            "min_height": null,
            "min_width": null,
            "object_fit": null,
            "object_position": null,
            "order": null,
            "overflow": null,
            "overflow_x": null,
            "overflow_y": null,
            "padding": null,
            "right": null,
            "top": null,
            "visibility": null,
            "width": null
          }
        },
        "7504ac789e9a4160b6bcc93329993b23": {
          "model_module": "@jupyter-widgets/controls",
          "model_name": "DescriptionStyleModel",
          "model_module_version": "1.5.0",
          "state": {
            "_model_module": "@jupyter-widgets/controls",
            "_model_module_version": "1.5.0",
            "_model_name": "DescriptionStyleModel",
            "_view_count": null,
            "_view_module": "@jupyter-widgets/base",
            "_view_module_version": "1.2.0",
            "_view_name": "StyleView",
            "description_width": ""
          }
        },
        "b23e0a6c2e41440e8a3f9c651b12eb75": {
          "model_module": "@jupyter-widgets/base",
          "model_name": "LayoutModel",
          "model_module_version": "1.2.0",
          "state": {
            "_model_module": "@jupyter-widgets/base",
            "_model_module_version": "1.2.0",
            "_model_name": "LayoutModel",
            "_view_count": null,
            "_view_module": "@jupyter-widgets/base",
            "_view_module_version": "1.2.0",
            "_view_name": "LayoutView",
            "align_content": null,
            "align_items": null,
            "align_self": null,
            "border": null,
            "bottom": null,
            "display": null,
            "flex": null,
            "flex_flow": null,
            "grid_area": null,
            "grid_auto_columns": null,
            "grid_auto_flow": null,
            "grid_auto_rows": null,
            "grid_column": null,
            "grid_gap": null,
            "grid_row": null,
            "grid_template_areas": null,
            "grid_template_columns": null,
            "grid_template_rows": null,
            "height": null,
            "justify_content": null,
            "justify_items": null,
            "left": null,
            "margin": null,
            "max_height": null,
            "max_width": null,
            "min_height": null,
            "min_width": null,
            "object_fit": null,
            "object_position": null,
            "order": null,
            "overflow": null,
            "overflow_x": null,
            "overflow_y": null,
            "padding": null,
            "right": null,
            "top": null,
            "visibility": null,
            "width": null
          }
        },
        "be7895aa13d248aa9cba443880fcc059": {
          "model_module": "@jupyter-widgets/controls",
          "model_name": "ProgressStyleModel",
          "model_module_version": "1.5.0",
          "state": {
            "_model_module": "@jupyter-widgets/controls",
            "_model_module_version": "1.5.0",
            "_model_name": "ProgressStyleModel",
            "_view_count": null,
            "_view_module": "@jupyter-widgets/base",
            "_view_module_version": "1.2.0",
            "_view_name": "StyleView",
            "bar_color": null,
            "description_width": ""
          }
        },
        "f457f94fe5dd4360b019ccdf26cb002d": {
          "model_module": "@jupyter-widgets/base",
          "model_name": "LayoutModel",
          "model_module_version": "1.2.0",
          "state": {
            "_model_module": "@jupyter-widgets/base",
            "_model_module_version": "1.2.0",
            "_model_name": "LayoutModel",
            "_view_count": null,
            "_view_module": "@jupyter-widgets/base",
            "_view_module_version": "1.2.0",
            "_view_name": "LayoutView",
            "align_content": null,
            "align_items": null,
            "align_self": null,
            "border": null,
            "bottom": null,
            "display": null,
            "flex": null,
            "flex_flow": null,
            "grid_area": null,
            "grid_auto_columns": null,
            "grid_auto_flow": null,
            "grid_auto_rows": null,
            "grid_column": null,
            "grid_gap": null,
            "grid_row": null,
            "grid_template_areas": null,
            "grid_template_columns": null,
            "grid_template_rows": null,
            "height": null,
            "justify_content": null,
            "justify_items": null,
            "left": null,
            "margin": null,
            "max_height": null,
            "max_width": null,
            "min_height": null,
            "min_width": null,
            "object_fit": null,
            "object_position": null,
            "order": null,
            "overflow": null,
            "overflow_x": null,
            "overflow_y": null,
            "padding": null,
            "right": null,
            "top": null,
            "visibility": null,
            "width": null
          }
        },
        "fe61509b8da04e978acc97795ace2dc7": {
          "model_module": "@jupyter-widgets/controls",
          "model_name": "DescriptionStyleModel",
          "model_module_version": "1.5.0",
          "state": {
            "_model_module": "@jupyter-widgets/controls",
            "_model_module_version": "1.5.0",
            "_model_name": "DescriptionStyleModel",
            "_view_count": null,
            "_view_module": "@jupyter-widgets/base",
            "_view_module_version": "1.2.0",
            "_view_name": "StyleView",
            "description_width": ""
          }
        },
        "9ef68748a4ea4760be43cf18c1b8f076": {
          "model_module": "@jupyter-widgets/controls",
          "model_name": "HBoxModel",
          "model_module_version": "1.5.0",
          "state": {
            "_dom_classes": [],
            "_model_module": "@jupyter-widgets/controls",
            "_model_module_version": "1.5.0",
            "_model_name": "HBoxModel",
            "_view_count": null,
            "_view_module": "@jupyter-widgets/controls",
            "_view_module_version": "1.5.0",
            "_view_name": "HBoxView",
            "box_style": "",
            "children": [
              "IPY_MODEL_b4ffd116d0a54fa3a72c7b92ab6bd281",
              "IPY_MODEL_f2351c347e084a6dbab94b52bb913a13",
              "IPY_MODEL_eafcb3de04284eabbc7569debbf2f3b9"
            ],
            "layout": "IPY_MODEL_004b4bf266194b80b1c425472327b42e"
          }
        },
        "b4ffd116d0a54fa3a72c7b92ab6bd281": {
          "model_module": "@jupyter-widgets/controls",
          "model_name": "HTMLModel",
          "model_module_version": "1.5.0",
          "state": {
            "_dom_classes": [],
            "_model_module": "@jupyter-widgets/controls",
            "_model_module_version": "1.5.0",
            "_model_name": "HTMLModel",
            "_view_count": null,
            "_view_module": "@jupyter-widgets/controls",
            "_view_module_version": "1.5.0",
            "_view_name": "HTMLView",
            "description": "",
            "description_tooltip": null,
            "layout": "IPY_MODEL_b7ea0198f49e4586af11ef3f75651bf2",
            "placeholder": "​",
            "style": "IPY_MODEL_befc58aed71c4afa8d72de8759a3754c",
            "value": "Downloading model.safetensors: 100%"
          }
        },
        "f2351c347e084a6dbab94b52bb913a13": {
          "model_module": "@jupyter-widgets/controls",
          "model_name": "FloatProgressModel",
          "model_module_version": "1.5.0",
          "state": {
            "_dom_classes": [],
            "_model_module": "@jupyter-widgets/controls",
            "_model_module_version": "1.5.0",
            "_model_name": "FloatProgressModel",
            "_view_count": null,
            "_view_module": "@jupyter-widgets/controls",
            "_view_module_version": "1.5.0",
            "_view_name": "ProgressView",
            "bar_style": "success",
            "description": "",
            "description_tooltip": null,
            "layout": "IPY_MODEL_6708d98fb45c4ea4931bfb67fb77a21b",
            "max": 440449768,
            "min": 0,
            "orientation": "horizontal",
            "style": "IPY_MODEL_ee9d6b1043c74be1b7ec42437a703bed",
            "value": 440449768
          }
        },
        "eafcb3de04284eabbc7569debbf2f3b9": {
          "model_module": "@jupyter-widgets/controls",
          "model_name": "HTMLModel",
          "model_module_version": "1.5.0",
          "state": {
            "_dom_classes": [],
            "_model_module": "@jupyter-widgets/controls",
            "_model_module_version": "1.5.0",
            "_model_name": "HTMLModel",
            "_view_count": null,
            "_view_module": "@jupyter-widgets/controls",
            "_view_module_version": "1.5.0",
            "_view_name": "HTMLView",
            "description": "",
            "description_tooltip": null,
            "layout": "IPY_MODEL_33128ed8179347e89684a742835386e8",
            "placeholder": "​",
            "style": "IPY_MODEL_ca22ad23f3d140b4aa169ba8c42a8c2f",
            "value": " 440M/440M [00:10&lt;00:00, 51.1MB/s]"
          }
        },
        "004b4bf266194b80b1c425472327b42e": {
          "model_module": "@jupyter-widgets/base",
          "model_name": "LayoutModel",
          "model_module_version": "1.2.0",
          "state": {
            "_model_module": "@jupyter-widgets/base",
            "_model_module_version": "1.2.0",
            "_model_name": "LayoutModel",
            "_view_count": null,
            "_view_module": "@jupyter-widgets/base",
            "_view_module_version": "1.2.0",
            "_view_name": "LayoutView",
            "align_content": null,
            "align_items": null,
            "align_self": null,
            "border": null,
            "bottom": null,
            "display": null,
            "flex": null,
            "flex_flow": null,
            "grid_area": null,
            "grid_auto_columns": null,
            "grid_auto_flow": null,
            "grid_auto_rows": null,
            "grid_column": null,
            "grid_gap": null,
            "grid_row": null,
            "grid_template_areas": null,
            "grid_template_columns": null,
            "grid_template_rows": null,
            "height": null,
            "justify_content": null,
            "justify_items": null,
            "left": null,
            "margin": null,
            "max_height": null,
            "max_width": null,
            "min_height": null,
            "min_width": null,
            "object_fit": null,
            "object_position": null,
            "order": null,
            "overflow": null,
            "overflow_x": null,
            "overflow_y": null,
            "padding": null,
            "right": null,
            "top": null,
            "visibility": null,
            "width": null
          }
        },
        "b7ea0198f49e4586af11ef3f75651bf2": {
          "model_module": "@jupyter-widgets/base",
          "model_name": "LayoutModel",
          "model_module_version": "1.2.0",
          "state": {
            "_model_module": "@jupyter-widgets/base",
            "_model_module_version": "1.2.0",
            "_model_name": "LayoutModel",
            "_view_count": null,
            "_view_module": "@jupyter-widgets/base",
            "_view_module_version": "1.2.0",
            "_view_name": "LayoutView",
            "align_content": null,
            "align_items": null,
            "align_self": null,
            "border": null,
            "bottom": null,
            "display": null,
            "flex": null,
            "flex_flow": null,
            "grid_area": null,
            "grid_auto_columns": null,
            "grid_auto_flow": null,
            "grid_auto_rows": null,
            "grid_column": null,
            "grid_gap": null,
            "grid_row": null,
            "grid_template_areas": null,
            "grid_template_columns": null,
            "grid_template_rows": null,
            "height": null,
            "justify_content": null,
            "justify_items": null,
            "left": null,
            "margin": null,
            "max_height": null,
            "max_width": null,
            "min_height": null,
            "min_width": null,
            "object_fit": null,
            "object_position": null,
            "order": null,
            "overflow": null,
            "overflow_x": null,
            "overflow_y": null,
            "padding": null,
            "right": null,
            "top": null,
            "visibility": null,
            "width": null
          }
        },
        "befc58aed71c4afa8d72de8759a3754c": {
          "model_module": "@jupyter-widgets/controls",
          "model_name": "DescriptionStyleModel",
          "model_module_version": "1.5.0",
          "state": {
            "_model_module": "@jupyter-widgets/controls",
            "_model_module_version": "1.5.0",
            "_model_name": "DescriptionStyleModel",
            "_view_count": null,
            "_view_module": "@jupyter-widgets/base",
            "_view_module_version": "1.2.0",
            "_view_name": "StyleView",
            "description_width": ""
          }
        },
        "6708d98fb45c4ea4931bfb67fb77a21b": {
          "model_module": "@jupyter-widgets/base",
          "model_name": "LayoutModel",
          "model_module_version": "1.2.0",
          "state": {
            "_model_module": "@jupyter-widgets/base",
            "_model_module_version": "1.2.0",
            "_model_name": "LayoutModel",
            "_view_count": null,
            "_view_module": "@jupyter-widgets/base",
            "_view_module_version": "1.2.0",
            "_view_name": "LayoutView",
            "align_content": null,
            "align_items": null,
            "align_self": null,
            "border": null,
            "bottom": null,
            "display": null,
            "flex": null,
            "flex_flow": null,
            "grid_area": null,
            "grid_auto_columns": null,
            "grid_auto_flow": null,
            "grid_auto_rows": null,
            "grid_column": null,
            "grid_gap": null,
            "grid_row": null,
            "grid_template_areas": null,
            "grid_template_columns": null,
            "grid_template_rows": null,
            "height": null,
            "justify_content": null,
            "justify_items": null,
            "left": null,
            "margin": null,
            "max_height": null,
            "max_width": null,
            "min_height": null,
            "min_width": null,
            "object_fit": null,
            "object_position": null,
            "order": null,
            "overflow": null,
            "overflow_x": null,
            "overflow_y": null,
            "padding": null,
            "right": null,
            "top": null,
            "visibility": null,
            "width": null
          }
        },
        "ee9d6b1043c74be1b7ec42437a703bed": {
          "model_module": "@jupyter-widgets/controls",
          "model_name": "ProgressStyleModel",
          "model_module_version": "1.5.0",
          "state": {
            "_model_module": "@jupyter-widgets/controls",
            "_model_module_version": "1.5.0",
            "_model_name": "ProgressStyleModel",
            "_view_count": null,
            "_view_module": "@jupyter-widgets/base",
            "_view_module_version": "1.2.0",
            "_view_name": "StyleView",
            "bar_color": null,
            "description_width": ""
          }
        },
        "33128ed8179347e89684a742835386e8": {
          "model_module": "@jupyter-widgets/base",
          "model_name": "LayoutModel",
          "model_module_version": "1.2.0",
          "state": {
            "_model_module": "@jupyter-widgets/base",
            "_model_module_version": "1.2.0",
            "_model_name": "LayoutModel",
            "_view_count": null,
            "_view_module": "@jupyter-widgets/base",
            "_view_module_version": "1.2.0",
            "_view_name": "LayoutView",
            "align_content": null,
            "align_items": null,
            "align_self": null,
            "border": null,
            "bottom": null,
            "display": null,
            "flex": null,
            "flex_flow": null,
            "grid_area": null,
            "grid_auto_columns": null,
            "grid_auto_flow": null,
            "grid_auto_rows": null,
            "grid_column": null,
            "grid_gap": null,
            "grid_row": null,
            "grid_template_areas": null,
            "grid_template_columns": null,
            "grid_template_rows": null,
            "height": null,
            "justify_content": null,
            "justify_items": null,
            "left": null,
            "margin": null,
            "max_height": null,
            "max_width": null,
            "min_height": null,
            "min_width": null,
            "object_fit": null,
            "object_position": null,
            "order": null,
            "overflow": null,
            "overflow_x": null,
            "overflow_y": null,
            "padding": null,
            "right": null,
            "top": null,
            "visibility": null,
            "width": null
          }
        },
        "ca22ad23f3d140b4aa169ba8c42a8c2f": {
          "model_module": "@jupyter-widgets/controls",
          "model_name": "DescriptionStyleModel",
          "model_module_version": "1.5.0",
          "state": {
            "_model_module": "@jupyter-widgets/controls",
            "_model_module_version": "1.5.0",
            "_model_name": "DescriptionStyleModel",
            "_view_count": null,
            "_view_module": "@jupyter-widgets/base",
            "_view_module_version": "1.2.0",
            "_view_name": "StyleView",
            "description_width": ""
          }
        }
      }
    }
  },
  "cells": [
    {
      "cell_type": "markdown",
      "metadata": {
        "id": "view-in-github",
        "colab_type": "text"
      },
      "source": [
        "<a href=\"https://colab.research.google.com/github/ras1364/Run10BERT/blob/CommentWithBreak/BertWithBreak2.ipynb\" target=\"_parent\"><img src=\"https://colab.research.google.com/assets/colab-badge.svg\" alt=\"Open In Colab\"/></a>"
      ]
    },
    {
      "cell_type": "markdown",
      "source": [
        "** BERT encoder + Comment With Break + NLP + MaxPooling and AveragePooling + NLP**"
      ],
      "metadata": {
        "id": "1aAOYqnQ80pE"
      }
    },
    {
      "cell_type": "code",
      "execution_count": 1,
      "metadata": {
        "id": "1PdDVhRexpxq"
      },
      "outputs": [],
      "source": [
        "import pandas as pd\n",
        "import numpy as np"
      ]
    },
    {
      "cell_type": "code",
      "source": [
        "from google.colab import files\n",
        "uploaded = files.upload()"
      ],
      "metadata": {
        "colab": {
          "base_uri": "https://localhost:8080/",
          "height": 180
        },
        "id": "z14wlzOcp_Cq",
        "outputId": "8a1c5fe8-d644-4f03-ff2e-bd104e427e11"
      },
      "execution_count": 2,
      "outputs": [
        {
          "output_type": "display_data",
          "data": {
            "text/plain": [
              "<IPython.core.display.HTML object>"
            ],
            "text/html": [
              "\n",
              "     <input type=\"file\" id=\"files-82d1112b-a015-481f-bacd-aaf289be2686\" name=\"files[]\" multiple disabled\n",
              "        style=\"border:none\" />\n",
              "     <output id=\"result-82d1112b-a015-481f-bacd-aaf289be2686\">\n",
              "      Upload widget is only available when the cell has been executed in the\n",
              "      current browser session. Please rerun this cell to enable.\n",
              "      </output>\n",
              "      <script>// Copyright 2017 Google LLC\n",
              "//\n",
              "// Licensed under the Apache License, Version 2.0 (the \"License\");\n",
              "// you may not use this file except in compliance with the License.\n",
              "// You may obtain a copy of the License at\n",
              "//\n",
              "//      http://www.apache.org/licenses/LICENSE-2.0\n",
              "//\n",
              "// Unless required by applicable law or agreed to in writing, software\n",
              "// distributed under the License is distributed on an \"AS IS\" BASIS,\n",
              "// WITHOUT WARRANTIES OR CONDITIONS OF ANY KIND, either express or implied.\n",
              "// See the License for the specific language governing permissions and\n",
              "// limitations under the License.\n",
              "\n",
              "/**\n",
              " * @fileoverview Helpers for google.colab Python module.\n",
              " */\n",
              "(function(scope) {\n",
              "function span(text, styleAttributes = {}) {\n",
              "  const element = document.createElement('span');\n",
              "  element.textContent = text;\n",
              "  for (const key of Object.keys(styleAttributes)) {\n",
              "    element.style[key] = styleAttributes[key];\n",
              "  }\n",
              "  return element;\n",
              "}\n",
              "\n",
              "// Max number of bytes which will be uploaded at a time.\n",
              "const MAX_PAYLOAD_SIZE = 100 * 1024;\n",
              "\n",
              "function _uploadFiles(inputId, outputId) {\n",
              "  const steps = uploadFilesStep(inputId, outputId);\n",
              "  const outputElement = document.getElementById(outputId);\n",
              "  // Cache steps on the outputElement to make it available for the next call\n",
              "  // to uploadFilesContinue from Python.\n",
              "  outputElement.steps = steps;\n",
              "\n",
              "  return _uploadFilesContinue(outputId);\n",
              "}\n",
              "\n",
              "// This is roughly an async generator (not supported in the browser yet),\n",
              "// where there are multiple asynchronous steps and the Python side is going\n",
              "// to poll for completion of each step.\n",
              "// This uses a Promise to block the python side on completion of each step,\n",
              "// then passes the result of the previous step as the input to the next step.\n",
              "function _uploadFilesContinue(outputId) {\n",
              "  const outputElement = document.getElementById(outputId);\n",
              "  const steps = outputElement.steps;\n",
              "\n",
              "  const next = steps.next(outputElement.lastPromiseValue);\n",
              "  return Promise.resolve(next.value.promise).then((value) => {\n",
              "    // Cache the last promise value to make it available to the next\n",
              "    // step of the generator.\n",
              "    outputElement.lastPromiseValue = value;\n",
              "    return next.value.response;\n",
              "  });\n",
              "}\n",
              "\n",
              "/**\n",
              " * Generator function which is called between each async step of the upload\n",
              " * process.\n",
              " * @param {string} inputId Element ID of the input file picker element.\n",
              " * @param {string} outputId Element ID of the output display.\n",
              " * @return {!Iterable<!Object>} Iterable of next steps.\n",
              " */\n",
              "function* uploadFilesStep(inputId, outputId) {\n",
              "  const inputElement = document.getElementById(inputId);\n",
              "  inputElement.disabled = false;\n",
              "\n",
              "  const outputElement = document.getElementById(outputId);\n",
              "  outputElement.innerHTML = '';\n",
              "\n",
              "  const pickedPromise = new Promise((resolve) => {\n",
              "    inputElement.addEventListener('change', (e) => {\n",
              "      resolve(e.target.files);\n",
              "    });\n",
              "  });\n",
              "\n",
              "  const cancel = document.createElement('button');\n",
              "  inputElement.parentElement.appendChild(cancel);\n",
              "  cancel.textContent = 'Cancel upload';\n",
              "  const cancelPromise = new Promise((resolve) => {\n",
              "    cancel.onclick = () => {\n",
              "      resolve(null);\n",
              "    };\n",
              "  });\n",
              "\n",
              "  // Wait for the user to pick the files.\n",
              "  const files = yield {\n",
              "    promise: Promise.race([pickedPromise, cancelPromise]),\n",
              "    response: {\n",
              "      action: 'starting',\n",
              "    }\n",
              "  };\n",
              "\n",
              "  cancel.remove();\n",
              "\n",
              "  // Disable the input element since further picks are not allowed.\n",
              "  inputElement.disabled = true;\n",
              "\n",
              "  if (!files) {\n",
              "    return {\n",
              "      response: {\n",
              "        action: 'complete',\n",
              "      }\n",
              "    };\n",
              "  }\n",
              "\n",
              "  for (const file of files) {\n",
              "    const li = document.createElement('li');\n",
              "    li.append(span(file.name, {fontWeight: 'bold'}));\n",
              "    li.append(span(\n",
              "        `(${file.type || 'n/a'}) - ${file.size} bytes, ` +\n",
              "        `last modified: ${\n",
              "            file.lastModifiedDate ? file.lastModifiedDate.toLocaleDateString() :\n",
              "                                    'n/a'} - `));\n",
              "    const percent = span('0% done');\n",
              "    li.appendChild(percent);\n",
              "\n",
              "    outputElement.appendChild(li);\n",
              "\n",
              "    const fileDataPromise = new Promise((resolve) => {\n",
              "      const reader = new FileReader();\n",
              "      reader.onload = (e) => {\n",
              "        resolve(e.target.result);\n",
              "      };\n",
              "      reader.readAsArrayBuffer(file);\n",
              "    });\n",
              "    // Wait for the data to be ready.\n",
              "    let fileData = yield {\n",
              "      promise: fileDataPromise,\n",
              "      response: {\n",
              "        action: 'continue',\n",
              "      }\n",
              "    };\n",
              "\n",
              "    // Use a chunked sending to avoid message size limits. See b/62115660.\n",
              "    let position = 0;\n",
              "    do {\n",
              "      const length = Math.min(fileData.byteLength - position, MAX_PAYLOAD_SIZE);\n",
              "      const chunk = new Uint8Array(fileData, position, length);\n",
              "      position += length;\n",
              "\n",
              "      const base64 = btoa(String.fromCharCode.apply(null, chunk));\n",
              "      yield {\n",
              "        response: {\n",
              "          action: 'append',\n",
              "          file: file.name,\n",
              "          data: base64,\n",
              "        },\n",
              "      };\n",
              "\n",
              "      let percentDone = fileData.byteLength === 0 ?\n",
              "          100 :\n",
              "          Math.round((position / fileData.byteLength) * 100);\n",
              "      percent.textContent = `${percentDone}% done`;\n",
              "\n",
              "    } while (position < fileData.byteLength);\n",
              "  }\n",
              "\n",
              "  // All done.\n",
              "  yield {\n",
              "    response: {\n",
              "      action: 'complete',\n",
              "    }\n",
              "  };\n",
              "}\n",
              "\n",
              "scope.google = scope.google || {};\n",
              "scope.google.colab = scope.google.colab || {};\n",
              "scope.google.colab._files = {\n",
              "  _uploadFiles,\n",
              "  _uploadFilesContinue,\n",
              "};\n",
              "})(self);\n",
              "</script> "
            ]
          },
          "metadata": {}
        },
        {
          "output_type": "stream",
          "name": "stdout",
          "text": [
            "Saving X_test2.csv to X_test2.csv\n",
            "Saving X_train2.csv to X_train2.csv\n",
            "Saving y_test2.csv to y_test2.csv\n",
            "Saving y_train2.csv to y_train2.csv\n"
          ]
        }
      ]
    },
    {
      "cell_type": "code",
      "source": [
        "num = \"2\"\n",
        "X_test = pd.read_csv(\"/content/X_test\"+num+\".csv\")\n",
        "X_train = pd.read_csv(\"/content/X_train\"+num+\".csv\")\n",
        "y_test = pd.read_csv(\"/content/y_test\"+num+\".csv\")\n",
        "y_train = pd.read_csv(\"/content/y_train\"+num+\".csv\")"
      ],
      "metadata": {
        "id": "L3jbVEROyLEC"
      },
      "execution_count": 3,
      "outputs": []
    },
    {
      "cell_type": "code",
      "source": [
        "max_length = 100\n",
        "# for x in range(0,len(X_train)):\n",
        "#   line = X_train.loc[x].at[\"text\"]\n",
        "#   if max_length < len(line.split()) :\n",
        "#     max_length = len(line.split())\n",
        "\n",
        "print(max_length)\n"
      ],
      "metadata": {
        "colab": {
          "base_uri": "https://localhost:8080/"
        },
        "id": "E_IU66B2rG_e",
        "outputId": "37ee50de-14b8-4343-b0b1-927266185fb0"
      },
      "execution_count": 4,
      "outputs": [
        {
          "output_type": "stream",
          "name": "stdout",
          "text": [
            "100\n"
          ]
        }
      ]
    },
    {
      "cell_type": "code",
      "source": [
        "from gensim.parsing.preprocessing import remove_stopwords\n",
        "\n",
        "def preprocess(text):\n",
        "  return remove_stopwords(text)\n",
        "\n",
        "X_train[\"stemmed_text_data\"] = X_train[\"text\"].map(preprocess)\n",
        "X_test[\"stemmed_text_data\"] = X_test[\"text\"].map(preprocess)"
      ],
      "metadata": {
        "id": "9wpXnXU0q9sx"
      },
      "execution_count": 5,
      "outputs": []
    },
    {
      "cell_type": "code",
      "source": [
        "!pip install transformers"
      ],
      "metadata": {
        "id": "HtoBc6lH4ESj",
        "outputId": "f5ffaa86-4d6e-48b4-8e59-c88013e3c960",
        "colab": {
          "base_uri": "https://localhost:8080/"
        }
      },
      "execution_count": 6,
      "outputs": [
        {
          "output_type": "stream",
          "name": "stdout",
          "text": [
            "Collecting transformers\n",
            "  Downloading transformers-4.31.0-py3-none-any.whl (7.4 MB)\n",
            "\u001b[2K     \u001b[90m━━━━━━━━━━━━━━━━━━━━━━━━━━━━━━━━━━━━━━━━\u001b[0m \u001b[32m7.4/7.4 MB\u001b[0m \u001b[31m63.1 MB/s\u001b[0m eta \u001b[36m0:00:00\u001b[0m\n",
            "\u001b[?25hRequirement already satisfied: filelock in /usr/local/lib/python3.10/dist-packages (from transformers) (3.12.2)\n",
            "Collecting huggingface-hub<1.0,>=0.14.1 (from transformers)\n",
            "  Downloading huggingface_hub-0.16.4-py3-none-any.whl (268 kB)\n",
            "\u001b[2K     \u001b[90m━━━━━━━━━━━━━━━━━━━━━━━━━━━━━━━━━━━━━━\u001b[0m \u001b[32m268.8/268.8 kB\u001b[0m \u001b[31m38.1 MB/s\u001b[0m eta \u001b[36m0:00:00\u001b[0m\n",
            "\u001b[?25hRequirement already satisfied: numpy>=1.17 in /usr/local/lib/python3.10/dist-packages (from transformers) (1.23.5)\n",
            "Requirement already satisfied: packaging>=20.0 in /usr/local/lib/python3.10/dist-packages (from transformers) (23.1)\n",
            "Requirement already satisfied: pyyaml>=5.1 in /usr/local/lib/python3.10/dist-packages (from transformers) (6.0.1)\n",
            "Requirement already satisfied: regex!=2019.12.17 in /usr/local/lib/python3.10/dist-packages (from transformers) (2023.6.3)\n",
            "Requirement already satisfied: requests in /usr/local/lib/python3.10/dist-packages (from transformers) (2.31.0)\n",
            "Collecting tokenizers!=0.11.3,<0.14,>=0.11.1 (from transformers)\n",
            "  Downloading tokenizers-0.13.3-cp310-cp310-manylinux_2_17_x86_64.manylinux2014_x86_64.whl (7.8 MB)\n",
            "\u001b[2K     \u001b[90m━━━━━━━━━━━━━━━━━━━━━━━━━━━━━━━━━━━━━━━━\u001b[0m \u001b[32m7.8/7.8 MB\u001b[0m \u001b[31m133.9 MB/s\u001b[0m eta \u001b[36m0:00:00\u001b[0m\n",
            "\u001b[?25hCollecting safetensors>=0.3.1 (from transformers)\n",
            "  Downloading safetensors-0.3.2-cp310-cp310-manylinux_2_17_x86_64.manylinux2014_x86_64.whl (1.3 MB)\n",
            "\u001b[2K     \u001b[90m━━━━━━━━━━━━━━━━━━━━━━━━━━━━━━━━━━━━━━━━\u001b[0m \u001b[32m1.3/1.3 MB\u001b[0m \u001b[31m103.0 MB/s\u001b[0m eta \u001b[36m0:00:00\u001b[0m\n",
            "\u001b[?25hRequirement already satisfied: tqdm>=4.27 in /usr/local/lib/python3.10/dist-packages (from transformers) (4.66.0)\n",
            "Requirement already satisfied: fsspec in /usr/local/lib/python3.10/dist-packages (from huggingface-hub<1.0,>=0.14.1->transformers) (2023.6.0)\n",
            "Requirement already satisfied: typing-extensions>=3.7.4.3 in /usr/local/lib/python3.10/dist-packages (from huggingface-hub<1.0,>=0.14.1->transformers) (4.7.1)\n",
            "Requirement already satisfied: charset-normalizer<4,>=2 in /usr/local/lib/python3.10/dist-packages (from requests->transformers) (3.2.0)\n",
            "Requirement already satisfied: idna<4,>=2.5 in /usr/local/lib/python3.10/dist-packages (from requests->transformers) (3.4)\n",
            "Requirement already satisfied: urllib3<3,>=1.21.1 in /usr/local/lib/python3.10/dist-packages (from requests->transformers) (2.0.4)\n",
            "Requirement already satisfied: certifi>=2017.4.17 in /usr/local/lib/python3.10/dist-packages (from requests->transformers) (2023.7.22)\n",
            "Installing collected packages: tokenizers, safetensors, huggingface-hub, transformers\n",
            "Successfully installed huggingface-hub-0.16.4 safetensors-0.3.2 tokenizers-0.13.3 transformers-4.31.0\n"
          ]
        }
      ]
    },
    {
      "cell_type": "code",
      "source": [
        "from transformers import AutoTokenizer, TFBertModel\n",
        "tokenizer = AutoTokenizer.from_pretrained('bert-base-uncased')\n",
        "bert_model = TFBertModel.from_pretrained('bert-base-uncased')"
      ],
      "metadata": {
        "id": "aqJxHbdjkiXL",
        "outputId": "b8d4e270-85fd-478c-e159-546b7cb40ee1",
        "colab": {
          "base_uri": "https://localhost:8080/",
          "height": 288,
          "referenced_widgets": [
            "5746bb05d87347569133349a34edf4b6",
            "da76a3c9de074bf7a39a2bb93fd9eabb",
            "b883c64d91164aa59dac3e330308def3",
            "87ace588d6ac470098d1b93070cfff23",
            "e78a2dd8d8e54956b6f1f64511f526d8",
            "75596e3a30764f21a113aac364b5607e",
            "cd69a1b0f7cd4ee1915313b16e4b2c79",
            "5f4027f4ffa84b48a98230bd42ca49b6",
            "8fb53d915eae40aa99216428144e9a4f",
            "818b492e0d5344b0a42db5006f4c9892",
            "da2775f9db1248f2891a5e0dce47a667",
            "dada13f6570f4f208c7f25db38dc7233",
            "35775be3f71d4898b7a1a5fd9087db07",
            "fcf46fb62bb14a07be02a10759f66961",
            "6eac6db782d44535ab52b9c38e26215b",
            "08315d15508a456fb50c675f4b7b270b",
            "b35eeb8b88934e00939cd33a55f533a8",
            "c4e5500f740a41169eff7b7f2da4e6ee",
            "e7f6c92c43f64cba83e13d4927490b54",
            "f0b5b465831b4ca7b1a09c1a1dee5a6c",
            "14488c7a7bb647eea91c0e5f3b42bbcc",
            "a80eba72e8004094871156304a743886",
            "4c06a33932ef446383d9535821b2b1ea",
            "ae18cff2918746aba4e207ed3819902d",
            "14d9ae5ed7ad4f9e8d8605386c12ad42",
            "2375f5bcb81e4bc6868d5c39d6226b75",
            "b2074cf1932a46af94abdd5360dcfa4d",
            "470cb49b4a0b4068844a8af1008053b5",
            "0596544367da45e8b7f9966e16ed37e3",
            "f3c577c9ed5943ddacf324d7cda4396e",
            "0b5239742fed4bef9ebb02ac5967c07d",
            "0c7b616fa7cc4abbba6cb3caff03491b",
            "bf9bd5449f9f47f292f1abbcc48ac093",
            "46cf6f15447f4a44b8db378d3dba5a8e",
            "0d802ade74d044d9a9621393970d36c8",
            "a7d036773a584bf29ec7cf8227570aa1",
            "6e7504dcfe784f798cf3d2572b74c20a",
            "e88769fa329640ad8e994003cf06b4c1",
            "ab245f1c8fda44888cb3d31df4ffaab0",
            "7504ac789e9a4160b6bcc93329993b23",
            "b23e0a6c2e41440e8a3f9c651b12eb75",
            "be7895aa13d248aa9cba443880fcc059",
            "f457f94fe5dd4360b019ccdf26cb002d",
            "fe61509b8da04e978acc97795ace2dc7",
            "9ef68748a4ea4760be43cf18c1b8f076",
            "b4ffd116d0a54fa3a72c7b92ab6bd281",
            "f2351c347e084a6dbab94b52bb913a13",
            "eafcb3de04284eabbc7569debbf2f3b9",
            "004b4bf266194b80b1c425472327b42e",
            "b7ea0198f49e4586af11ef3f75651bf2",
            "befc58aed71c4afa8d72de8759a3754c",
            "6708d98fb45c4ea4931bfb67fb77a21b",
            "ee9d6b1043c74be1b7ec42437a703bed",
            "33128ed8179347e89684a742835386e8",
            "ca22ad23f3d140b4aa169ba8c42a8c2f"
          ]
        }
      },
      "execution_count": 7,
      "outputs": [
        {
          "output_type": "display_data",
          "data": {
            "text/plain": [
              "Downloading (…)okenizer_config.json:   0%|          | 0.00/28.0 [00:00<?, ?B/s]"
            ],
            "application/vnd.jupyter.widget-view+json": {
              "version_major": 2,
              "version_minor": 0,
              "model_id": "5746bb05d87347569133349a34edf4b6"
            }
          },
          "metadata": {}
        },
        {
          "output_type": "display_data",
          "data": {
            "text/plain": [
              "Downloading (…)lve/main/config.json:   0%|          | 0.00/570 [00:00<?, ?B/s]"
            ],
            "application/vnd.jupyter.widget-view+json": {
              "version_major": 2,
              "version_minor": 0,
              "model_id": "dada13f6570f4f208c7f25db38dc7233"
            }
          },
          "metadata": {}
        },
        {
          "output_type": "display_data",
          "data": {
            "text/plain": [
              "Downloading (…)solve/main/vocab.txt:   0%|          | 0.00/232k [00:00<?, ?B/s]"
            ],
            "application/vnd.jupyter.widget-view+json": {
              "version_major": 2,
              "version_minor": 0,
              "model_id": "4c06a33932ef446383d9535821b2b1ea"
            }
          },
          "metadata": {}
        },
        {
          "output_type": "display_data",
          "data": {
            "text/plain": [
              "Downloading (…)/main/tokenizer.json:   0%|          | 0.00/466k [00:00<?, ?B/s]"
            ],
            "application/vnd.jupyter.widget-view+json": {
              "version_major": 2,
              "version_minor": 0,
              "model_id": "46cf6f15447f4a44b8db378d3dba5a8e"
            }
          },
          "metadata": {}
        },
        {
          "output_type": "display_data",
          "data": {
            "text/plain": [
              "Downloading model.safetensors:   0%|          | 0.00/440M [00:00<?, ?B/s]"
            ],
            "application/vnd.jupyter.widget-view+json": {
              "version_major": 2,
              "version_minor": 0,
              "model_id": "9ef68748a4ea4760be43cf18c1b8f076"
            }
          },
          "metadata": {}
        },
        {
          "output_type": "stream",
          "name": "stderr",
          "text": [
            "Some weights of the PyTorch model were not used when initializing the TF 2.0 model TFBertModel: ['cls.predictions.transform.LayerNorm.bias', 'cls.seq_relationship.weight', 'cls.predictions.transform.dense.bias', 'cls.predictions.transform.LayerNorm.weight', 'cls.predictions.transform.dense.weight', 'cls.predictions.bias', 'cls.seq_relationship.bias']\n",
            "- This IS expected if you are initializing TFBertModel from a PyTorch model trained on another task or with another architecture (e.g. initializing a TFBertForSequenceClassification model from a BertForPreTraining model).\n",
            "- This IS NOT expected if you are initializing TFBertModel from a PyTorch model that you expect to be exactly identical (e.g. initializing a TFBertForSequenceClassification model from a BertForSequenceClassification model).\n",
            "All the weights of TFBertModel were initialized from the PyTorch model.\n",
            "If your task is similar to the task the model of the checkpoint was trained on, you can already use TFBertModel for predictions without further training.\n"
          ]
        }
      ]
    },
    {
      "cell_type": "code",
      "source": [
        "# For Test\n",
        "# encoded = tokenizer.encode_plus(\"Hello beautifull human, i'm Reza\", return_tensors=\"tf\")\n",
        "# embedding = bert_model(encoded['input_ids'],encoded['attention_mask'])"
      ],
      "metadata": {
        "id": "UaxMvPiaEPVz"
      },
      "execution_count": 8,
      "outputs": []
    },
    {
      "cell_type": "code",
      "source": [
        "def percent_complete(step, total_steps, bar_width=60, title=\"\", print_perc=True):\n",
        "    import sys\n",
        "\n",
        "    # UTF-8 left blocks: 1, 1/8, 1/4, 3/8, 1/2, 5/8, 3/4, 7/8\n",
        "    utf_8s = [\"█\", \"▏\", \"▎\", \"▍\", \"▌\", \"▋\", \"▊\", \"█\"]\n",
        "    perc = 100 * float(step) / float(total_steps)\n",
        "    max_ticks = bar_width * 8\n",
        "    num_ticks = int(round(perc / 100 * max_ticks))\n",
        "    full_ticks = num_ticks / 8      # Number of full blocks\n",
        "    part_ticks = num_ticks % 8      # Size of partial block (array index)\n",
        "\n",
        "    disp = bar = \"\"                 # Blank out variables\n",
        "    bar += utf_8s[0] * int(full_ticks)  # Add full blocks into Progress Bar\n",
        "\n",
        "    # If part_ticks is zero, then no partial block, else append part char\n",
        "    if part_ticks > 0:\n",
        "        bar += utf_8s[part_ticks]\n",
        "\n",
        "    # Pad Progress Bar with fill character\n",
        "    bar += \"▒\" * int((max_ticks/8 - float(num_ticks)/8.0))\n",
        "\n",
        "    if len(title) > 0:\n",
        "        disp = title + \": \"         # Optional title to progress display\n",
        "\n",
        "    # Print progress bar in green: https://stackoverflow.com/a/21786287/6929343\n",
        "    disp += \"\\x1b[0;32m\"            # Color Green\n",
        "    disp += bar                     # Progress bar to progress display\n",
        "    disp += \"\\x1b[0m\"               # Color Reset\n",
        "    if print_perc:\n",
        "        # If requested, append percentage complete to progress display\n",
        "        if perc > 100.0:\n",
        "            perc = 100.0            # Fix \"100.04 %\" rounding error\n",
        "        disp += \" {:6.2f}\".format(perc) + \" %\"\n",
        "\n",
        "    # Output to terminal repetitively over the same line using '\\r'.\n",
        "    sys.stdout.write(\"\\r\" + disp)\n",
        "    sys.stdout.flush()"
      ],
      "metadata": {
        "id": "2Ec0K8-adYTF"
      },
      "execution_count": 9,
      "outputs": []
    },
    {
      "cell_type": "code",
      "source": [
        "import nltk\n",
        "nltk.download('punkt')\n",
        "from nltk.tokenize import sent_tokenize\n",
        "import tensorflow as tf\n",
        "\n",
        "def encode(text, maxlen,maxSentences,mtitle):\n",
        "  embeddings=[]\n",
        "  counter = 1\n",
        "  for row in text:\n",
        "    embedding =[]\n",
        "    counter+=1\n",
        "    percent_complete(counter, len(text), title=mtitle)\n",
        "    sentenceCounter = 0\n",
        "    for sent in sent_tokenize(row):\n",
        "      sentenceCounter +=1\n",
        "      if(sentenceCounter<maxSentences):\n",
        "        encoded = tokenizer.encode_plus(\n",
        "          sent,\n",
        "          add_special_tokens=True,\n",
        "          max_length=maxlen,\n",
        "          pad_to_max_length=True,\n",
        "          return_attention_mask=True,\n",
        "          return_tensors=\"tf\"\n",
        "          )\n",
        "        embedding.append(bert_model(encoded['input_ids'],encoded['attention_mask'])[1])\n",
        "    loop = maxSentences - len(embedding)\n",
        "    for x in range(loop):\n",
        "      embedding.append(tf.zeros([1,768],tf.int32))\n",
        "    embeddings.append(embedding)\n",
        "\n",
        "  return embeddings"
      ],
      "metadata": {
        "id": "McfAfoYuHgdL",
        "outputId": "0ca3fbee-2a8c-41da-8b93-d4d1e0fba2f2",
        "colab": {
          "base_uri": "https://localhost:8080/"
        }
      },
      "execution_count": 10,
      "outputs": [
        {
          "output_type": "stream",
          "name": "stderr",
          "text": [
            "[nltk_data] Downloading package punkt to /root/nltk_data...\n",
            "[nltk_data]   Unzipping tokenizers/punkt.zip.\n"
          ]
        }
      ]
    },
    {
      "cell_type": "code",
      "source": [
        "# for test\n",
        "#my_test= {\"I love my little son. He is very qiute.\",\"He is hamed and he was sick. he is best football player.\",\"I love my little son. He is very qiute.\",\"He is hamed and he was sick. he is best football player.\"}\n",
        "#my_test_encoded = encode(my_test,5)"
      ],
      "metadata": {
        "id": "lGzDCln5I_Eb"
      },
      "execution_count": 11,
      "outputs": []
    },
    {
      "cell_type": "code",
      "source": [
        "import time"
      ],
      "metadata": {
        "id": "34tj_7m9VY3V"
      },
      "execution_count": 12,
      "outputs": []
    },
    {
      "cell_type": "code",
      "source": [
        "max_sentences = 50\n",
        "startedTime = time.time()\n",
        "X_train_embedding = encode(X_train.stemmed_text_data,max_length,max_sentences,\"X_train_embedding\")\n",
        "endTime= time.time()\n",
        "print(\"\\nTrain Elapsed Time : \", endTime - startedTime, \"sec or \",(endTime - startedTime)/60,\"min\")\n",
        "startedTime = time.time()\n",
        "X_test_embedding  = encode(X_test.stemmed_text_data,max_length,max_sentences,\"X_test_embedding\")\n",
        "endTime= time.time()\n",
        "print(\"\\nTest Elapsed Time : \", endTime - startedTime, \"sec or \",(endTime - startedTime)/60,\"min\")"
      ],
      "metadata": {
        "id": "bMN4mvyMQqNY",
        "outputId": "acfd0c67-47a3-4df3-c701-422a41076c65",
        "colab": {
          "base_uri": "https://localhost:8080/"
        }
      },
      "execution_count": 13,
      "outputs": [
        {
          "output_type": "stream",
          "name": "stdout",
          "text": [
            "\rX_train_embedding: \u001b[0;32m▏▒▒▒▒▒▒▒▒▒▒▒▒▒▒▒▒▒▒▒▒▒▒▒▒▒▒▒▒▒▒▒▒▒▒▒▒▒▒▒▒▒▒▒▒▒▒▒▒▒▒▒▒▒▒▒▒▒▒▒\u001b[0m   0.16 %"
          ]
        },
        {
          "output_type": "stream",
          "name": "stderr",
          "text": [
            "Truncation was not explicitly activated but `max_length` is provided a specific value, please use `truncation=True` to explicitly truncate examples to max length. Defaulting to 'longest_first' truncation strategy. If you encode pairs of sequences (GLUE-style) with the tokenizer you can select this strategy more precisely by providing a specific strategy to `truncation`.\n",
            "/usr/local/lib/python3.10/dist-packages/transformers/tokenization_utils_base.py:2393: FutureWarning: The `pad_to_max_length` argument is deprecated and will be removed in a future version, use `padding=True` or `padding='longest'` to pad to the longest sequence in the batch, or use `padding='max_length'` to pad to a max length. In this case, you can give a specific length with `max_length` (e.g. `max_length=45`) or leave max_length to None to pad to the maximal input size of the model (e.g. 512 for Bert).\n",
            "  warnings.warn(\n"
          ]
        },
        {
          "output_type": "stream",
          "name": "stdout",
          "text": [
            "X_train_embedding: \u001b[0;32m████████████████████████████████████████████████████████████\u001b[0m 100.00 %\n",
            "Train Elapsed Time :  5552.019092559814 sec or  92.53365154266358 min\n",
            "X_test_embedding: \u001b[0;32m████████████████████████████████████████████████████████████▎\u001b[0m 100.00 %\n",
            "Test Elapsed Time :  1387.7946238517761 sec or  23.129910397529603 min\n"
          ]
        }
      ]
    },
    {
      "cell_type": "code",
      "source": [
        "np.shape(X_train_embedding)"
      ],
      "metadata": {
        "id": "efDHPwKLJ-t0",
        "outputId": "351b9db3-2280-42d5-b936-977f7f7671f2",
        "colab": {
          "base_uri": "https://localhost:8080/"
        }
      },
      "execution_count": 14,
      "outputs": [
        {
          "output_type": "execute_result",
          "data": {
            "text/plain": [
              "(1280, 50, 1, 768)"
            ]
          },
          "metadata": {},
          "execution_count": 14
        }
      ]
    },
    {
      "cell_type": "code",
      "source": [
        "X_train_embedding_squeezed = np.squeeze(X_train_embedding)\n",
        "X_test_embedding_squeezed = np.squeeze(X_test_embedding)\n",
        "print(np.shape(X_train_embedding_squeezed))\n",
        "print(np.shape(X_test_embedding_squeezed))"
      ],
      "metadata": {
        "id": "-tYpkp91Ka1i",
        "outputId": "70977e21-f5fa-4848-c01f-bfa7213cf7ce",
        "colab": {
          "base_uri": "https://localhost:8080/"
        }
      },
      "execution_count": 15,
      "outputs": [
        {
          "output_type": "stream",
          "name": "stdout",
          "text": [
            "(1280, 50, 768)\n",
            "(320, 50, 768)\n"
          ]
        }
      ]
    },
    {
      "cell_type": "code",
      "source": [
        "from tempfile import TemporaryFile\n",
        "X_train_embedded_file = TemporaryFile()\n",
        "X_test_embedded_file = TemporaryFile()\n",
        "np.save(X_train_embedded_file,X_train_embedding_squeezed)\n",
        "np.save(X_test_embedded_file,X_test_embedding_squeezed)\n"
      ],
      "metadata": {
        "id": "LoNDPvD6qn6g"
      },
      "execution_count": 16,
      "outputs": []
    },
    {
      "cell_type": "code",
      "source": [
        "np.save(\"X_train_embedded_file.npy\",X_train_embedding_squeezed)\n",
        "np.save(\"X_test_embedded_file.npy\",X_test_embedding_squeezed)\n"
      ],
      "metadata": {
        "id": "1zfr2TgPtfMp"
      },
      "execution_count": 17,
      "outputs": []
    },
    {
      "cell_type": "code",
      "source": [
        "X_train_embedding_squeezed = np.load(\"X_train_embedded_file.npy\")\n",
        "X_test_embedding_squeezed = np.load(\"X_test_embedded_file.npy\")"
      ],
      "metadata": {
        "id": "pmzXe_d2WnTi"
      },
      "execution_count": 18,
      "outputs": []
    },
    {
      "cell_type": "code",
      "source": [
        "import tensorflow as tf\n",
        "from keras.models import Sequential\n",
        "from keras.layers import Dense,MaxPooling1D\n",
        "import keras\n",
        "\n",
        "# define and fit the final model\n",
        "METRICS = [\n",
        "      tf.keras.metrics.BinaryAccuracy(name='accuracy'),\n",
        "      tf.keras.metrics.Precision(name='precision'),\n",
        "      tf.keras.metrics.Recall(name='recall')\n",
        "   ]\n",
        "model = Sequential()\n",
        "model.add(keras.Input(shape=(50,768,)))\n",
        "model.add(MaxPooling1D(pool_size=(50)))\n",
        "model.add(Dense(64, activation='relu'))\n",
        "model.add(Dense(32, activation='relu'))\n",
        "model.add(Dense(1, activation='sigmoid'))\n",
        "model.compile(loss='binary_crossentropy', optimizer='adam', metrics=METRICS)"
      ],
      "metadata": {
        "id": "aPhAKNSfXAJN"
      },
      "execution_count": 19,
      "outputs": []
    },
    {
      "cell_type": "code",
      "source": [
        "model.summary()"
      ],
      "metadata": {
        "colab": {
          "base_uri": "https://localhost:8080/"
        },
        "id": "A3-sUXZVXLaw",
        "outputId": "985f6929-4b33-4e7f-c2ef-b29113d8f4bf"
      },
      "execution_count": 20,
      "outputs": [
        {
          "output_type": "stream",
          "name": "stdout",
          "text": [
            "Model: \"sequential\"\n",
            "_________________________________________________________________\n",
            " Layer (type)                Output Shape              Param #   \n",
            "=================================================================\n",
            " max_pooling1d (MaxPooling1D  (None, 1, 768)           0         \n",
            " )                                                               \n",
            "                                                                 \n",
            " dense (Dense)               (None, 1, 64)             49216     \n",
            "                                                                 \n",
            " dense_1 (Dense)             (None, 1, 32)             2080      \n",
            "                                                                 \n",
            " dense_2 (Dense)             (None, 1, 1)              33        \n",
            "                                                                 \n",
            "=================================================================\n",
            "Total params: 51,329\n",
            "Trainable params: 51,329\n",
            "Non-trainable params: 0\n",
            "_________________________________________________________________\n"
          ]
        }
      ]
    },
    {
      "cell_type": "code",
      "source": [
        "startedTime = time.time()\n",
        "model.fit(X_train_embedding_squeezed,y_train.deceptive, epochs=50, batch_size=64, verbose=1)\n",
        "endTime= time.time()\n",
        "print(\"\\nTrain Elapsed Time : \", endTime - startedTime, \"sec or \",(endTime - startedTime)/60,\"min\")"
      ],
      "metadata": {
        "colab": {
          "base_uri": "https://localhost:8080/"
        },
        "id": "rh5sgt1oXNgt",
        "outputId": "363b6587-45cd-4fb9-e47f-3488a9107cda"
      },
      "execution_count": 21,
      "outputs": [
        {
          "output_type": "stream",
          "name": "stdout",
          "text": [
            "Epoch 1/50\n",
            "20/20 [==============================] - 2s 22ms/step - loss: 0.6970 - accuracy: 0.5289 - precision: 0.5282 - recall: 0.5406\n",
            "Epoch 2/50\n",
            "20/20 [==============================] - 0s 12ms/step - loss: 0.6789 - accuracy: 0.6008 - precision: 0.6052 - recall: 0.5797\n",
            "Epoch 3/50\n",
            "20/20 [==============================] - 0s 18ms/step - loss: 0.6717 - accuracy: 0.5797 - precision: 0.6024 - recall: 0.4688\n",
            "Epoch 4/50\n",
            "20/20 [==============================] - 0s 9ms/step - loss: 0.6628 - accuracy: 0.5898 - precision: 0.5756 - recall: 0.6844\n",
            "Epoch 5/50\n",
            "20/20 [==============================] - 0s 9ms/step - loss: 0.6492 - accuracy: 0.6258 - precision: 0.6348 - recall: 0.5922\n",
            "Epoch 6/50\n",
            "20/20 [==============================] - 0s 8ms/step - loss: 0.6443 - accuracy: 0.6375 - precision: 0.6366 - recall: 0.6406\n",
            "Epoch 7/50\n",
            "20/20 [==============================] - 0s 6ms/step - loss: 0.6343 - accuracy: 0.6414 - precision: 0.6434 - recall: 0.6344\n",
            "Epoch 8/50\n",
            "20/20 [==============================] - 0s 8ms/step - loss: 0.6262 - accuracy: 0.6547 - precision: 0.6518 - recall: 0.6641\n",
            "Epoch 9/50\n",
            "20/20 [==============================] - 0s 8ms/step - loss: 0.6267 - accuracy: 0.6508 - precision: 0.6501 - recall: 0.6531\n",
            "Epoch 10/50\n",
            "20/20 [==============================] - 0s 10ms/step - loss: 0.6208 - accuracy: 0.6422 - precision: 0.6574 - recall: 0.5938\n",
            "Epoch 11/50\n",
            "20/20 [==============================] - 0s 10ms/step - loss: 0.6033 - accuracy: 0.6703 - precision: 0.6741 - recall: 0.6594\n",
            "Epoch 12/50\n",
            "20/20 [==============================] - 0s 14ms/step - loss: 0.5973 - accuracy: 0.6828 - precision: 0.6822 - recall: 0.6844\n",
            "Epoch 13/50\n",
            "20/20 [==============================] - 0s 14ms/step - loss: 0.6049 - accuracy: 0.6711 - precision: 0.6730 - recall: 0.6656\n",
            "Epoch 14/50\n",
            "20/20 [==============================] - 0s 10ms/step - loss: 0.5888 - accuracy: 0.6820 - precision: 0.6852 - recall: 0.6734\n",
            "Epoch 15/50\n",
            "20/20 [==============================] - 0s 10ms/step - loss: 0.6086 - accuracy: 0.6539 - precision: 0.6546 - recall: 0.6516\n",
            "Epoch 16/50\n",
            "20/20 [==============================] - 0s 11ms/step - loss: 0.5945 - accuracy: 0.6914 - precision: 0.6998 - recall: 0.6703\n",
            "Epoch 17/50\n",
            "20/20 [==============================] - 0s 12ms/step - loss: 0.5981 - accuracy: 0.6734 - precision: 0.6796 - recall: 0.6562\n",
            "Epoch 18/50\n",
            "20/20 [==============================] - 0s 11ms/step - loss: 0.5796 - accuracy: 0.6922 - precision: 0.6881 - recall: 0.7031\n",
            "Epoch 19/50\n",
            "20/20 [==============================] - 0s 12ms/step - loss: 0.5741 - accuracy: 0.7000 - precision: 0.7071 - recall: 0.6828\n",
            "Epoch 20/50\n",
            "20/20 [==============================] - 0s 12ms/step - loss: 0.5700 - accuracy: 0.7070 - precision: 0.7134 - recall: 0.6922\n",
            "Epoch 21/50\n",
            "20/20 [==============================] - 0s 9ms/step - loss: 0.5821 - accuracy: 0.6805 - precision: 0.6696 - recall: 0.7125\n",
            "Epoch 22/50\n",
            "20/20 [==============================] - 0s 19ms/step - loss: 0.5541 - accuracy: 0.7117 - precision: 0.7175 - recall: 0.6984\n",
            "Epoch 23/50\n",
            "20/20 [==============================] - 0s 13ms/step - loss: 0.5510 - accuracy: 0.7148 - precision: 0.7125 - recall: 0.7203\n",
            "Epoch 24/50\n",
            "20/20 [==============================] - 0s 9ms/step - loss: 0.5974 - accuracy: 0.6812 - precision: 0.6785 - recall: 0.6891\n",
            "Epoch 25/50\n",
            "20/20 [==============================] - 0s 8ms/step - loss: 0.5576 - accuracy: 0.7133 - precision: 0.7103 - recall: 0.7203\n",
            "Epoch 26/50\n",
            "20/20 [==============================] - 0s 6ms/step - loss: 0.5544 - accuracy: 0.7281 - precision: 0.7378 - recall: 0.7078\n",
            "Epoch 27/50\n",
            "20/20 [==============================] - 0s 6ms/step - loss: 0.5586 - accuracy: 0.7117 - precision: 0.7127 - recall: 0.7094\n",
            "Epoch 28/50\n",
            "20/20 [==============================] - 0s 9ms/step - loss: 0.5432 - accuracy: 0.7172 - precision: 0.7317 - recall: 0.6859\n",
            "Epoch 29/50\n",
            "20/20 [==============================] - 0s 6ms/step - loss: 0.5332 - accuracy: 0.7328 - precision: 0.7395 - recall: 0.7188\n",
            "Epoch 30/50\n",
            "20/20 [==============================] - 0s 7ms/step - loss: 0.5563 - accuracy: 0.7086 - precision: 0.7038 - recall: 0.7203\n",
            "Epoch 31/50\n",
            "20/20 [==============================] - 0s 6ms/step - loss: 0.5277 - accuracy: 0.7430 - precision: 0.7512 - recall: 0.7266\n",
            "Epoch 32/50\n",
            "20/20 [==============================] - 0s 7ms/step - loss: 0.5299 - accuracy: 0.7375 - precision: 0.7436 - recall: 0.7250\n",
            "Epoch 33/50\n",
            "20/20 [==============================] - 0s 6ms/step - loss: 0.5494 - accuracy: 0.7063 - precision: 0.7031 - recall: 0.7141\n",
            "Epoch 34/50\n",
            "20/20 [==============================] - 0s 8ms/step - loss: 0.5226 - accuracy: 0.7250 - precision: 0.7308 - recall: 0.7125\n",
            "Epoch 35/50\n",
            "20/20 [==============================] - 0s 5ms/step - loss: 0.5206 - accuracy: 0.7516 - precision: 0.7469 - recall: 0.7609\n",
            "Epoch 36/50\n",
            "20/20 [==============================] - 0s 5ms/step - loss: 0.5333 - accuracy: 0.7320 - precision: 0.7324 - recall: 0.7312\n",
            "Epoch 37/50\n",
            "20/20 [==============================] - 0s 5ms/step - loss: 0.5185 - accuracy: 0.7359 - precision: 0.7374 - recall: 0.7328\n",
            "Epoch 38/50\n",
            "20/20 [==============================] - 0s 3ms/step - loss: 0.5257 - accuracy: 0.7281 - precision: 0.7288 - recall: 0.7266\n",
            "Epoch 39/50\n",
            "20/20 [==============================] - 0s 4ms/step - loss: 0.5166 - accuracy: 0.7453 - precision: 0.7532 - recall: 0.7297\n",
            "Epoch 40/50\n",
            "20/20 [==============================] - 0s 4ms/step - loss: 0.5092 - accuracy: 0.7484 - precision: 0.7581 - recall: 0.7297\n",
            "Epoch 41/50\n",
            "20/20 [==============================] - 0s 5ms/step - loss: 0.5081 - accuracy: 0.7547 - precision: 0.7638 - recall: 0.7375\n",
            "Epoch 42/50\n",
            "20/20 [==============================] - 0s 4ms/step - loss: 0.5048 - accuracy: 0.7531 - precision: 0.7605 - recall: 0.7391\n",
            "Epoch 43/50\n",
            "20/20 [==============================] - 0s 4ms/step - loss: 0.4999 - accuracy: 0.7516 - precision: 0.7572 - recall: 0.7406\n",
            "Epoch 44/50\n",
            "20/20 [==============================] - 0s 4ms/step - loss: 0.5013 - accuracy: 0.7469 - precision: 0.7573 - recall: 0.7266\n",
            "Epoch 45/50\n",
            "20/20 [==============================] - 0s 4ms/step - loss: 0.5299 - accuracy: 0.7328 - precision: 0.7314 - recall: 0.7359\n",
            "Epoch 46/50\n",
            "20/20 [==============================] - 0s 4ms/step - loss: 0.5196 - accuracy: 0.7547 - precision: 0.7699 - recall: 0.7266\n",
            "Epoch 47/50\n",
            "20/20 [==============================] - 0s 5ms/step - loss: 0.5349 - accuracy: 0.7234 - precision: 0.7306 - recall: 0.7078\n",
            "Epoch 48/50\n",
            "20/20 [==============================] - 0s 4ms/step - loss: 0.4962 - accuracy: 0.7516 - precision: 0.7492 - recall: 0.7563\n",
            "Epoch 49/50\n",
            "20/20 [==============================] - 0s 3ms/step - loss: 0.5537 - accuracy: 0.7102 - precision: 0.7209 - recall: 0.6859\n",
            "Epoch 50/50\n",
            "20/20 [==============================] - 0s 3ms/step - loss: 0.5464 - accuracy: 0.7172 - precision: 0.7199 - recall: 0.7109\n",
            "\n",
            "Train Elapsed Time :  12.560718297958374 sec or  0.2093453049659729 min\n"
          ]
        }
      ]
    },
    {
      "cell_type": "code",
      "source": [
        "model.evaluate(X_test_embedding_squeezed, y_test.deceptive)"
      ],
      "metadata": {
        "colab": {
          "base_uri": "https://localhost:8080/"
        },
        "id": "mhOxPmM5XQYd",
        "outputId": "6c05e9d9-28dc-4f34-c35d-b6f1f6573c63"
      },
      "execution_count": 22,
      "outputs": [
        {
          "output_type": "stream",
          "name": "stdout",
          "text": [
            "10/10 [==============================] - 0s 5ms/step - loss: 0.6075 - accuracy: 0.7000 - precision: 0.7759 - recall: 0.5625\n"
          ]
        },
        {
          "output_type": "execute_result",
          "data": {
            "text/plain": [
              "[0.6075296401977539, 0.699999988079071, 0.7758620977401733, 0.5625]"
            ]
          },
          "metadata": {},
          "execution_count": 22
        }
      ]
    },
    {
      "cell_type": "code",
      "source": [
        "y_predicted = model.predict(X_test_embedding_squeezed)\n",
        "y_predicted = y_predicted.flatten()"
      ],
      "metadata": {
        "colab": {
          "base_uri": "https://localhost:8080/"
        },
        "id": "e47vWOq8XUd_",
        "outputId": "eaed7ead-3592-4fae-8d76-368d0622edd4"
      },
      "execution_count": 23,
      "outputs": [
        {
          "output_type": "stream",
          "name": "stdout",
          "text": [
            "10/10 [==============================] - 0s 4ms/step\n"
          ]
        }
      ]
    },
    {
      "cell_type": "code",
      "source": [
        "y_predicted = np.where(y_predicted > 0.5, 1, 0)\n",
        "y_predicted"
      ],
      "metadata": {
        "colab": {
          "base_uri": "https://localhost:8080/"
        },
        "id": "-B1s1fVnkmV5",
        "outputId": "5efdf115-41d4-482c-b3c3-208ec175aad6"
      },
      "execution_count": 24,
      "outputs": [
        {
          "output_type": "execute_result",
          "data": {
            "text/plain": [
              "array([0, 0, 0, 1, 1, 0, 0, 1, 1, 1, 0, 0, 0, 0, 0, 1, 0, 1, 1, 0, 1, 1,\n",
              "       0, 0, 0, 0, 1, 0, 0, 0, 0, 0, 0, 1, 0, 0, 1, 0, 1, 0, 0, 0, 1, 1,\n",
              "       0, 0, 1, 0, 0, 1, 0, 0, 0, 1, 0, 1, 0, 0, 0, 1, 1, 1, 1, 0, 0, 0,\n",
              "       1, 0, 1, 0, 1, 1, 0, 1, 0, 1, 1, 0, 0, 0, 0, 0, 0, 0, 0, 0, 0, 0,\n",
              "       1, 1, 0, 0, 1, 0, 0, 1, 0, 0, 0, 0, 0, 0, 0, 1, 0, 1, 0, 0, 0, 1,\n",
              "       0, 0, 0, 1, 0, 0, 1, 0, 1, 0, 0, 0, 1, 0, 0, 1, 0, 1, 1, 1, 1, 0,\n",
              "       0, 1, 1, 0, 0, 0, 0, 1, 1, 1, 1, 1, 1, 1, 1, 0, 0, 0, 0, 0, 0, 0,\n",
              "       0, 0, 0, 0, 0, 0, 0, 0, 0, 0, 0, 0, 0, 0, 0, 1, 0, 1, 0, 0, 1, 1,\n",
              "       1, 1, 1, 0, 0, 0, 0, 0, 1, 0, 0, 1, 0, 0, 0, 0, 0, 0, 0, 0, 0, 1,\n",
              "       1, 1, 1, 1, 1, 0, 1, 0, 1, 0, 0, 0, 1, 0, 0, 0, 0, 1, 0, 0, 1, 1,\n",
              "       0, 0, 0, 0, 1, 1, 0, 0, 0, 1, 0, 0, 0, 0, 1, 1, 0, 1, 0, 0, 1, 0,\n",
              "       0, 0, 1, 1, 0, 1, 1, 1, 0, 0, 0, 1, 1, 0, 0, 1, 1, 1, 0, 1, 0, 1,\n",
              "       1, 1, 1, 1, 0, 0, 1, 1, 0, 1, 0, 0, 0, 1, 0, 1, 0, 1, 0, 0, 0, 0,\n",
              "       0, 0, 1, 0, 0, 0, 0, 0, 0, 0, 0, 0, 0, 0, 1, 1, 0, 0, 0, 0, 0, 1,\n",
              "       0, 1, 0, 1, 0, 0, 1, 0, 1, 0, 1, 0])"
            ]
          },
          "metadata": {},
          "execution_count": 24
        }
      ]
    },
    {
      "cell_type": "code",
      "source": [
        "from sklearn.metrics import confusion_matrix, classification_report\n",
        "\n",
        "cm = confusion_matrix(y_test.deceptive, y_predicted)\n",
        "cm"
      ],
      "metadata": {
        "colab": {
          "base_uri": "https://localhost:8080/"
        },
        "id": "IFGkh43sXeI_",
        "outputId": "292b8395-f0b0-4bc7-9dc4-021b11cc60bc"
      },
      "execution_count": 25,
      "outputs": [
        {
          "output_type": "execute_result",
          "data": {
            "text/plain": [
              "array([[134,  26],\n",
              "       [ 70,  90]])"
            ]
          },
          "metadata": {},
          "execution_count": 25
        }
      ]
    },
    {
      "cell_type": "code",
      "source": [
        "from matplotlib import pyplot as plt\n",
        "import seaborn as sn\n",
        "sn.heatmap(cm, annot=True, fmt='d')\n",
        "plt.xlabel('Predicted')\n",
        "plt.ylabel('Truth')"
      ],
      "metadata": {
        "colab": {
          "base_uri": "https://localhost:8080/",
          "height": 467
        },
        "id": "-SG4_fFaXgFJ",
        "outputId": "69396713-2749-4eb2-9ea0-7ed5ab065ee1"
      },
      "execution_count": 26,
      "outputs": [
        {
          "output_type": "execute_result",
          "data": {
            "text/plain": [
              "Text(50.722222222222214, 0.5, 'Truth')"
            ]
          },
          "metadata": {},
          "execution_count": 26
        },
        {
          "output_type": "display_data",
          "data": {
            "text/plain": [
              "<Figure size 640x480 with 2 Axes>"
            ],
            "image/png": "[encoded data removed]"
          },
          "metadata": {}
        }
      ]
    },
    {
      "cell_type": "code",
      "source": [
        "print(classification_report(y_test.deceptive, y_predicted))"
      ],
      "metadata": {
        "colab": {
          "base_uri": "https://localhost:8080/"
        },
        "id": "mFmviyDZXgqR",
        "outputId": "c53a2f72-edf0-484a-ce42-34177b69b48a"
      },
      "execution_count": 27,
      "outputs": [
        {
          "output_type": "stream",
          "name": "stdout",
          "text": [
            "              precision    recall  f1-score   support\n",
            "\n",
            "           0       0.66      0.84      0.74       160\n",
            "           1       0.78      0.56      0.65       160\n",
            "\n",
            "    accuracy                           0.70       320\n",
            "   macro avg       0.72      0.70      0.69       320\n",
            "weighted avg       0.72      0.70      0.69       320\n",
            "\n"
          ]
        }
      ]
    },
    {
      "cell_type": "code",
      "source": [
        "import tensorflow as tf\n",
        "from keras.models import Sequential\n",
        "from keras.layers import Dense,AveragePooling1D\n",
        "import keras\n",
        "\n",
        "# define and fit the final model\n",
        "METRICS = [\n",
        "      tf.keras.metrics.BinaryAccuracy(name='accuracy'),\n",
        "      tf.keras.metrics.Precision(name='precision'),\n",
        "      tf.keras.metrics.Recall(name='recall')\n",
        "   ]\n",
        "model = Sequential()\n",
        "model.add(keras.Input(shape=(50,768,)))\n",
        "model.add(AveragePooling1D(pool_size=(50)))\n",
        "model.add(Dense(64, activation='relu'))\n",
        "model.add(Dense(32, activation='relu'))\n",
        "model.add(Dense(1, activation='sigmoid'))\n",
        "model.compile(loss='binary_crossentropy', optimizer='adam', metrics=METRICS)"
      ],
      "metadata": {
        "id": "zU-44Jr3V8QQ"
      },
      "execution_count": 28,
      "outputs": []
    },
    {
      "cell_type": "code",
      "source": [
        "model.summary()"
      ],
      "metadata": {
        "id": "Eo6X2uLqWG8c",
        "colab": {
          "base_uri": "https://localhost:8080/"
        },
        "outputId": "c231ff85-7d53-4c33-c809-a42c3bb7fc02"
      },
      "execution_count": 29,
      "outputs": [
        {
          "output_type": "stream",
          "name": "stdout",
          "text": [
            "Model: \"sequential_1\"\n",
            "_________________________________________________________________\n",
            " Layer (type)                Output Shape              Param #   \n",
            "=================================================================\n",
            " average_pooling1d (AverageP  (None, 1, 768)           0         \n",
            " ooling1D)                                                       \n",
            "                                                                 \n",
            " dense_3 (Dense)             (None, 1, 64)             49216     \n",
            "                                                                 \n",
            " dense_4 (Dense)             (None, 1, 32)             2080      \n",
            "                                                                 \n",
            " dense_5 (Dense)             (None, 1, 1)              33        \n",
            "                                                                 \n",
            "=================================================================\n",
            "Total params: 51,329\n",
            "Trainable params: 51,329\n",
            "Non-trainable params: 0\n",
            "_________________________________________________________________\n"
          ]
        }
      ]
    },
    {
      "cell_type": "code",
      "source": [
        "startedTime = time.time()\n",
        "model.fit(X_train_embedding_squeezed,y_train.deceptive, epochs=50, batch_size=64, verbose=1)\n",
        "endTime= time.time()\n",
        "print(\"\\nTrain Elapsed Time : \", endTime - startedTime, \"sec or \",(endTime - startedTime)/60,\"min\")"
      ],
      "metadata": {
        "id": "QrDWI2jKWNh0",
        "colab": {
          "base_uri": "https://localhost:8080/"
        },
        "outputId": "5ea52a18-d295-47fd-ec2f-a2ee96fae495"
      },
      "execution_count": 30,
      "outputs": [
        {
          "output_type": "stream",
          "name": "stdout",
          "text": [
            "Epoch 1/50\n",
            "20/20 [==============================] - 1s 8ms/step - loss: 0.6933 - accuracy: 0.5047 - precision: 0.5034 - recall: 0.6938\n",
            "Epoch 2/50\n",
            "20/20 [==============================] - 0s 5ms/step - loss: 0.6895 - accuracy: 0.5305 - precision: 0.5230 - recall: 0.6938\n",
            "Epoch 3/50\n",
            "20/20 [==============================] - 0s 4ms/step - loss: 0.6823 - accuracy: 0.5680 - precision: 0.5462 - recall: 0.8031\n",
            "Epoch 4/50\n",
            "20/20 [==============================] - 0s 4ms/step - loss: 0.6795 - accuracy: 0.5875 - precision: 0.5870 - recall: 0.5906\n",
            "Epoch 5/50\n",
            "20/20 [==============================] - 0s 3ms/step - loss: 0.6729 - accuracy: 0.5742 - precision: 0.5683 - recall: 0.6172\n",
            "Epoch 6/50\n",
            "20/20 [==============================] - 0s 4ms/step - loss: 0.6680 - accuracy: 0.5945 - precision: 0.6031 - recall: 0.5531\n",
            "Epoch 7/50\n",
            "20/20 [==============================] - 0s 4ms/step - loss: 0.6579 - accuracy: 0.6320 - precision: 0.6275 - recall: 0.6500\n",
            "Epoch 8/50\n",
            "20/20 [==============================] - 0s 4ms/step - loss: 0.6461 - accuracy: 0.6570 - precision: 0.6695 - recall: 0.6203\n",
            "Epoch 9/50\n",
            "20/20 [==============================] - 0s 4ms/step - loss: 0.6385 - accuracy: 0.6547 - precision: 0.6820 - recall: 0.5797\n",
            "Epoch 10/50\n",
            "20/20 [==============================] - 0s 4ms/step - loss: 0.6362 - accuracy: 0.6453 - precision: 0.6603 - recall: 0.5984\n",
            "Epoch 11/50\n",
            "20/20 [==============================] - 0s 4ms/step - loss: 0.6219 - accuracy: 0.6664 - precision: 0.6839 - recall: 0.6187\n",
            "Epoch 12/50\n",
            "20/20 [==============================] - 0s 4ms/step - loss: 0.6159 - accuracy: 0.6672 - precision: 0.6748 - recall: 0.6453\n",
            "Epoch 13/50\n",
            "20/20 [==============================] - 0s 4ms/step - loss: 0.6207 - accuracy: 0.6430 - precision: 0.6661 - recall: 0.5734\n",
            "Epoch 14/50\n",
            "20/20 [==============================] - 0s 4ms/step - loss: 0.6151 - accuracy: 0.6687 - precision: 0.6818 - recall: 0.6328\n",
            "Epoch 15/50\n",
            "20/20 [==============================] - 0s 4ms/step - loss: 0.6201 - accuracy: 0.6648 - precision: 0.6915 - recall: 0.5953\n",
            "Epoch 16/50\n",
            "20/20 [==============================] - 0s 4ms/step - loss: 0.5956 - accuracy: 0.6859 - precision: 0.6977 - recall: 0.6562\n",
            "Epoch 17/50\n",
            "20/20 [==============================] - 0s 4ms/step - loss: 0.5931 - accuracy: 0.6898 - precision: 0.7128 - recall: 0.6359\n",
            "Epoch 18/50\n",
            "20/20 [==============================] - 0s 4ms/step - loss: 0.5858 - accuracy: 0.6984 - precision: 0.7096 - recall: 0.6719\n",
            "Epoch 19/50\n",
            "20/20 [==============================] - 0s 4ms/step - loss: 0.5850 - accuracy: 0.6953 - precision: 0.7201 - recall: 0.6391\n",
            "Epoch 20/50\n",
            "20/20 [==============================] - 0s 4ms/step - loss: 0.5955 - accuracy: 0.6664 - precision: 0.6755 - recall: 0.6406\n",
            "Epoch 21/50\n",
            "20/20 [==============================] - 0s 4ms/step - loss: 0.5928 - accuracy: 0.6875 - precision: 0.7027 - recall: 0.6500\n",
            "Epoch 22/50\n",
            "20/20 [==============================] - 0s 4ms/step - loss: 0.5759 - accuracy: 0.7039 - precision: 0.7343 - recall: 0.6391\n",
            "Epoch 23/50\n",
            "20/20 [==============================] - 0s 4ms/step - loss: 0.5775 - accuracy: 0.7102 - precision: 0.7180 - recall: 0.6922\n",
            "Epoch 24/50\n",
            "20/20 [==============================] - 0s 4ms/step - loss: 0.5675 - accuracy: 0.7023 - precision: 0.7085 - recall: 0.6875\n",
            "Epoch 25/50\n",
            "20/20 [==============================] - 0s 4ms/step - loss: 0.5708 - accuracy: 0.7141 - precision: 0.7196 - recall: 0.7016\n",
            "Epoch 26/50\n",
            "20/20 [==============================] - 0s 4ms/step - loss: 0.5691 - accuracy: 0.7055 - precision: 0.7303 - recall: 0.6516\n",
            "Epoch 27/50\n",
            "20/20 [==============================] - 0s 4ms/step - loss: 0.5735 - accuracy: 0.6977 - precision: 0.7024 - recall: 0.6859\n",
            "Epoch 28/50\n",
            "20/20 [==============================] - 0s 4ms/step - loss: 0.5522 - accuracy: 0.7305 - precision: 0.7530 - recall: 0.6859\n",
            "Epoch 29/50\n",
            "20/20 [==============================] - 0s 4ms/step - loss: 0.5572 - accuracy: 0.7180 - precision: 0.7170 - recall: 0.7203\n",
            "Epoch 30/50\n",
            "20/20 [==============================] - 0s 4ms/step - loss: 0.5570 - accuracy: 0.7180 - precision: 0.7385 - recall: 0.6750\n",
            "Epoch 31/50\n",
            "20/20 [==============================] - 0s 4ms/step - loss: 0.5548 - accuracy: 0.7164 - precision: 0.7274 - recall: 0.6922\n",
            "Epoch 32/50\n",
            "20/20 [==============================] - 0s 4ms/step - loss: 0.5442 - accuracy: 0.7375 - precision: 0.7533 - recall: 0.7063\n",
            "Epoch 33/50\n",
            "20/20 [==============================] - 0s 4ms/step - loss: 0.5478 - accuracy: 0.7273 - precision: 0.7343 - recall: 0.7125\n",
            "Epoch 34/50\n",
            "20/20 [==============================] - 0s 4ms/step - loss: 0.5627 - accuracy: 0.7242 - precision: 0.7239 - recall: 0.7250\n",
            "Epoch 35/50\n",
            "20/20 [==============================] - 0s 4ms/step - loss: 0.5386 - accuracy: 0.7359 - precision: 0.7435 - recall: 0.7203\n",
            "Epoch 36/50\n",
            "20/20 [==============================] - 0s 4ms/step - loss: 0.5344 - accuracy: 0.7344 - precision: 0.7483 - recall: 0.7063\n",
            "Epoch 37/50\n",
            "20/20 [==============================] - 0s 4ms/step - loss: 0.5348 - accuracy: 0.7359 - precision: 0.7374 - recall: 0.7328\n",
            "Epoch 38/50\n",
            "20/20 [==============================] - 0s 4ms/step - loss: 0.5333 - accuracy: 0.7422 - precision: 0.7460 - recall: 0.7344\n",
            "Epoch 39/50\n",
            "20/20 [==============================] - 0s 4ms/step - loss: 0.5421 - accuracy: 0.7367 - precision: 0.7371 - recall: 0.7359\n",
            "Epoch 40/50\n",
            "20/20 [==============================] - 0s 4ms/step - loss: 0.5310 - accuracy: 0.7398 - precision: 0.7615 - recall: 0.6984\n",
            "Epoch 41/50\n",
            "20/20 [==============================] - 0s 4ms/step - loss: 0.5309 - accuracy: 0.7484 - precision: 0.7548 - recall: 0.7359\n",
            "Epoch 42/50\n",
            "20/20 [==============================] - 0s 4ms/step - loss: 0.5240 - accuracy: 0.7547 - precision: 0.7539 - recall: 0.7563\n",
            "Epoch 43/50\n",
            "20/20 [==============================] - 0s 4ms/step - loss: 0.5248 - accuracy: 0.7461 - precision: 0.7612 - recall: 0.7172\n",
            "Epoch 44/50\n",
            "20/20 [==============================] - 0s 4ms/step - loss: 0.5354 - accuracy: 0.7258 - precision: 0.7290 - recall: 0.7188\n",
            "Epoch 45/50\n",
            "20/20 [==============================] - 0s 4ms/step - loss: 0.5372 - accuracy: 0.7430 - precision: 0.7587 - recall: 0.7125\n",
            "Epoch 46/50\n",
            "20/20 [==============================] - 0s 4ms/step - loss: 0.5282 - accuracy: 0.7469 - precision: 0.7500 - recall: 0.7406\n",
            "Epoch 47/50\n",
            "20/20 [==============================] - 0s 4ms/step - loss: 0.5619 - accuracy: 0.7180 - precision: 0.7276 - recall: 0.6969\n",
            "Epoch 48/50\n",
            "20/20 [==============================] - 0s 4ms/step - loss: 0.5233 - accuracy: 0.7422 - precision: 0.7524 - recall: 0.7219\n",
            "Epoch 49/50\n",
            "20/20 [==============================] - 0s 4ms/step - loss: 0.5421 - accuracy: 0.7430 - precision: 0.7520 - recall: 0.7250\n",
            "Epoch 50/50\n",
            "20/20 [==============================] - 0s 4ms/step - loss: 0.5221 - accuracy: 0.7477 - precision: 0.7611 - recall: 0.7219\n",
            "\n",
            "Train Elapsed Time :  6.002892732620239 sec or  0.10004821221033731 min\n"
          ]
        }
      ]
    },
    {
      "cell_type": "code",
      "source": [
        "model.evaluate(X_test_embedding_squeezed, y_test.deceptive)"
      ],
      "metadata": {
        "id": "XUNBOXNFWNcA",
        "colab": {
          "base_uri": "https://localhost:8080/"
        },
        "outputId": "b6060d54-3787-401a-f6ed-44864b0b630d"
      },
      "execution_count": 31,
      "outputs": [
        {
          "output_type": "stream",
          "name": "stdout",
          "text": [
            "10/10 [==============================] - 0s 7ms/step - loss: 0.5165 - accuracy: 0.7531 - precision: 0.7832 - recall: 0.7000\n"
          ]
        },
        {
          "output_type": "execute_result",
          "data": {
            "text/plain": [
              "[0.5164785385131836, 0.753125011920929, 0.7832167744636536, 0.699999988079071]"
            ]
          },
          "metadata": {},
          "execution_count": 31
        }
      ]
    },
    {
      "cell_type": "code",
      "source": [
        "y_predicted = model.predict(X_test_embedding_squeezed)\n",
        "y_predicted = y_predicted.flatten()"
      ],
      "metadata": {
        "id": "XuDQb-dWWSC8",
        "colab": {
          "base_uri": "https://localhost:8080/"
        },
        "outputId": "99e20453-aaec-4711-ef46-61a394e90635"
      },
      "execution_count": 32,
      "outputs": [
        {
          "output_type": "stream",
          "name": "stdout",
          "text": [
            "10/10 [==============================] - 0s 5ms/step\n"
          ]
        }
      ]
    },
    {
      "cell_type": "code",
      "source": [
        "y_predicted = np.where(y_predicted > 0.5, 1, 0)\n",
        "y_predicted"
      ],
      "metadata": {
        "id": "QnohzFuOWR78",
        "colab": {
          "base_uri": "https://localhost:8080/"
        },
        "outputId": "17ee34fa-1779-4d11-f273-87ee613505e3"
      },
      "execution_count": 33,
      "outputs": [
        {
          "output_type": "execute_result",
          "data": {
            "text/plain": [
              "array([0, 1, 0, 1, 1, 1, 0, 1, 1, 1, 0, 0, 1, 0, 1, 1, 0, 1, 1, 1, 1, 1,\n",
              "       1, 0, 0, 0, 0, 0, 0, 0, 1, 0, 0, 1, 0, 0, 1, 1, 1, 0, 0, 0, 1, 0,\n",
              "       1, 0, 1, 0, 0, 1, 0, 0, 0, 1, 0, 1, 0, 0, 0, 1, 1, 1, 0, 0, 0, 0,\n",
              "       1, 0, 1, 0, 1, 1, 0, 1, 0, 1, 1, 0, 1, 0, 0, 0, 0, 0, 1, 1, 0, 0,\n",
              "       1, 1, 0, 0, 1, 0, 1, 1, 0, 1, 0, 0, 0, 0, 0, 1, 0, 0, 0, 0, 1, 0,\n",
              "       0, 0, 0, 1, 1, 0, 1, 1, 1, 0, 1, 0, 1, 0, 0, 1, 0, 1, 0, 1, 1, 0,\n",
              "       0, 1, 1, 0, 0, 0, 0, 1, 0, 0, 1, 1, 1, 1, 1, 1, 0, 0, 0, 0, 0, 0,\n",
              "       0, 0, 1, 0, 0, 0, 0, 1, 0, 0, 0, 1, 0, 0, 0, 1, 0, 1, 0, 0, 1, 1,\n",
              "       1, 1, 1, 0, 0, 0, 0, 0, 1, 0, 1, 1, 0, 0, 1, 0, 0, 0, 0, 0, 0, 1,\n",
              "       1, 1, 1, 1, 1, 0, 1, 1, 1, 0, 0, 0, 1, 0, 0, 0, 0, 0, 0, 1, 1, 1,\n",
              "       0, 0, 0, 0, 1, 1, 0, 0, 0, 1, 0, 0, 1, 0, 1, 0, 0, 1, 1, 0, 1, 0,\n",
              "       0, 1, 1, 1, 0, 1, 0, 1, 0, 0, 0, 0, 1, 0, 0, 1, 1, 1, 1, 1, 1, 1,\n",
              "       1, 1, 1, 1, 1, 0, 1, 1, 1, 1, 0, 0, 0, 1, 1, 1, 0, 1, 0, 0, 0, 0,\n",
              "       0, 1, 1, 0, 1, 0, 1, 1, 0, 1, 0, 0, 0, 0, 1, 0, 0, 0, 0, 0, 0, 1,\n",
              "       0, 1, 0, 1, 0, 0, 1, 0, 1, 1, 1, 0])"
            ]
          },
          "metadata": {},
          "execution_count": 33
        }
      ]
    },
    {
      "cell_type": "code",
      "source": [
        "from sklearn.metrics import confusion_matrix, classification_report\n",
        "\n",
        "cm = confusion_matrix(y_test.deceptive, y_predicted)\n",
        "cm"
      ],
      "metadata": {
        "id": "UcZz7hABWRzc",
        "colab": {
          "base_uri": "https://localhost:8080/"
        },
        "outputId": "5c68c25d-39c3-48fe-ca94-8d74e5a79dc2"
      },
      "execution_count": 34,
      "outputs": [
        {
          "output_type": "execute_result",
          "data": {
            "text/plain": [
              "array([[129,  31],\n",
              "       [ 48, 112]])"
            ]
          },
          "metadata": {},
          "execution_count": 34
        }
      ]
    },
    {
      "cell_type": "code",
      "source": [
        "from matplotlib import pyplot as plt\n",
        "import seaborn as sn\n",
        "sn.heatmap(cm, annot=True, fmt='d')\n",
        "plt.xlabel('Predicted')\n",
        "plt.ylabel('Truth')"
      ],
      "metadata": {
        "id": "0O27kT2MWZOg",
        "colab": {
          "base_uri": "https://localhost:8080/",
          "height": 467
        },
        "outputId": "86401c4f-f9d5-4330-82b5-5e6006e02f60"
      },
      "execution_count": 35,
      "outputs": [
        {
          "output_type": "execute_result",
          "data": {
            "text/plain": [
              "Text(50.722222222222214, 0.5, 'Truth')"
            ]
          },
          "metadata": {},
          "execution_count": 35
        },
        {
          "output_type": "display_data",
          "data": {
            "text/plain": [
              "<Figure size 640x480 with 2 Axes>"
            ],
            "image/png": "[encoded data removed]"
          },
          "metadata": {}
        }
      ]
    },
    {
      "cell_type": "code",
      "source": [
        "print(classification_report(y_test.deceptive, y_predicted))"
      ],
      "metadata": {
        "id": "0BzW34kQWbCM",
        "colab": {
          "base_uri": "https://localhost:8080/"
        },
        "outputId": "05dde86e-3937-4f12-9c15-9a55d178e859"
      },
      "execution_count": 36,
      "outputs": [
        {
          "output_type": "stream",
          "name": "stdout",
          "text": [
            "              precision    recall  f1-score   support\n",
            "\n",
            "           0       0.73      0.81      0.77       160\n",
            "           1       0.78      0.70      0.74       160\n",
            "\n",
            "    accuracy                           0.75       320\n",
            "   macro avg       0.76      0.75      0.75       320\n",
            "weighted avg       0.76      0.75      0.75       320\n",
            "\n"
          ]
        }
      ]
    },
    {
      "cell_type": "code",
      "source": [
        "import tensorflow as tf\n",
        "\n",
        "model = tf.keras.Sequential([\n",
        "    tf.keras.layers.LSTM(1280, input_shape=(50,768)),\n",
        "    tf.keras.layers.Dense(64, activation='relu'),\n",
        "    tf.keras.layers.Dense(32, activation='relu'),\n",
        "    tf.keras.layers.Dense(1, activation='sigmoid')\n",
        "])\n",
        "model.compile(loss='binary_crossentropy',\n",
        "              optimizer=tf.keras.optimizers.Adam(2e-5),\n",
        "              metrics=['accuracy'])\n",
        "print(model.summary())"
      ],
      "metadata": {
        "id": "5C054lusIS2u",
        "outputId": "0bd87453-7ee4-4538-c237-c9b6c783c557",
        "colab": {
          "base_uri": "https://localhost:8080/"
        }
      },
      "execution_count": 37,
      "outputs": [
        {
          "output_type": "stream",
          "name": "stdout",
          "text": [
            "Model: \"sequential_2\"\n",
            "_________________________________________________________________\n",
            " Layer (type)                Output Shape              Param #   \n",
            "=================================================================\n",
            " lstm (LSTM)                 (None, 1280)              10490880  \n",
            "                                                                 \n",
            " dense_6 (Dense)             (None, 64)                81984     \n",
            "                                                                 \n",
            " dense_7 (Dense)             (None, 32)                2080      \n",
            "                                                                 \n",
            " dense_8 (Dense)             (None, 1)                 33        \n",
            "                                                                 \n",
            "=================================================================\n",
            "Total params: 10,574,977\n",
            "Trainable params: 10,574,977\n",
            "Non-trainable params: 0\n",
            "_________________________________________________________________\n",
            "None\n"
          ]
        }
      ]
    },
    {
      "cell_type": "code",
      "source": [
        "startedTime = time.time()\n",
        "model.fit(X_train_embedding_squeezed,y_train.deceptive, epochs=50, batch_size=64, verbose=1)\n",
        "endTime= time.time()\n",
        "print(\"\\nTrain Elapsed Time : \", endTime - startedTime, \"sec or \",(endTime - startedTime)/60,\"min\")"
      ],
      "metadata": {
        "id": "3kylshAaIzcm",
        "outputId": "35490131-e3e4-4203-c610-02799fc7f797",
        "colab": {
          "base_uri": "https://localhost:8080/"
        }
      },
      "execution_count": 38,
      "outputs": [
        {
          "output_type": "stream",
          "name": "stdout",
          "text": [
            "Epoch 1/50\n",
            "20/20 [==============================] - 74s 4s/step - loss: 0.6927 - accuracy: 0.4953\n",
            "Epoch 2/50\n",
            "20/20 [==============================] - 72s 4s/step - loss: 0.6922 - accuracy: 0.5000\n",
            "Epoch 3/50\n",
            "20/20 [==============================] - 74s 4s/step - loss: 0.6914 - accuracy: 0.5000\n",
            "Epoch 4/50\n",
            "20/20 [==============================] - 72s 4s/step - loss: 0.6913 - accuracy: 0.5000\n",
            "Epoch 5/50\n",
            "20/20 [==============================] - 73s 4s/step - loss: 0.6909 - accuracy: 0.5000\n",
            "Epoch 6/50\n",
            "20/20 [==============================] - 71s 4s/step - loss: 0.6894 - accuracy: 0.5000\n",
            "Epoch 7/50\n",
            "20/20 [==============================] - 72s 4s/step - loss: 0.6797 - accuracy: 0.5219\n",
            "Epoch 8/50\n",
            "20/20 [==============================] - 73s 4s/step - loss: 0.6860 - accuracy: 0.5641\n",
            "Epoch 9/50\n",
            "20/20 [==============================] - 75s 4s/step - loss: 0.6756 - accuracy: 0.5891\n",
            "Epoch 10/50\n",
            "20/20 [==============================] - 73s 4s/step - loss: 0.6752 - accuracy: 0.5953\n",
            "Epoch 11/50\n",
            "20/20 [==============================] - 73s 4s/step - loss: 0.6547 - accuracy: 0.6289\n",
            "Epoch 12/50\n",
            "20/20 [==============================] - 72s 4s/step - loss: 0.6503 - accuracy: 0.6297\n",
            "Epoch 13/50\n",
            "20/20 [==============================] - 73s 4s/step - loss: 0.6342 - accuracy: 0.6391\n",
            "Epoch 14/50\n",
            "20/20 [==============================] - 71s 4s/step - loss: 0.6072 - accuracy: 0.6703\n",
            "Epoch 15/50\n",
            "20/20 [==============================] - 72s 4s/step - loss: 0.6112 - accuracy: 0.6602\n",
            "Epoch 16/50\n",
            "20/20 [==============================] - 73s 4s/step - loss: 0.5894 - accuracy: 0.6734\n",
            "Epoch 17/50\n",
            "20/20 [==============================] - 72s 4s/step - loss: 0.5921 - accuracy: 0.6797\n",
            "Epoch 18/50\n",
            "20/20 [==============================] - 74s 4s/step - loss: 0.5630 - accuracy: 0.7094\n",
            "Epoch 19/50\n",
            "20/20 [==============================] - 71s 4s/step - loss: 0.5479 - accuracy: 0.7195\n",
            "Epoch 20/50\n",
            "20/20 [==============================] - 72s 4s/step - loss: 0.5365 - accuracy: 0.7320\n",
            "Epoch 21/50\n",
            "20/20 [==============================] - 72s 4s/step - loss: 0.5345 - accuracy: 0.7375\n",
            "Epoch 22/50\n",
            "20/20 [==============================] - 72s 4s/step - loss: 0.5285 - accuracy: 0.7391\n",
            "Epoch 23/50\n",
            "20/20 [==============================] - 73s 4s/step - loss: 0.5371 - accuracy: 0.7383\n",
            "Epoch 24/50\n",
            "20/20 [==============================] - 73s 4s/step - loss: 0.5318 - accuracy: 0.7430\n",
            "Epoch 25/50\n",
            "20/20 [==============================] - 72s 4s/step - loss: 0.5297 - accuracy: 0.7328\n",
            "Epoch 26/50\n",
            "20/20 [==============================] - 73s 4s/step - loss: 0.5228 - accuracy: 0.7406\n",
            "Epoch 27/50\n",
            "20/20 [==============================] - 73s 4s/step - loss: 0.5059 - accuracy: 0.7602\n",
            "Epoch 28/50\n",
            "20/20 [==============================] - 73s 4s/step - loss: 0.5222 - accuracy: 0.7422\n",
            "Epoch 29/50\n",
            "20/20 [==============================] - 73s 4s/step - loss: 0.5224 - accuracy: 0.7563\n",
            "Epoch 30/50\n",
            "20/20 [==============================] - 73s 4s/step - loss: 0.5233 - accuracy: 0.7484\n",
            "Epoch 31/50\n",
            "20/20 [==============================] - 73s 4s/step - loss: 0.5187 - accuracy: 0.7430\n",
            "Epoch 32/50\n",
            "20/20 [==============================] - 73s 4s/step - loss: 0.4883 - accuracy: 0.7625\n",
            "Epoch 33/50\n",
            "20/20 [==============================] - 74s 4s/step - loss: 0.4875 - accuracy: 0.7711\n",
            "Epoch 34/50\n",
            "20/20 [==============================] - 71s 4s/step - loss: 0.4948 - accuracy: 0.7594\n",
            "Epoch 35/50\n",
            "20/20 [==============================] - 73s 4s/step - loss: 0.4973 - accuracy: 0.7609\n",
            "Epoch 36/50\n",
            "20/20 [==============================] - 73s 4s/step - loss: 0.5268 - accuracy: 0.7328\n",
            "Epoch 37/50\n",
            "20/20 [==============================] - 72s 4s/step - loss: 0.5026 - accuracy: 0.7523\n",
            "Epoch 38/50\n",
            "20/20 [==============================] - 74s 4s/step - loss: 0.4735 - accuracy: 0.7781\n",
            "Epoch 39/50\n",
            "20/20 [==============================] - 72s 4s/step - loss: 0.4740 - accuracy: 0.7789\n",
            "Epoch 40/50\n",
            "20/20 [==============================] - 73s 4s/step - loss: 0.4725 - accuracy: 0.7766\n",
            "Epoch 41/50\n",
            "20/20 [==============================] - 73s 4s/step - loss: 0.4699 - accuracy: 0.7672\n",
            "Epoch 42/50\n",
            "20/20 [==============================] - 71s 4s/step - loss: 0.4675 - accuracy: 0.7844\n",
            "Epoch 43/50\n",
            "20/20 [==============================] - 74s 4s/step - loss: 0.4574 - accuracy: 0.7969\n",
            "Epoch 44/50\n",
            "20/20 [==============================] - 72s 4s/step - loss: 0.4994 - accuracy: 0.7445\n",
            "Epoch 45/50\n",
            "20/20 [==============================] - 72s 4s/step - loss: 0.4907 - accuracy: 0.7695\n",
            "Epoch 46/50\n",
            "20/20 [==============================] - 74s 4s/step - loss: 0.5072 - accuracy: 0.7711\n",
            "Epoch 47/50\n",
            "20/20 [==============================] - 73s 4s/step - loss: 0.4510 - accuracy: 0.7898\n",
            "Epoch 48/50\n",
            "20/20 [==============================] - 75s 4s/step - loss: 0.4416 - accuracy: 0.7930\n",
            "Epoch 49/50\n",
            "20/20 [==============================] - 72s 4s/step - loss: 0.4555 - accuracy: 0.7836\n",
            "Epoch 50/50\n",
            "20/20 [==============================] - 74s 4s/step - loss: 0.4335 - accuracy: 0.7922\n",
            "\n",
            "Train Elapsed Time :  3683.960652589798 sec or  61.39934420982997 min\n"
          ]
        }
      ]
    },
    {
      "cell_type": "code",
      "source": [
        "model.evaluate(X_test_embedding_squeezed, y_test.deceptive)"
      ],
      "metadata": {
        "id": "HhthBLBAI6Lc",
        "outputId": "04cbd9f5-690d-443b-ff36-2feac4464df4",
        "colab": {
          "base_uri": "https://localhost:8080/"
        }
      },
      "execution_count": 39,
      "outputs": [
        {
          "output_type": "stream",
          "name": "stdout",
          "text": [
            "10/10 [==============================] - 6s 549ms/step - loss: 0.4769 - accuracy: 0.7812\n"
          ]
        },
        {
          "output_type": "execute_result",
          "data": {
            "text/plain": [
              "[0.47686848044395447, 0.78125]"
            ]
          },
          "metadata": {},
          "execution_count": 39
        }
      ]
    },
    {
      "cell_type": "code",
      "source": [
        "y_predicted = model.predict(X_test_embedding_squeezed)\n",
        "y_predicted = y_predicted.flatten()"
      ],
      "metadata": {
        "id": "tn_TVwvhI97_",
        "outputId": "5d61f8b2-178d-45d5-d688-9c995f81d6a6",
        "colab": {
          "base_uri": "https://localhost:8080/"
        }
      },
      "execution_count": 40,
      "outputs": [
        {
          "output_type": "stream",
          "name": "stdout",
          "text": [
            "10/10 [==============================] - 7s 664ms/step\n"
          ]
        }
      ]
    },
    {
      "cell_type": "code",
      "source": [
        "y_predicted = np.where(y_predicted > 0.5, 1, 0)\n",
        "y_predicted"
      ],
      "metadata": {
        "id": "qEFAklTzJA5i",
        "outputId": "768d6b48-00dc-45d9-de34-7c755dd1726f",
        "colab": {
          "base_uri": "https://localhost:8080/"
        }
      },
      "execution_count": 41,
      "outputs": [
        {
          "output_type": "execute_result",
          "data": {
            "text/plain": [
              "array([0, 1, 0, 1, 1, 1, 0, 1, 1, 1, 0, 0, 1, 0, 1, 1, 0, 1, 1, 0, 1, 1,\n",
              "       1, 0, 0, 0, 1, 0, 0, 0, 1, 0, 0, 1, 0, 0, 1, 1, 1, 0, 0, 0, 1, 0,\n",
              "       0, 0, 1, 0, 0, 1, 0, 1, 0, 1, 0, 1, 0, 0, 0, 1, 1, 1, 0, 0, 0, 0,\n",
              "       1, 0, 1, 0, 0, 1, 0, 0, 0, 1, 1, 0, 1, 0, 0, 0, 0, 0, 0, 1, 0, 0,\n",
              "       1, 1, 0, 0, 1, 0, 1, 0, 0, 1, 0, 0, 0, 0, 0, 1, 0, 1, 0, 0, 1, 0,\n",
              "       0, 0, 0, 0, 0, 0, 1, 1, 1, 0, 1, 0, 1, 0, 0, 1, 0, 1, 0, 1, 1, 0,\n",
              "       0, 0, 1, 0, 0, 0, 0, 1, 0, 0, 1, 1, 1, 0, 1, 1, 0, 0, 0, 0, 0, 0,\n",
              "       0, 0, 1, 0, 0, 0, 0, 0, 0, 0, 0, 0, 0, 0, 0, 1, 0, 1, 0, 0, 1, 1,\n",
              "       1, 1, 1, 0, 0, 0, 0, 0, 0, 0, 1, 1, 0, 0, 1, 0, 0, 0, 0, 0, 0, 1,\n",
              "       1, 1, 1, 1, 1, 0, 1, 1, 1, 0, 0, 0, 1, 0, 0, 0, 0, 1, 0, 0, 1, 1,\n",
              "       0, 0, 0, 0, 1, 1, 0, 0, 0, 1, 0, 0, 1, 0, 1, 0, 0, 1, 1, 0, 1, 0,\n",
              "       1, 1, 1, 1, 0, 1, 1, 1, 0, 0, 1, 1, 1, 0, 0, 1, 1, 1, 1, 1, 0, 1,\n",
              "       1, 1, 1, 1, 1, 0, 1, 1, 0, 1, 0, 0, 1, 0, 1, 1, 0, 1, 0, 0, 0, 0,\n",
              "       1, 1, 1, 0, 1, 0, 1, 0, 0, 0, 0, 1, 0, 0, 0, 0, 0, 0, 0, 0, 0, 1,\n",
              "       0, 1, 0, 1, 1, 0, 1, 0, 1, 0, 1, 0])"
            ]
          },
          "metadata": {},
          "execution_count": 41
        }
      ]
    },
    {
      "cell_type": "code",
      "source": [
        "from sklearn.metrics import confusion_matrix, classification_report\n",
        "\n",
        "cm = confusion_matrix(y_test.deceptive, y_predicted)\n",
        "cm"
      ],
      "metadata": {
        "id": "r59PqwaVJGS2",
        "outputId": "10459103-04a8-47ff-af6f-55b3a5b56a4f",
        "colab": {
          "base_uri": "https://localhost:8080/"
        }
      },
      "execution_count": 42,
      "outputs": [
        {
          "output_type": "execute_result",
          "data": {
            "text/plain": [
              "array([[138,  22],\n",
              "       [ 48, 112]])"
            ]
          },
          "metadata": {},
          "execution_count": 42
        }
      ]
    },
    {
      "cell_type": "code",
      "source": [
        "from matplotlib import pyplot as plt\n",
        "import seaborn as sn\n",
        "sn.heatmap(cm, annot=True, fmt='d')\n",
        "plt.xlabel('Predicted')\n",
        "plt.ylabel('Truth')"
      ],
      "metadata": {
        "id": "V9WvjH-bJIf_",
        "outputId": "fb879be9-f94b-4fd6-f96c-7d6e4e189ff2",
        "colab": {
          "base_uri": "https://localhost:8080/",
          "height": 467
        }
      },
      "execution_count": 43,
      "outputs": [
        {
          "output_type": "execute_result",
          "data": {
            "text/plain": [
              "Text(50.722222222222214, 0.5, 'Truth')"
            ]
          },
          "metadata": {},
          "execution_count": 43
        },
        {
          "output_type": "display_data",
          "data": {
            "text/plain": [
              "<Figure size 640x480 with 2 Axes>"
            ],
            "image/png": "[encoded data removed]"
          },
          "metadata": {}
        }
      ]
    },
    {
      "cell_type": "code",
      "source": [
        "print(classification_report(y_test.deceptive, y_predicted))"
      ],
      "metadata": {
        "id": "lO9yLr29JLHk",
        "outputId": "05f56e15-5fd3-41cd-b646-4ca0486eff3e",
        "colab": {
          "base_uri": "https://localhost:8080/"
        }
      },
      "execution_count": 44,
      "outputs": [
        {
          "output_type": "stream",
          "name": "stdout",
          "text": [
            "              precision    recall  f1-score   support\n",
            "\n",
            "           0       0.74      0.86      0.80       160\n",
            "           1       0.84      0.70      0.76       160\n",
            "\n",
            "    accuracy                           0.78       320\n",
            "   macro avg       0.79      0.78      0.78       320\n",
            "weighted avg       0.79      0.78      0.78       320\n",
            "\n"
          ]
        }
      ]
    }
  ]
}